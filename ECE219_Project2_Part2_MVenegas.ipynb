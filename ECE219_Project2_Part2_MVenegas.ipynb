{
  "cells": [
    {
      "cell_type": "code",
      "execution_count": null,
      "metadata": {
        "id": "AZ_p4IHyshVj"
      },
      "outputs": [],
      "source": [
        "import torch\n",
        "import torch.nn as nn\n",
        "from torchvision import transforms, datasets\n",
        "from torch.utils.data import DataLoader, TensorDataset\n",
        "import numpy as np\n",
        "import matplotlib.pyplot as plt\n",
        "\n",
        "from tqdm import tqdm\n",
        "import requests\n",
        "import os\n",
        "import tarfile\n",
        "\n",
        "from sklearn.preprocessing import StandardScaler\n",
        "from sklearn.decomposition import PCA\n",
        "from sklearn.cluster import KMeans\n",
        "from sklearn.metrics import confusion_matrix, adjusted_rand_score, adjusted_mutual_info_score\n",
        "from sklearn.pipeline import Pipeline\n",
        "from sklearn.base import TransformerMixin\n"
      ]
    },
    {
      "cell_type": "markdown",
      "metadata": {
        "id": "YYT8jCxe6aT-"
      },
      "source": [
        "# Flowers Dataset and VGG Features"
      ]
    },
    {
      "cell_type": "markdown",
      "metadata": {
        "id": "bvVCI1zQ6aUA"
      },
      "source": [
        "![image.png](attachment:image.png)"
      ]
    },
    {
      "cell_type": "code",
      "execution_count": null,
      "metadata": {
        "id": "tAE8QD1BQ3O-",
        "colab": {
          "base_uri": "https://localhost:8080/",
          "height": 197,
          "referenced_widgets": [
            "e5714dd94d38446c8646b637dba18ac9",
            "add3a957da7645ca9c0dd510f21f12f7",
            "a83559c875f44619a3789be0975a2768",
            "48fe943cde61470f8827de2f4135b60c",
            "f76327e4c6a944d9b02043f2b36ab804",
            "25dac7f9432745429c9fdced05a7dfa0",
            "c300f2c5832b4307880d1ad20b7b29df",
            "3e26cb04e28a4800983c6a602603941a",
            "ab26bd83880040bb9b8afb17dda31762",
            "2dcaf4bc3c8942689aa32dae8f53332b",
            "8dc93a02e8ce44159c3571e8c973b59d"
          ]
        },
        "outputId": "4b8c961a-2ba9-4344-b5bf-8b765cae770d"
      },
      "outputs": [
        {
          "output_type": "stream",
          "name": "stderr",
          "text": [
            "Downloading: \"https://github.com/pytorch/vision/zipball/v0.10.0\" to /root/.cache/torch/hub/v0.10.0.zip\n",
            "/usr/local/lib/python3.8/dist-packages/torchvision/models/_utils.py:208: UserWarning: The parameter 'pretrained' is deprecated since 0.13 and may be removed in the future, please use 'weights' instead.\n",
            "  warnings.warn(\n",
            "/usr/local/lib/python3.8/dist-packages/torchvision/models/_utils.py:223: UserWarning: Arguments other than a weight enum or `None` for 'weights' are deprecated since 0.13 and may be removed in the future. The current behavior is equivalent to passing `weights=VGG16_Weights.IMAGENET1K_V1`. You can also use `weights=VGG16_Weights.DEFAULT` to get the most up-to-date weights.\n",
            "  warnings.warn(msg)\n",
            "Downloading: \"https://download.pytorch.org/models/vgg16-397923af.pth\" to /root/.cache/torch/hub/checkpoints/vgg16-397923af.pth\n"
          ]
        },
        {
          "output_type": "display_data",
          "data": {
            "text/plain": [
              "  0%|          | 0.00/528M [00:00<?, ?B/s]"
            ],
            "application/vnd.jupyter.widget-view+json": {
              "version_major": 2,
              "version_minor": 0,
              "model_id": "e5714dd94d38446c8646b637dba18ac9"
            }
          },
          "metadata": {}
        },
        {
          "output_type": "stream",
          "name": "stderr",
          "text": [
            "100%|██████████| 58/58 [00:42<00:00,  1.36it/s]\n"
          ]
        }
      ],
      "source": [
        "filename = './flowers_features_and_labels.npz'\n",
        "\n",
        "if os.path.exists(filename):\n",
        "    file = np.load(filename)\n",
        "    f_all, y_all = file['f_all'], file['y_all']\n",
        "\n",
        "else:\n",
        "    if not os.path.exists('./flower_photos'):\n",
        "        # download the flowers dataset and extract its images\n",
        "        url = 'http://download.tensorflow.org/example_images/flower_photos.tgz'\n",
        "        with open('./flower_photos.tgz', 'wb') as file:\n",
        "            file.write(requests.get(url).content)\n",
        "        with tarfile.open('./flower_photos.tgz') as file:\n",
        "            file.extractall('./')\n",
        "        os.remove('./flower_photos.tgz')\n",
        "\n",
        "    class FeatureExtractor(nn.Module):\n",
        "        def __init__(self):\n",
        "            super().__init__()\n",
        "\n",
        "            vgg = torch.hub.load('pytorch/vision:v0.10.0', 'vgg16', pretrained=True)\n",
        "\n",
        "            # Extract VGG-16 Feature Layers\n",
        "            self.features = list(vgg.features)\n",
        "            self.features = nn.Sequential(*self.features)\n",
        "            # Extract VGG-16 Average Pooling Layer\n",
        "            self.pooling = vgg.avgpool\n",
        "            # Convert the image into one-dimensional vector\n",
        "            self.flatten = nn.Flatten()\n",
        "            # Extract the first part of fully-connected layer from VGG16\n",
        "            self.fc = vgg.classifier[0]\n",
        "\n",
        "        def forward(self, x):\n",
        "            # It will take the input 'x' until it returns the feature vector called 'out'\n",
        "            out = self.features(x)\n",
        "            out = self.pooling(out)\n",
        "            out = self.flatten(out)\n",
        "            out = self.fc(out) \n",
        "            return out \n",
        "\n",
        "    # Initialize the model\n",
        "    assert torch.cuda.is_available()\n",
        "    feature_extractor = FeatureExtractor().cuda().eval()\n",
        "\n",
        "    dataset = datasets.ImageFolder(root='./flower_photos',\n",
        "                                   transform=transforms.Compose([transforms.Resize(224),\n",
        "                                                                 transforms.CenterCrop(224),\n",
        "                                                                 transforms.ToTensor(),\n",
        "                                                                 transforms.Normalize(mean=[0.485, 0.456, 0.406], std=[0.229, 0.224, 0.225])]))\n",
        "    dataloader = DataLoader(dataset, batch_size=64, shuffle=True)\n",
        "\n",
        "    # Extract features and store them on disk\n",
        "    f_all, y_all = np.zeros((0, 4096)), np.zeros((0,))\n",
        "    for x, y in tqdm(dataloader):\n",
        "        with torch.no_grad():\n",
        "            f_all = np.vstack([f_all, feature_extractor(x.cuda()).cpu()])\n",
        "            y_all = np.concatenate([y_all, y])\n",
        "    np.savez(filename, f_all=f_all, y_all=y_all)"
      ]
    },
    {
      "cell_type": "code",
      "source": [
        "import scipy\n",
        "scipy.sparse.issparse(f_all)"
      ],
      "metadata": {
        "colab": {
          "base_uri": "https://localhost:8080/"
        },
        "id": "NfWFB9lRAvYx",
        "outputId": "8928e1c3-ae88-4c0e-db5f-394846c8b87b"
      },
      "execution_count": null,
      "outputs": [
        {
          "output_type": "execute_result",
          "data": {
            "text/plain": [
              "False"
            ]
          },
          "metadata": {},
          "execution_count": 5
        }
      ]
    },
    {
      "cell_type": "code",
      "source": [
        "f_all"
      ],
      "metadata": {
        "id": "8p70laW1A5EW",
        "outputId": "ffde2453-b33f-4a79-d2e1-2e87c3f77769",
        "colab": {
          "base_uri": "https://localhost:8080/"
        }
      },
      "execution_count": null,
      "outputs": [
        {
          "output_type": "execute_result",
          "data": {
            "text/plain": [
              "array([[-2.80316663, -2.75858927, -1.85059488, ..., -3.68159294,\n",
              "         2.2887187 , -0.06022811],\n",
              "       [-0.43915609,  0.03041166,  1.6122117 , ..., -3.72905087,\n",
              "        -1.91476536, -2.32046223],\n",
              "       [-2.66422653, -1.4850831 , -1.08928919, ..., -1.12573397,\n",
              "        -0.14623994,  1.70590079],\n",
              "       ...,\n",
              "       [-0.48330939, -3.99659586,  3.89438701, ..., -5.0488205 ,\n",
              "         1.52318549, -3.94225597],\n",
              "       [ 1.07260156, -0.66473222,  2.13156581, ..., -3.22082138,\n",
              "         0.14532563,  0.67761904],\n",
              "       [-1.71976674,  0.9036842 , -0.18791535, ..., -5.29169655,\n",
              "        -1.00260162,  3.04216123]])"
            ]
          },
          "metadata": {},
          "execution_count": 6
        }
      ]
    },
    {
      "cell_type": "code",
      "execution_count": null,
      "metadata": {
        "colab": {
          "base_uri": "https://localhost:8080/"
        },
        "id": "PoKiVC6bT0I3",
        "outputId": "0acf485b-58c7-4cf8-952e-66638b4fefb0"
      },
      "outputs": [
        {
          "output_type": "stream",
          "name": "stdout",
          "text": [
            "(3670, 4096) (3670,)\n"
          ]
        }
      ],
      "source": [
        "print(f_all.shape, y_all.shape)\n",
        "num_features = f_all.shape[1]"
      ]
    },
    {
      "cell_type": "code",
      "execution_count": null,
      "metadata": {
        "colab": {
          "base_uri": "https://localhost:8080/",
          "height": 283
        },
        "id": "ehvIPDEhkr1Y",
        "outputId": "aee10c7e-4822-4d75-a675-8d8be0892f98"
      },
      "outputs": [
        {
          "output_type": "execute_result",
          "data": {
            "text/plain": [
              "<matplotlib.collections.PathCollection at 0x7f0d26c841f0>"
            ]
          },
          "metadata": {},
          "execution_count": 5
        },
        {
          "output_type": "display_data",
          "data": {
            "text/plain": [
              "<Figure size 432x288 with 1 Axes>"
            ],
            "image/png": "[encoded data removed]"
          },
          "metadata": {
            "needs_background": "light"
          }
        }
      ],
      "source": [
        "f_pca = PCA(n_components=2).fit_transform(f_all)\n",
        "plt.scatter(*f_pca.T, c=y_all)"
      ]
    },
    {
      "cell_type": "markdown",
      "metadata": {
        "id": "PZYUJAim6aUH"
      },
      "source": [
        "# MLP Classifier"
      ]
    },
    {
      "cell_type": "code",
      "execution_count": null,
      "metadata": {
        "id": "sshuBnzj6aUI"
      },
      "outputs": [],
      "source": [
        "class MLP(torch.nn.Module):\n",
        "    def __init__(self, num_features):\n",
        "        super().__init__()\n",
        "        self.model = nn.Sequential(\n",
        "            nn.Linear(num_features, 1280),\n",
        "            nn.ReLU(True),\n",
        "            nn.Linear(1280, 640),\n",
        "            nn.ReLU(True), \n",
        "            nn.Linear(640, 5),\n",
        "            nn.LogSoftmax(dim=1)\n",
        "        )\n",
        "        self.cuda()\n",
        "    \n",
        "    \n",
        "    def forward(self, X):\n",
        "        return self.model(X)\n",
        "    \n",
        "    def train(self, X, y):\n",
        "        X = torch.tensor(X, dtype=torch.float32, device='cuda')\n",
        "        y = torch.tensor(y, dtype=torch.int64, device='cuda')\n",
        "\n",
        "        self.model.train()\n",
        "        \n",
        "        criterion = nn.NLLLoss()\n",
        "        optimizer = torch.optim.Adam(self.parameters(), lr=1e-3, weight_decay=1e-5)\n",
        "\n",
        "        dataset = TensorDataset(X, y)\n",
        "        dataloader = DataLoader(dataset, batch_size=128, shuffle=True)\n",
        "\n",
        "        for epoch in tqdm(range(100)):\n",
        "            for (X_, y_) in dataloader:\n",
        "              optimizer.zero_grad()\n",
        "              outputs = self.foward(X_)\n",
        "              loss = criterion(outputs, y_)\n",
        "              loss.backward()\n",
        "              optimizer.step()\n",
        "\n",
        "        return self\n",
        "    \n",
        "    def eval(self, X_test, y_test):\n",
        "      criterion = nn.NLLLoss()\n",
        "      loss = criterion(X_test, y_test)\n",
        "      return loss"
      ]
    },
    {
      "cell_type": "markdown",
      "metadata": {
        "id": "TpUojmW_6aUI"
      },
      "source": [
        "# Autoencoder"
      ]
    },
    {
      "cell_type": "code",
      "execution_count": null,
      "metadata": {
        "id": "Kd-bryaBVBtP"
      },
      "outputs": [],
      "source": [
        "class Autoencoder(torch.nn.Module, TransformerMixin):\n",
        "    def __init__(self, n_components):\n",
        "        super().__init__()\n",
        "        self.n_components = n_components\n",
        "        self.n_features = None  # to be determined with data\n",
        "        self.encoder = None\n",
        "        self.decoder = None\n",
        "        \n",
        "    def _create_encoder(self):\n",
        "        return nn.Sequential(\n",
        "            nn.Linear(4096, 1280),\n",
        "            nn.ReLU(True),\n",
        "            nn.Linear(1280, 640),\n",
        "            nn.ReLU(True), nn.Linear(640, 120), nn.ReLU(True), nn.Linear(120, self.n_components))\n",
        "    \n",
        "    def _create_decoder(self):\n",
        "        return nn.Sequential(\n",
        "            nn.Linear(self.n_components, 120),\n",
        "            nn.ReLU(True),\n",
        "            nn.Linear(120, 640),\n",
        "            nn.ReLU(True),\n",
        "            nn.Linear(640, 1280),\n",
        "            nn.ReLU(True), nn.Linear(1280, 4096))\n",
        "    \n",
        "    def forward(self, X):\n",
        "        encoded = self.encoder(X)\n",
        "        decoded = self.decoder(encoded)\n",
        "        return decoded\n",
        "    \n",
        "    def fit(self, X):\n",
        "        X = torch.tensor(X, dtype=torch.float32, device='cuda')\n",
        "        self.n_features = X.shape[1]\n",
        "        self.encoder = self._create_encoder()\n",
        "        self.decoder = self._create_decoder()\n",
        "        self.cuda()\n",
        "        self.train()\n",
        "        \n",
        "        criterion = nn.MSELoss()\n",
        "        optimizer = torch.optim.Adam(self.parameters(), lr=1e-3, weight_decay=1e-5)\n",
        "\n",
        "        dataset = TensorDataset(X)\n",
        "        dataloader = DataLoader(dataset, batch_size=128, shuffle=True)\n",
        "\n",
        "        for epoch in tqdm(range(100)):\n",
        "            for (X_,) in dataloader:\n",
        "                X_ = X_.cuda()\n",
        "                # ===================forward=====================\n",
        "                output = self(X_)\n",
        "                loss = criterion(output, X_)\n",
        "                # ===================backward====================\n",
        "                optimizer.zero_grad()\n",
        "                loss.backward()\n",
        "                optimizer.step()\n",
        "\n",
        "        return self     \n",
        "        \n",
        "    def transform(self, X):\n",
        "        X = torch.tensor(X, dtype=torch.float32, device='cuda')\n",
        "        self.eval()\n",
        "        with torch.no_grad():\n",
        "            return self.encoder(X).cpu().numpy()"
      ]
    },
    {
      "cell_type": "code",
      "execution_count": null,
      "metadata": {
        "colab": {
          "base_uri": "https://localhost:8080/",
          "height": 301
        },
        "id": "VHidNS5O6aUK",
        "outputId": "11ac82e6-e50a-42a0-d879-c7a28d4a29c9"
      },
      "outputs": [
        {
          "output_type": "stream",
          "name": "stderr",
          "text": [
            "100%|██████████| 100/100 [00:22<00:00,  4.42it/s]\n"
          ]
        },
        {
          "output_type": "execute_result",
          "data": {
            "text/plain": [
              "<matplotlib.collections.PathCollection at 0x7f0d26177e80>"
            ]
          },
          "metadata": {},
          "execution_count": 8
        },
        {
          "output_type": "display_data",
          "data": {
            "text/plain": [
              "<Figure size 432x288 with 1 Axes>"
            ],
            "image/png": "[encoded data removed]"
          },
          "metadata": {
            "needs_background": "light"
          }
        }
      ],
      "source": [
        "X_em =Autoencoder(2).fit_transform(f_all)\n",
        "plt.scatter(*X_em.T, c=y_all)"
      ]
    },
    {
      "cell_type": "code",
      "source": [
        "from sklearn.manifold import TSNE\n",
        "embedding = TSNE(n_components=2, learning_rate='auto',init='random').fit_transform(f_all)\n",
        "print(embedding.shape)"
      ],
      "metadata": {
        "colab": {
          "base_uri": "https://localhost:8080/"
        },
        "id": "MlZ1daXHs-IV",
        "outputId": "4d9bb3fd-ab4f-40c4-b26b-399c394c6b11"
      },
      "execution_count": null,
      "outputs": [
        {
          "output_type": "stream",
          "name": "stdout",
          "text": [
            "(3670, 2)\n"
          ]
        }
      ]
    },
    {
      "cell_type": "code",
      "source": [
        "colors = []\n",
        "for y in y_all:\n",
        "  if y < 3:\n",
        "    colors.append(0)\n",
        "  else:\n",
        "    colors.append(1)\n",
        "  \n",
        "plt.scatter(embedding[:,0], embedding[:,1], c = colors)\n",
        "plt.title(\"t-SNE\")\n"
      ],
      "metadata": {
        "colab": {
          "base_uri": "https://localhost:8080/",
          "height": 299
        },
        "id": "RGscrhNc5Q2N",
        "outputId": "46f8322d-3718-4786-ed3c-8eb944b88e70"
      },
      "execution_count": null,
      "outputs": [
        {
          "output_type": "execute_result",
          "data": {
            "text/plain": [
              "Text(0.5, 1.0, 't-SNE')"
            ]
          },
          "metadata": {},
          "execution_count": 15
        },
        {
          "output_type": "display_data",
          "data": {
            "text/plain": [
              "<Figure size 432x288 with 1 Axes>"
            ],
            "image/png": "[encoded data removed]"
          },
          "metadata": {
            "needs_background": "light"
          }
        }
      ]
    },
    {
      "cell_type": "markdown",
      "source": [
        "Question #24"
      ],
      "metadata": {
        "id": "sRPax5ou59Sq"
      }
    },
    {
      "cell_type": "code",
      "source": [
        "!pip install umap-learn\n",
        "import umap.umap_ as umap"
      ],
      "metadata": {
        "colab": {
          "base_uri": "https://localhost:8080/"
        },
        "id": "t1LHPBt97QFo",
        "outputId": "7eb83eaf-a350-4bdc-ac25-16aafd5d1649"
      },
      "execution_count": null,
      "outputs": [
        {
          "output_type": "stream",
          "name": "stdout",
          "text": [
            "Looking in indexes: https://pypi.org/simple, https://us-python.pkg.dev/colab-wheels/public/simple/\n",
            "Collecting umap-learn\n",
            "  Downloading umap-learn-0.5.3.tar.gz (88 kB)\n",
            "\u001b[2K     \u001b[90m━━━━━━━━━━━━━━━━━━━━━━━━━━━━━━━━━━━━━━━━\u001b[0m \u001b[32m88.2/88.2 KB\u001b[0m \u001b[31m9.9 MB/s\u001b[0m eta \u001b[36m0:00:00\u001b[0m\n",
            "\u001b[?25h  Preparing metadata (setup.py) ... \u001b[?25l\u001b[?25hdone\n",
            "Requirement already satisfied: numpy>=1.17 in /usr/local/lib/python3.8/dist-packages (from umap-learn) (1.21.6)\n",
            "Requirement already satisfied: scikit-learn>=0.22 in /usr/local/lib/python3.8/dist-packages (from umap-learn) (1.0.2)\n",
            "Requirement already satisfied: scipy>=1.0 in /usr/local/lib/python3.8/dist-packages (from umap-learn) (1.7.3)\n",
            "Requirement already satisfied: numba>=0.49 in /usr/local/lib/python3.8/dist-packages (from umap-learn) (0.56.4)\n",
            "Collecting pynndescent>=0.5\n",
            "  Downloading pynndescent-0.5.8.tar.gz (1.1 MB)\n",
            "\u001b[2K     \u001b[90m━━━━━━━━━━━━━━━━━━━━━━━━━━━━━━━━━━━━━━━━\u001b[0m \u001b[32m1.1/1.1 MB\u001b[0m \u001b[31m66.2 MB/s\u001b[0m eta \u001b[36m0:00:00\u001b[0m\n",
            "\u001b[?25h  Preparing metadata (setup.py) ... \u001b[?25l\u001b[?25hdone\n",
            "Requirement already satisfied: tqdm in /usr/local/lib/python3.8/dist-packages (from umap-learn) (4.64.1)\n",
            "Requirement already satisfied: setuptools in /usr/local/lib/python3.8/dist-packages (from numba>=0.49->umap-learn) (57.4.0)\n",
            "Requirement already satisfied: importlib-metadata in /usr/local/lib/python3.8/dist-packages (from numba>=0.49->umap-learn) (6.0.0)\n",
            "Requirement already satisfied: llvmlite<0.40,>=0.39.0dev0 in /usr/local/lib/python3.8/dist-packages (from numba>=0.49->umap-learn) (0.39.1)\n",
            "Requirement already satisfied: joblib>=0.11 in /usr/local/lib/python3.8/dist-packages (from pynndescent>=0.5->umap-learn) (1.2.0)\n",
            "Requirement already satisfied: threadpoolctl>=2.0.0 in /usr/local/lib/python3.8/dist-packages (from scikit-learn>=0.22->umap-learn) (3.1.0)\n",
            "Requirement already satisfied: zipp>=0.5 in /usr/local/lib/python3.8/dist-packages (from importlib-metadata->numba>=0.49->umap-learn) (3.12.0)\n",
            "Building wheels for collected packages: umap-learn, pynndescent\n",
            "  Building wheel for umap-learn (setup.py) ... \u001b[?25l\u001b[?25hdone\n",
            "  Created wheel for umap-learn: filename=umap_learn-0.5.3-py3-none-any.whl size=82829 sha256=120daa4f4f899d8f73fb58b1b8ab364b3fbe42edb97791a523bf6669bebc96bb\n",
            "  Stored in directory: /root/.cache/pip/wheels/a9/3a/67/06a8950e053725912e6a8c42c4a3a241410f6487b8402542ea\n",
            "  Building wheel for pynndescent (setup.py) ... \u001b[?25l\u001b[?25hdone\n",
            "  Created wheel for pynndescent: filename=pynndescent-0.5.8-py3-none-any.whl size=55513 sha256=7e26283ff7b0a432faf871dc7edb0bb97961f0d96b66541df91cb112b55eb4c8\n",
            "  Stored in directory: /root/.cache/pip/wheels/1c/63/3a/29954bca1a27ba100ed8c27973a78cb71b43dc67aed62e80c3\n",
            "Successfully built umap-learn pynndescent\n",
            "Installing collected packages: pynndescent, umap-learn\n",
            "Successfully installed pynndescent-0.5.8 umap-learn-0.5.3\n"
          ]
        }
      ]
    },
    {
      "cell_type": "code",
      "source": [
        "import umap.umap_ as umap\n",
        "from sklearn.metrics import confusion_matrix\n",
        "from scipy.optimize import linear_sum_assignment\n",
        "from sklearn.cluster import KMeans,  AgglomerativeClustering, DBSCAN\n",
        "from sklearn.metrics.cluster import contingency_matrix, homogeneity_score, completeness_score, adjusted_rand_score, adjusted_mutual_info_score, v_measure_score\n",
        "from sklearn.feature_extraction.text import CountVectorizer, TfidfTransformer\n",
        "from sklearn.decomposition import TruncatedSVD, NMF"
      ],
      "metadata": {
        "id": "FXsLfWwy7prK"
      },
      "execution_count": null,
      "outputs": []
    },
    {
      "cell_type": "code",
      "source": [
        "svd = TruncatedSVD(n_components=50)\n",
        "umap_cos = umap.UMAP(n_components=50, metric='cosine')\n",
        "X_em =Autoencoder(50)\n",
        "\n",
        "kmeans = KMeans(n_clusters=5, max_iter = 5000, n_init = 30, random_state=0)\n",
        "agglo_ward = AgglomerativeClustering(n_clusters=5, linkage='ward')"
      ],
      "metadata": {
        "id": "R7nk57P45faL"
      },
      "execution_count": null,
      "outputs": []
    },
    {
      "cell_type": "code",
      "source": [
        "svd_f = svd.fit_transform(f_all)\n",
        "umap_cos_f = umap_cos.fit_transform(f_all)\n",
        "x_em_f = X_em.fit_transform(f_all)"
      ],
      "metadata": {
        "colab": {
          "base_uri": "https://localhost:8080/"
        },
        "id": "-DhUYOR48axN",
        "outputId": "298ae420-7647-4aa5-e5b4-f55e6032c2b2"
      },
      "execution_count": null,
      "outputs": [
        {
          "output_type": "stream",
          "name": "stderr",
          "text": [
            "100%|██████████| 100/100 [00:22<00:00,  4.46it/s]\n"
          ]
        }
      ]
    },
    {
      "cell_type": "code",
      "source": [
        "kmeans_svd = kmeans.fit(svd_f)\n",
        "kmeans_umap = kmeans.fit(umap_cos_f)\n",
        "kmeans_x_em = kmeans.fit(x_em_f)\n",
        "\n",
        "agglo_svd = agglo_ward.fit(svd_f)\n",
        "agglo_umap = agglo_ward.fit(umap_cos_f)\n",
        "agglo_x_em = agglo_ward.fit(x_em_f)"
      ],
      "metadata": {
        "id": "vHTFanNd-Xty"
      },
      "execution_count": null,
      "outputs": []
    },
    {
      "cell_type": "code",
      "source": [
        "print(\"SVD + Kmeans RAND SCORE : \", adjusted_rand_score(y_all, kmeans_svd.labels_))\n",
        "print(\"UMAP + Kmeans RAND SCORE : \", adjusted_rand_score(y_all, kmeans_umap.labels_))\n",
        "print(\"Auto Encoder + Kmeans RAND SCORE : \", adjusted_rand_score(y_all, kmeans_x_em.labels_))\n",
        "\n",
        "print(\"SVD + Agglo RAND SCORE : \", adjusted_rand_score(y_all, agglo_svd.labels_))\n",
        "print(\"UMAP + Agglo RAND SCORE : \", adjusted_rand_score(y_all, agglo_umap.labels_))\n",
        "print(\"Auto Encoder + Agglo RAND SCORE : \", adjusted_rand_score(y_all, agglo_x_em.labels_))"
      ],
      "metadata": {
        "colab": {
          "base_uri": "https://localhost:8080/"
        },
        "id": "vMTeRvO5AVIo",
        "outputId": "eafc0d8e-fcf6-474e-ac73-a55c51cb8d08"
      },
      "execution_count": null,
      "outputs": [
        {
          "output_type": "stream",
          "name": "stdout",
          "text": [
            "SVD + Kmeans RAND SCORE :  0.17562066429455486\n",
            "UMAP + Kmeans RAND SCORE :  0.17562066429455486\n",
            "Auto Encoder + Kmeans RAND SCORE :  0.17562066429455486\n",
            "SVD + Agglo RAND SCORE :  0.23059058817884576\n",
            "UMAP + Agglo RAND SCORE :  0.23059058817884576\n",
            "Auto Encoder + Agglo RAND SCORE :  0.23059058817884576\n"
          ]
        }
      ]
    },
    {
      "cell_type": "code",
      "source": [
        "eps_rec = []\n",
        "min_samples_rec = []\n",
        "db_hs = []\n",
        "db_cs = []\n",
        "db_vs = []\n",
        "db_ari = []\n",
        "db_ms = []\n",
        "\n",
        "eps = [0.01, 0.1,1.0,5.0,10.0,50.0]\n",
        "min_samples = [5,15,30,60,100,200,500]\n",
        "\n",
        "for ep in eps:\n",
        "    for samp in min_samples:\n",
        "      dbs = DBSCAN(eps=ep,min_samples=samp)\n",
        "      dbs_svd = agglo_ward.fit(svd_f)\n",
        "      dbs_umap = agglo_ward.fit(umap_cos_f)\n",
        "      dbs_x_em = agglo_ward.fit(x_em_f)\n",
        "      print(f'--- EP: {ep} & Min Sample = {samp}---')\n",
        "      print(\"SVD + DBSCAN RAND SCORE : \", adjusted_rand_score(y_all, dbs_svd.labels_))\n",
        "      print(\"UMAP + DBSCAN RAND SCORE : \", adjusted_rand_score(y_all, dbs_umap.labels_))\n",
        "      print(\"Auto Encoder + DBSCAN RAND SCORE : \", adjusted_rand_score(y_all, dbs_x_em.labels_))"
      ],
      "metadata": {
        "colab": {
          "base_uri": "https://localhost:8080/"
        },
        "id": "OZwOyv5PBNYK",
        "outputId": "54878def-c5c9-4a06-aa6b-ae7b49f6e40c"
      },
      "execution_count": null,
      "outputs": [
        {
          "output_type": "stream",
          "name": "stdout",
          "text": [
            "--- EP: 0.01 & Min Sample = 5---\n",
            "SVD + DBSCAN RAND SCORE :  0.23059058817884576\n",
            "UMAP + DBSCAN RAND SCORE :  0.23059058817884576\n",
            "Auto Encoder + DBSCAN RAND SCORE :  0.23059058817884576\n",
            "--- EP: 0.01 & Min Sample = 15---\n",
            "SVD + DBSCAN RAND SCORE :  0.23059058817884576\n",
            "UMAP + DBSCAN RAND SCORE :  0.23059058817884576\n",
            "Auto Encoder + DBSCAN RAND SCORE :  0.23059058817884576\n",
            "--- EP: 0.01 & Min Sample = 30---\n",
            "SVD + DBSCAN RAND SCORE :  0.23059058817884576\n",
            "UMAP + DBSCAN RAND SCORE :  0.23059058817884576\n",
            "Auto Encoder + DBSCAN RAND SCORE :  0.23059058817884576\n",
            "--- EP: 0.01 & Min Sample = 60---\n",
            "SVD + DBSCAN RAND SCORE :  0.23059058817884576\n",
            "UMAP + DBSCAN RAND SCORE :  0.23059058817884576\n",
            "Auto Encoder + DBSCAN RAND SCORE :  0.23059058817884576\n",
            "--- EP: 0.01 & Min Sample = 100---\n",
            "SVD + DBSCAN RAND SCORE :  0.23059058817884576\n",
            "UMAP + DBSCAN RAND SCORE :  0.23059058817884576\n",
            "Auto Encoder + DBSCAN RAND SCORE :  0.23059058817884576\n",
            "--- EP: 0.01 & Min Sample = 200---\n",
            "SVD + DBSCAN RAND SCORE :  0.23059058817884576\n",
            "UMAP + DBSCAN RAND SCORE :  0.23059058817884576\n",
            "Auto Encoder + DBSCAN RAND SCORE :  0.23059058817884576\n",
            "--- EP: 0.01 & Min Sample = 500---\n",
            "SVD + DBSCAN RAND SCORE :  0.23059058817884576\n",
            "UMAP + DBSCAN RAND SCORE :  0.23059058817884576\n",
            "Auto Encoder + DBSCAN RAND SCORE :  0.23059058817884576\n",
            "--- EP: 0.1 & Min Sample = 5---\n",
            "SVD + DBSCAN RAND SCORE :  0.23059058817884576\n",
            "UMAP + DBSCAN RAND SCORE :  0.23059058817884576\n",
            "Auto Encoder + DBSCAN RAND SCORE :  0.23059058817884576\n",
            "--- EP: 0.1 & Min Sample = 15---\n",
            "SVD + DBSCAN RAND SCORE :  0.23059058817884576\n",
            "UMAP + DBSCAN RAND SCORE :  0.23059058817884576\n",
            "Auto Encoder + DBSCAN RAND SCORE :  0.23059058817884576\n",
            "--- EP: 0.1 & Min Sample = 30---\n",
            "SVD + DBSCAN RAND SCORE :  0.23059058817884576\n",
            "UMAP + DBSCAN RAND SCORE :  0.23059058817884576\n",
            "Auto Encoder + DBSCAN RAND SCORE :  0.23059058817884576\n",
            "--- EP: 0.1 & Min Sample = 60---\n",
            "SVD + DBSCAN RAND SCORE :  0.23059058817884576\n",
            "UMAP + DBSCAN RAND SCORE :  0.23059058817884576\n",
            "Auto Encoder + DBSCAN RAND SCORE :  0.23059058817884576\n",
            "--- EP: 0.1 & Min Sample = 100---\n",
            "SVD + DBSCAN RAND SCORE :  0.23059058817884576\n",
            "UMAP + DBSCAN RAND SCORE :  0.23059058817884576\n",
            "Auto Encoder + DBSCAN RAND SCORE :  0.23059058817884576\n",
            "--- EP: 0.1 & Min Sample = 200---\n",
            "SVD + DBSCAN RAND SCORE :  0.23059058817884576\n",
            "UMAP + DBSCAN RAND SCORE :  0.23059058817884576\n",
            "Auto Encoder + DBSCAN RAND SCORE :  0.23059058817884576\n",
            "--- EP: 0.1 & Min Sample = 500---\n",
            "SVD + DBSCAN RAND SCORE :  0.23059058817884576\n",
            "UMAP + DBSCAN RAND SCORE :  0.23059058817884576\n",
            "Auto Encoder + DBSCAN RAND SCORE :  0.23059058817884576\n",
            "--- EP: 1.0 & Min Sample = 5---\n",
            "SVD + DBSCAN RAND SCORE :  0.23059058817884576\n",
            "UMAP + DBSCAN RAND SCORE :  0.23059058817884576\n",
            "Auto Encoder + DBSCAN RAND SCORE :  0.23059058817884576\n",
            "--- EP: 1.0 & Min Sample = 15---\n",
            "SVD + DBSCAN RAND SCORE :  0.23059058817884576\n",
            "UMAP + DBSCAN RAND SCORE :  0.23059058817884576\n",
            "Auto Encoder + DBSCAN RAND SCORE :  0.23059058817884576\n",
            "--- EP: 1.0 & Min Sample = 30---\n",
            "SVD + DBSCAN RAND SCORE :  0.23059058817884576\n",
            "UMAP + DBSCAN RAND SCORE :  0.23059058817884576\n",
            "Auto Encoder + DBSCAN RAND SCORE :  0.23059058817884576\n",
            "--- EP: 1.0 & Min Sample = 60---\n",
            "SVD + DBSCAN RAND SCORE :  0.23059058817884576\n",
            "UMAP + DBSCAN RAND SCORE :  0.23059058817884576\n",
            "Auto Encoder + DBSCAN RAND SCORE :  0.23059058817884576\n",
            "--- EP: 1.0 & Min Sample = 100---\n",
            "SVD + DBSCAN RAND SCORE :  0.23059058817884576\n",
            "UMAP + DBSCAN RAND SCORE :  0.23059058817884576\n",
            "Auto Encoder + DBSCAN RAND SCORE :  0.23059058817884576\n",
            "--- EP: 1.0 & Min Sample = 200---\n",
            "SVD + DBSCAN RAND SCORE :  0.23059058817884576\n",
            "UMAP + DBSCAN RAND SCORE :  0.23059058817884576\n",
            "Auto Encoder + DBSCAN RAND SCORE :  0.23059058817884576\n",
            "--- EP: 1.0 & Min Sample = 500---\n",
            "SVD + DBSCAN RAND SCORE :  0.23059058817884576\n",
            "UMAP + DBSCAN RAND SCORE :  0.23059058817884576\n",
            "Auto Encoder + DBSCAN RAND SCORE :  0.23059058817884576\n",
            "--- EP: 5.0 & Min Sample = 5---\n",
            "SVD + DBSCAN RAND SCORE :  0.23059058817884576\n",
            "UMAP + DBSCAN RAND SCORE :  0.23059058817884576\n",
            "Auto Encoder + DBSCAN RAND SCORE :  0.23059058817884576\n",
            "--- EP: 5.0 & Min Sample = 15---\n",
            "SVD + DBSCAN RAND SCORE :  0.23059058817884576\n",
            "UMAP + DBSCAN RAND SCORE :  0.23059058817884576\n",
            "Auto Encoder + DBSCAN RAND SCORE :  0.23059058817884576\n",
            "--- EP: 5.0 & Min Sample = 30---\n",
            "SVD + DBSCAN RAND SCORE :  0.23059058817884576\n",
            "UMAP + DBSCAN RAND SCORE :  0.23059058817884576\n",
            "Auto Encoder + DBSCAN RAND SCORE :  0.23059058817884576\n",
            "--- EP: 5.0 & Min Sample = 60---\n",
            "SVD + DBSCAN RAND SCORE :  0.23059058817884576\n",
            "UMAP + DBSCAN RAND SCORE :  0.23059058817884576\n",
            "Auto Encoder + DBSCAN RAND SCORE :  0.23059058817884576\n",
            "--- EP: 5.0 & Min Sample = 100---\n",
            "SVD + DBSCAN RAND SCORE :  0.23059058817884576\n",
            "UMAP + DBSCAN RAND SCORE :  0.23059058817884576\n",
            "Auto Encoder + DBSCAN RAND SCORE :  0.23059058817884576\n",
            "--- EP: 5.0 & Min Sample = 200---\n",
            "SVD + DBSCAN RAND SCORE :  0.23059058817884576\n",
            "UMAP + DBSCAN RAND SCORE :  0.23059058817884576\n",
            "Auto Encoder + DBSCAN RAND SCORE :  0.23059058817884576\n",
            "--- EP: 5.0 & Min Sample = 500---\n",
            "SVD + DBSCAN RAND SCORE :  0.23059058817884576\n",
            "UMAP + DBSCAN RAND SCORE :  0.23059058817884576\n",
            "Auto Encoder + DBSCAN RAND SCORE :  0.23059058817884576\n",
            "--- EP: 10.0 & Min Sample = 5---\n",
            "SVD + DBSCAN RAND SCORE :  0.23059058817884576\n",
            "UMAP + DBSCAN RAND SCORE :  0.23059058817884576\n",
            "Auto Encoder + DBSCAN RAND SCORE :  0.23059058817884576\n",
            "--- EP: 10.0 & Min Sample = 15---\n",
            "SVD + DBSCAN RAND SCORE :  0.23059058817884576\n",
            "UMAP + DBSCAN RAND SCORE :  0.23059058817884576\n",
            "Auto Encoder + DBSCAN RAND SCORE :  0.23059058817884576\n",
            "--- EP: 10.0 & Min Sample = 30---\n",
            "SVD + DBSCAN RAND SCORE :  0.23059058817884576\n",
            "UMAP + DBSCAN RAND SCORE :  0.23059058817884576\n",
            "Auto Encoder + DBSCAN RAND SCORE :  0.23059058817884576\n",
            "--- EP: 10.0 & Min Sample = 60---\n",
            "SVD + DBSCAN RAND SCORE :  0.23059058817884576\n",
            "UMAP + DBSCAN RAND SCORE :  0.23059058817884576\n",
            "Auto Encoder + DBSCAN RAND SCORE :  0.23059058817884576\n",
            "--- EP: 10.0 & Min Sample = 100---\n",
            "SVD + DBSCAN RAND SCORE :  0.23059058817884576\n",
            "UMAP + DBSCAN RAND SCORE :  0.23059058817884576\n",
            "Auto Encoder + DBSCAN RAND SCORE :  0.23059058817884576\n",
            "--- EP: 10.0 & Min Sample = 200---\n",
            "SVD + DBSCAN RAND SCORE :  0.23059058817884576\n",
            "UMAP + DBSCAN RAND SCORE :  0.23059058817884576\n",
            "Auto Encoder + DBSCAN RAND SCORE :  0.23059058817884576\n",
            "--- EP: 10.0 & Min Sample = 500---\n",
            "SVD + DBSCAN RAND SCORE :  0.23059058817884576\n",
            "UMAP + DBSCAN RAND SCORE :  0.23059058817884576\n",
            "Auto Encoder + DBSCAN RAND SCORE :  0.23059058817884576\n",
            "--- EP: 50.0 & Min Sample = 5---\n",
            "SVD + DBSCAN RAND SCORE :  0.23059058817884576\n",
            "UMAP + DBSCAN RAND SCORE :  0.23059058817884576\n",
            "Auto Encoder + DBSCAN RAND SCORE :  0.23059058817884576\n",
            "--- EP: 50.0 & Min Sample = 15---\n",
            "SVD + DBSCAN RAND SCORE :  0.23059058817884576\n",
            "UMAP + DBSCAN RAND SCORE :  0.23059058817884576\n",
            "Auto Encoder + DBSCAN RAND SCORE :  0.23059058817884576\n",
            "--- EP: 50.0 & Min Sample = 30---\n",
            "SVD + DBSCAN RAND SCORE :  0.23059058817884576\n",
            "UMAP + DBSCAN RAND SCORE :  0.23059058817884576\n",
            "Auto Encoder + DBSCAN RAND SCORE :  0.23059058817884576\n",
            "--- EP: 50.0 & Min Sample = 60---\n",
            "SVD + DBSCAN RAND SCORE :  0.23059058817884576\n",
            "UMAP + DBSCAN RAND SCORE :  0.23059058817884576\n",
            "Auto Encoder + DBSCAN RAND SCORE :  0.23059058817884576\n",
            "--- EP: 50.0 & Min Sample = 100---\n",
            "SVD + DBSCAN RAND SCORE :  0.23059058817884576\n",
            "UMAP + DBSCAN RAND SCORE :  0.23059058817884576\n",
            "Auto Encoder + DBSCAN RAND SCORE :  0.23059058817884576\n",
            "--- EP: 50.0 & Min Sample = 200---\n",
            "SVD + DBSCAN RAND SCORE :  0.23059058817884576\n",
            "UMAP + DBSCAN RAND SCORE :  0.23059058817884576\n",
            "Auto Encoder + DBSCAN RAND SCORE :  0.23059058817884576\n",
            "--- EP: 50.0 & Min Sample = 500---\n",
            "SVD + DBSCAN RAND SCORE :  0.23059058817884576\n",
            "UMAP + DBSCAN RAND SCORE :  0.23059058817884576\n",
            "Auto Encoder + DBSCAN RAND SCORE :  0.23059058817884576\n"
          ]
        }
      ]
    },
    {
      "cell_type": "markdown",
      "source": [
        "Question #25"
      ],
      "metadata": {
        "id": "-UcG7UEEEOri"
      }
    },
    {
      "cell_type": "code",
      "source": [],
      "metadata": {
        "id": "h_fj2b_DD5zG"
      },
      "execution_count": null,
      "outputs": []
    }
  ],
  "metadata": {
    "accelerator": "GPU",
    "colab": {
      "provenance": []
    },
    "kernelspec": {
      "display_name": "Python 3 (ipykernel)",
      "language": "python",
      "name": "python3"
    },
    "language_info": {
      "codemirror_mode": {
        "name": "ipython",
        "version": 3
      },
      "file_extension": ".py",
      "mimetype": "text/x-python",
      "name": "python",
      "nbconvert_exporter": "python",
      "pygments_lexer": "ipython3",
      "version": "3.8.3"
    },
    "widgets": {
      "application/vnd.jupyter.widget-state+json": {
        "e5714dd94d38446c8646b637dba18ac9": {
          "model_module": "@jupyter-widgets/controls",
          "model_name": "HBoxModel",
          "model_module_version": "1.5.0",
          "state": {
            "_dom_classes": [],
            "_model_module": "@jupyter-widgets/controls",
            "_model_module_version": "1.5.0",
            "_model_name": "HBoxModel",
            "_view_count": null,
            "_view_module": "@jupyter-widgets/controls",
            "_view_module_version": "1.5.0",
            "_view_name": "HBoxView",
            "box_style": "",
            "children": [
              "IPY_MODEL_add3a957da7645ca9c0dd510f21f12f7",
              "IPY_MODEL_a83559c875f44619a3789be0975a2768",
              "IPY_MODEL_48fe943cde61470f8827de2f4135b60c"
            ],
            "layout": "IPY_MODEL_f76327e4c6a944d9b02043f2b36ab804"
          }
        },
        "add3a957da7645ca9c0dd510f21f12f7": {
          "model_module": "@jupyter-widgets/controls",
          "model_name": "HTMLModel",
          "model_module_version": "1.5.0",
          "state": {
            "_dom_classes": [],
            "_model_module": "@jupyter-widgets/controls",
            "_model_module_version": "1.5.0",
            "_model_name": "HTMLModel",
            "_view_count": null,
            "_view_module": "@jupyter-widgets/controls",
            "_view_module_version": "1.5.0",
            "_view_name": "HTMLView",
            "description": "",
            "description_tooltip": null,
            "layout": "IPY_MODEL_25dac7f9432745429c9fdced05a7dfa0",
            "placeholder": "​",
            "style": "IPY_MODEL_c300f2c5832b4307880d1ad20b7b29df",
            "value": "100%"
          }
        },
        "a83559c875f44619a3789be0975a2768": {
          "model_module": "@jupyter-widgets/controls",
          "model_name": "FloatProgressModel",
          "model_module_version": "1.5.0",
          "state": {
            "_dom_classes": [],
            "_model_module": "@jupyter-widgets/controls",
            "_model_module_version": "1.5.0",
            "_model_name": "FloatProgressModel",
            "_view_count": null,
            "_view_module": "@jupyter-widgets/controls",
            "_view_module_version": "1.5.0",
            "_view_name": "ProgressView",
            "bar_style": "success",
            "description": "",
            "description_tooltip": null,
            "layout": "IPY_MODEL_3e26cb04e28a4800983c6a602603941a",
            "max": 553433881,
            "min": 0,
            "orientation": "horizontal",
            "style": "IPY_MODEL_ab26bd83880040bb9b8afb17dda31762",
            "value": 553433881
          }
        },
        "48fe943cde61470f8827de2f4135b60c": {
          "model_module": "@jupyter-widgets/controls",
          "model_name": "HTMLModel",
          "model_module_version": "1.5.0",
          "state": {
            "_dom_classes": [],
            "_model_module": "@jupyter-widgets/controls",
            "_model_module_version": "1.5.0",
            "_model_name": "HTMLModel",
            "_view_count": null,
            "_view_module": "@jupyter-widgets/controls",
            "_view_module_version": "1.5.0",
            "_view_name": "HTMLView",
            "description": "",
            "description_tooltip": null,
            "layout": "IPY_MODEL_2dcaf4bc3c8942689aa32dae8f53332b",
            "placeholder": "​",
            "style": "IPY_MODEL_8dc93a02e8ce44159c3571e8c973b59d",
            "value": " 528M/528M [00:10&lt;00:00, 43.5MB/s]"
          }
        },
        "f76327e4c6a944d9b02043f2b36ab804": {
          "model_module": "@jupyter-widgets/base",
          "model_name": "LayoutModel",
          "model_module_version": "1.2.0",
          "state": {
            "_model_module": "@jupyter-widgets/base",
            "_model_module_version": "1.2.0",
            "_model_name": "LayoutModel",
            "_view_count": null,
            "_view_module": "@jupyter-widgets/base",
            "_view_module_version": "1.2.0",
            "_view_name": "LayoutView",
            "align_content": null,
            "align_items": null,
            "align_self": null,
            "border": null,
            "bottom": null,
            "display": null,
            "flex": null,
            "flex_flow": null,
            "grid_area": null,
            "grid_auto_columns": null,
            "grid_auto_flow": null,
            "grid_auto_rows": null,
            "grid_column": null,
            "grid_gap": null,
            "grid_row": null,
            "grid_template_areas": null,
            "grid_template_columns": null,
            "grid_template_rows": null,
            "height": null,
            "justify_content": null,
            "justify_items": null,
            "left": null,
            "margin": null,
            "max_height": null,
            "max_width": null,
            "min_height": null,
            "min_width": null,
            "object_fit": null,
            "object_position": null,
            "order": null,
            "overflow": null,
            "overflow_x": null,
            "overflow_y": null,
            "padding": null,
            "right": null,
            "top": null,
            "visibility": null,
            "width": null
          }
        },
        "25dac7f9432745429c9fdced05a7dfa0": {
          "model_module": "@jupyter-widgets/base",
          "model_name": "LayoutModel",
          "model_module_version": "1.2.0",
          "state": {
            "_model_module": "@jupyter-widgets/base",
            "_model_module_version": "1.2.0",
            "_model_name": "LayoutModel",
            "_view_count": null,
            "_view_module": "@jupyter-widgets/base",
            "_view_module_version": "1.2.0",
            "_view_name": "LayoutView",
            "align_content": null,
            "align_items": null,
            "align_self": null,
            "border": null,
            "bottom": null,
            "display": null,
            "flex": null,
            "flex_flow": null,
            "grid_area": null,
            "grid_auto_columns": null,
            "grid_auto_flow": null,
            "grid_auto_rows": null,
            "grid_column": null,
            "grid_gap": null,
            "grid_row": null,
            "grid_template_areas": null,
            "grid_template_columns": null,
            "grid_template_rows": null,
            "height": null,
            "justify_content": null,
            "justify_items": null,
            "left": null,
            "margin": null,
            "max_height": null,
            "max_width": null,
            "min_height": null,
            "min_width": null,
            "object_fit": null,
            "object_position": null,
            "order": null,
            "overflow": null,
            "overflow_x": null,
            "overflow_y": null,
            "padding": null,
            "right": null,
            "top": null,
            "visibility": null,
            "width": null
          }
        },
        "c300f2c5832b4307880d1ad20b7b29df": {
          "model_module": "@jupyter-widgets/controls",
          "model_name": "DescriptionStyleModel",
          "model_module_version": "1.5.0",
          "state": {
            "_model_module": "@jupyter-widgets/controls",
            "_model_module_version": "1.5.0",
            "_model_name": "DescriptionStyleModel",
            "_view_count": null,
            "_view_module": "@jupyter-widgets/base",
            "_view_module_version": "1.2.0",
            "_view_name": "StyleView",
            "description_width": ""
          }
        },
        "3e26cb04e28a4800983c6a602603941a": {
          "model_module": "@jupyter-widgets/base",
          "model_name": "LayoutModel",
          "model_module_version": "1.2.0",
          "state": {
            "_model_module": "@jupyter-widgets/base",
            "_model_module_version": "1.2.0",
            "_model_name": "LayoutModel",
            "_view_count": null,
            "_view_module": "@jupyter-widgets/base",
            "_view_module_version": "1.2.0",
            "_view_name": "LayoutView",
            "align_content": null,
            "align_items": null,
            "align_self": null,
            "border": null,
            "bottom": null,
            "display": null,
            "flex": null,
            "flex_flow": null,
            "grid_area": null,
            "grid_auto_columns": null,
            "grid_auto_flow": null,
            "grid_auto_rows": null,
            "grid_column": null,
            "grid_gap": null,
            "grid_row": null,
            "grid_template_areas": null,
            "grid_template_columns": null,
            "grid_template_rows": null,
            "height": null,
            "justify_content": null,
            "justify_items": null,
            "left": null,
            "margin": null,
            "max_height": null,
            "max_width": null,
            "min_height": null,
            "min_width": null,
            "object_fit": null,
            "object_position": null,
            "order": null,
            "overflow": null,
            "overflow_x": null,
            "overflow_y": null,
            "padding": null,
            "right": null,
            "top": null,
            "visibility": null,
            "width": null
          }
        },
        "ab26bd83880040bb9b8afb17dda31762": {
          "model_module": "@jupyter-widgets/controls",
          "model_name": "ProgressStyleModel",
          "model_module_version": "1.5.0",
          "state": {
            "_model_module": "@jupyter-widgets/controls",
            "_model_module_version": "1.5.0",
            "_model_name": "ProgressStyleModel",
            "_view_count": null,
            "_view_module": "@jupyter-widgets/base",
            "_view_module_version": "1.2.0",
            "_view_name": "StyleView",
            "bar_color": null,
            "description_width": ""
          }
        },
        "2dcaf4bc3c8942689aa32dae8f53332b": {
          "model_module": "@jupyter-widgets/base",
          "model_name": "LayoutModel",
          "model_module_version": "1.2.0",
          "state": {
            "_model_module": "@jupyter-widgets/base",
            "_model_module_version": "1.2.0",
            "_model_name": "LayoutModel",
            "_view_count": null,
            "_view_module": "@jupyter-widgets/base",
            "_view_module_version": "1.2.0",
            "_view_name": "LayoutView",
            "align_content": null,
            "align_items": null,
            "align_self": null,
            "border": null,
            "bottom": null,
            "display": null,
            "flex": null,
            "flex_flow": null,
            "grid_area": null,
            "grid_auto_columns": null,
            "grid_auto_flow": null,
            "grid_auto_rows": null,
            "grid_column": null,
            "grid_gap": null,
            "grid_row": null,
            "grid_template_areas": null,
            "grid_template_columns": null,
            "grid_template_rows": null,
            "height": null,
            "justify_content": null,
            "justify_items": null,
            "left": null,
            "margin": null,
            "max_height": null,
            "max_width": null,
            "min_height": null,
            "min_width": null,
            "object_fit": null,
            "object_position": null,
            "order": null,
            "overflow": null,
            "overflow_x": null,
            "overflow_y": null,
            "padding": null,
            "right": null,
            "top": null,
            "visibility": null,
            "width": null
          }
        },
        "8dc93a02e8ce44159c3571e8c973b59d": {
          "model_module": "@jupyter-widgets/controls",
          "model_name": "DescriptionStyleModel",
          "model_module_version": "1.5.0",
          "state": {
            "_model_module": "@jupyter-widgets/controls",
            "_model_module_version": "1.5.0",
            "_model_name": "DescriptionStyleModel",
            "_view_count": null,
            "_view_module": "@jupyter-widgets/base",
            "_view_module_version": "1.2.0",
            "_view_name": "StyleView",
            "description_width": ""
          }
        }
      }
    }
  },
  "nbformat": 4,
  "nbformat_minor": 0
}