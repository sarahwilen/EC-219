{
  "nbformat": 4,
  "nbformat_minor": 0,
  "metadata": {
    "colab": {
      "provenance": [],
      "collapsed_sections": [
        "x-Af5RP9FeKz",
        "8WweHrZ5SuWs",
        "Bma0WEjavzGb"
      ]
    },
    "kernelspec": {
      "name": "python3",
      "display_name": "Python 3"
    },
    "language_info": {
      "name": "python"
    },
    "gpuClass": "standard"
  },
  "cells": [
    {
      "cell_type": "code",
      "source": [
        "# Mount the google drive\n",
        "from google.colab import drive\n",
        "drive.mount('/content/drive', force_remount=True)\n",
        "\n",
        "# cd only once to the wanted dir at the beginning\n",
        "%cd '/content/drive/MyDrive/Grad School/ECE219/HW1'"
      ],
      "metadata": {
        "colab": {
          "base_uri": "https://localhost:8080/"
        },
        "id": "DZNOQFeC3VoD",
        "outputId": "d7a789b6-1c51-4433-d7fc-f8abe1a75b8f"
      },
      "execution_count": 1,
      "outputs": [
        {
          "output_type": "stream",
          "name": "stdout",
          "text": [
            "Mounted at /content/drive\n",
            "/content/drive/MyDrive/Grad School/ECE219/HW1\n"
          ]
        }
      ]
    },
    {
      "cell_type": "code",
      "execution_count": 2,
      "metadata": {
        "id": "KLhwqQet290Q"
      },
      "outputs": [],
      "source": [
        "import pandas as pd\n",
        "import numpy as np\n",
        "import string\n",
        "import collections\n",
        "from sklearn.feature_extraction.text import CountVectorizer"
      ]
    },
    {
      "cell_type": "code",
      "source": [
        "dataset = pd.read_csv(\"./Project1-Classification.csv\")"
      ],
      "metadata": {
        "id": "8nUUz8wa3Bae"
      },
      "execution_count": 3,
      "outputs": []
    },
    {
      "cell_type": "markdown",
      "source": [
        "# Question 1"
      ],
      "metadata": {
        "id": "E4aj3z8H3zjJ"
      }
    },
    {
      "cell_type": "code",
      "source": [
        "print(f\"There are {dataset.shape[0]} rows and {dataset.shape[1]} columns\")"
      ],
      "metadata": {
        "colab": {
          "base_uri": "https://localhost:8080/"
        },
        "id": "-ARRNlPo-tZ7",
        "outputId": "644cf3c4-f25e-423c-dcd6-f147d1e3dc0b"
      },
      "execution_count": 4,
      "outputs": [
        {
          "output_type": "stream",
          "name": "stdout",
          "text": [
            "There are 3150 rows and 8 columns\n"
          ]
        }
      ]
    },
    {
      "cell_type": "code",
      "source": [
        "for col in dataset.columns:\n",
        "  print(col)"
      ],
      "metadata": {
        "colab": {
          "base_uri": "https://localhost:8080/"
        },
        "id": "Uviovuer35hp",
        "outputId": "bf1567a7-057c-4ef6-e075-ff40a56d276d"
      },
      "execution_count": 5,
      "outputs": [
        {
          "output_type": "stream",
          "name": "stdout",
          "text": [
            "full_text\n",
            "summary\n",
            "keywords\n",
            "publish_date\n",
            "authors\n",
            "url\n",
            "leaf_label\n",
            "root_label\n"
          ]
        }
      ]
    },
    {
      "cell_type": "code",
      "source": [
        "# Full Text\n",
        "def calc_alphanum(x):\n",
        "  alphanum = \"abcdefghijklmnopqrstuvwxyz1234567890\"\n",
        "  counts = collections.Counter(x)\n",
        "  uniques = set(x)\n",
        "  return sum([counts[c] for c in uniques if c in alphanum])\n",
        "new_col = dataset.full_text.apply(calc_alphanum)\n",
        "new_col.hist(bins=100)"
      ],
      "metadata": {
        "colab": {
          "base_uri": "https://localhost:8080/",
          "height": 0
        },
        "id": "LJiYlL-n7Ka7",
        "outputId": "46bbcbeb-3084-475d-cde0-b52d712de705"
      },
      "execution_count": 6,
      "outputs": [
        {
          "output_type": "execute_result",
          "data": {
            "text/plain": [
              "<matplotlib.axes._subplots.AxesSubplot at 0x7fe69d1aa580>"
            ]
          },
          "metadata": {},
          "execution_count": 6
        },
        {
          "output_type": "display_data",
          "data": {
            "text/plain": [
              "<Figure size 432x288 with 1 Axes>"
            ],
            "image/png": "[encoded data removed]"
          },
          "metadata": {
            "needs_background": "light"
          }
        }
      ]
    },
    {
      "cell_type": "code",
      "source": [
        "# Leaf Labels\n",
        "dataset.leaf_label.value_counts().plot(kind='bar')"
      ],
      "metadata": {
        "colab": {
          "base_uri": "https://localhost:8080/",
          "height": 0
        },
        "id": "OANbgLjR4uQG",
        "outputId": "d1bf74b2-1fd5-441c-82ad-ec2032e22545"
      },
      "execution_count": 7,
      "outputs": [
        {
          "output_type": "execute_result",
          "data": {
            "text/plain": [
              "<matplotlib.axes._subplots.AxesSubplot at 0x7fe69d00ed90>"
            ]
          },
          "metadata": {},
          "execution_count": 7
        },
        {
          "output_type": "display_data",
          "data": {
            "text/plain": [
              "<Figure size 432x288 with 1 Axes>"
            ],
            "image/png": "[encoded data removed]"
          },
          "metadata": {
            "needs_background": "light"
          }
        }
      ]
    },
    {
      "cell_type": "code",
      "source": [
        "# Root Labels\n",
        "dataset.root_label.value_counts().plot(kind='bar')"
      ],
      "metadata": {
        "colab": {
          "base_uri": "https://localhost:8080/",
          "height": 0
        },
        "id": "BtwqQX-344Ph",
        "outputId": "a89207a4-18b6-4105-d26e-c43110eb4fbe"
      },
      "execution_count": 8,
      "outputs": [
        {
          "output_type": "execute_result",
          "data": {
            "text/plain": [
              "<matplotlib.axes._subplots.AxesSubplot at 0x7fe69cb5a400>"
            ]
          },
          "metadata": {},
          "execution_count": 8
        },
        {
          "output_type": "display_data",
          "data": {
            "text/plain": [
              "<Figure size 432x288 with 1 Axes>"
            ],
            "image/png": "[encoded data removed]"
          },
          "metadata": {
            "needs_background": "light"
          }
        }
      ]
    },
    {
      "cell_type": "markdown",
      "source": [
        "# Question 2"
      ],
      "metadata": {
        "id": "uXz_rPpu-p9m"
      }
    },
    {
      "cell_type": "code",
      "source": [
        "import numpy as np\n",
        "import random\n",
        "np.random.seed(42)\n",
        "random.seed(42)"
      ],
      "metadata": {
        "id": "vFIj_MyZ7MMI"
      },
      "execution_count": 9,
      "outputs": []
    },
    {
      "cell_type": "code",
      "source": [
        "from sklearn.model_selection import train_test_split\n",
        "train, test = train_test_split(dataset[[\"full_text\",\"root_label\", \"leaf_label\"]], test_size=0.2)\n",
        "print(type(train))"
      ],
      "metadata": {
        "id": "ar-99iIq_GPw",
        "colab": {
          "base_uri": "https://localhost:8080/"
        },
        "outputId": "dd30992b-e18b-4cf7-9e63-37fd4dbe61bd"
      },
      "execution_count": 10,
      "outputs": [
        {
          "output_type": "stream",
          "name": "stdout",
          "text": [
            "<class 'pandas.core.frame.DataFrame'>\n"
          ]
        }
      ]
    },
    {
      "cell_type": "code",
      "source": [
        "print(f\"There are {train.shape[0]} train samples and {test.shape[0]} test samples\")"
      ],
      "metadata": {
        "colab": {
          "base_uri": "https://localhost:8080/"
        },
        "id": "cJm1FY4Q_ddS",
        "outputId": "2a605afa-436b-4bd4-b7bf-ff7e5e736bae"
      },
      "execution_count": 11,
      "outputs": [
        {
          "output_type": "stream",
          "name": "stdout",
          "text": [
            "There are 2520 train samples and 630 test samples\n"
          ]
        }
      ]
    },
    {
      "cell_type": "markdown",
      "source": [
        "# Question 3"
      ],
      "metadata": {
        "id": "KwkOZRkc_qj_"
      }
    },
    {
      "cell_type": "code",
      "source": [
        "import re\n",
        "def clean(text):\n",
        "        text = re.sub(r'^https?:\\/\\/.*[\\r\\n]*', '', text, flags=re.MULTILINE)\n",
        "        texter = re.sub(r\"<br />\", \" \", text)\n",
        "        texter = re.sub(r\"&quot;\", \"\\\"\",texter)\n",
        "        texter = re.sub('&#39;', \"\\\"\", texter)\n",
        "        texter = re.sub('\\n', \" \", texter)\n",
        "        texter = re.sub(' u ',\" you \", texter)\n",
        "        texter = re.sub('`',\"\", texter)\n",
        "        texter = re.sub(' +', ' ', texter)\n",
        "        texter = re.sub(r\"(!)\\1+\", r\"!\", texter)\n",
        "        texter = re.sub(r\"(\\?)\\1+\", r\"?\", texter)\n",
        "        texter = re.sub('&amp;', 'and', texter)\n",
        "        texter = re.sub('\\r', ' ',texter)\n",
        "        clean = re.compile('<.*?>')\n",
        "        texter = texter.encode('ascii', 'ignore').decode('ascii')\n",
        "        texter = re.sub(clean, '', texter)\n",
        "        if texter == \"\":\n",
        "            texter = \"\"\n",
        "        return texter"
      ],
      "metadata": {
        "id": "WzsCNbP51qdP"
      },
      "execution_count": 12,
      "outputs": []
    },
    {
      "cell_type": "code",
      "source": [
        "import nltk\n",
        "from nltk.stem import WordNetLemmatizer\n",
        "from nltk.corpus import wordnet\n",
        "from nltk.stem import PorterStemmer\n",
        "\n",
        "nltk.download('wordnet')\n",
        "nltk.download('omw-1.4')\n",
        "nltk.download('punkt')\n",
        "nltk.download('averaged_perceptron_tagger')\n",
        "\n",
        "# clean using their function\n",
        "cleaned_train = train.full_text.apply(clean)\n",
        "cleaned_test = test.full_text.apply(clean)\n",
        "\n",
        "# Remove punctuation and numbers\n",
        "def preprocess(x):\n",
        "  nums = \"1234567890\"\n",
        "  for c in x:\n",
        "    if c in string.punctuation or c in nums:\n",
        "      x = x.replace(c, \"\")\n",
        "  return x\n",
        "cleaned_train = cleaned_train.apply(preprocess)\n",
        "cleaned_test = cleaned_test.apply(preprocess)\n",
        "\n",
        "# Tokenize\n",
        "tokenized_train = cleaned_train.apply(nltk.word_tokenize)\n",
        "tokenized_test = cleaned_test.apply(nltk.word_tokenize)\n",
        "\n",
        "def get_wordnet_pos(treebank_tag):\n",
        "    if treebank_tag.startswith('J'):\n",
        "        return wordnet.ADJ\n",
        "    elif treebank_tag.startswith('V'):\n",
        "        return wordnet.VERB\n",
        "    elif treebank_tag.startswith('N'):\n",
        "        return wordnet.NOUN\n",
        "    elif treebank_tag.startswith('R'):\n",
        "        return wordnet.ADV\n",
        "    else:\n",
        "        return None\n",
        "\n",
        "# Lemmatize with PoS tagging\n",
        "def lemma(sent):\n",
        "  lemmatizer = WordNetLemmatizer()\n",
        "  tagged = nltk.pos_tag(sent)\n",
        "  res = []\n",
        "  for word in tagged:\n",
        "    pos = get_wordnet_pos(word[1])\n",
        "    if pos:\n",
        "      res.append(lemmatizer.lemmatize(word[0], pos=pos))\n",
        "    else:\n",
        "      res.append(lemmatizer.lemmatize(word[0]))\n",
        "  # test = [lemmatizer.lemmatize(word[0], pos=get_wordnet_pos(word[1])) for word in tagged if get_wordnet_pos(word[1]) else lemmatizer.lemmatize(word[0])]\n",
        "  return res\n",
        "\n",
        "lemmatized_train = tokenized_train.apply(lemma)\n",
        "lemmatized_test = tokenized_test.apply(lemma)\n",
        "\n",
        "\n",
        "def stem(arr):\n",
        "  stemmer = PorterStemmer()\n",
        "  res = []\n",
        "  for word in arr:\n",
        "    res.append(stemmer.stem(word))\n",
        "  return res\n",
        "\n",
        "stemmed_train = tokenized_train.apply(stem)\n",
        "stemmed_test = tokenized_test.apply(stem)\n",
        "\n",
        "# Recreate sentences\n",
        "def make_sent(x):\n",
        "  return ' '.join(x)\n",
        "final_data_train = lemmatized_train.apply(make_sent)\n",
        "final_data_test = lemmatized_test.apply(make_sent)\n",
        "\n",
        "final_data_train_stemmed = stemmed_train.apply(make_sent)\n",
        "final_data_test_stemmed = stemmed_test.apply(make_sent)\n",
        "\n",
        "# CountVectorizer\n",
        "vectorizer = CountVectorizer(min_df=3, max_df=0.75, stop_words='english')\n",
        "train_counts = vectorizer.fit_transform(final_data_train)\n",
        "test_counts = vectorizer.transform(final_data_test)\n",
        "print(train_counts.shape)\n",
        "print(test_counts.shape)"
      ],
      "metadata": {
        "colab": {
          "base_uri": "https://localhost:8080/"
        },
        "id": "H2g1eK-J1wS6",
        "outputId": "7b82e063-1b46-4070-9041-5f1bcf555b00"
      },
      "execution_count": 13,
      "outputs": [
        {
          "output_type": "stream",
          "name": "stderr",
          "text": [
            "[nltk_data] Downloading package wordnet to /root/nltk_data...\n",
            "[nltk_data] Downloading package omw-1.4 to /root/nltk_data...\n",
            "[nltk_data] Downloading package punkt to /root/nltk_data...\n",
            "[nltk_data]   Unzipping tokenizers/punkt.zip.\n",
            "[nltk_data] Downloading package averaged_perceptron_tagger to\n",
            "[nltk_data]     /root/nltk_data...\n",
            "[nltk_data]   Unzipping taggers/averaged_perceptron_tagger.zip.\n"
          ]
        },
        {
          "output_type": "stream",
          "name": "stdout",
          "text": [
            "(2520, 15071)\n",
            "(630, 15071)\n"
          ]
        }
      ]
    },
    {
      "cell_type": "code",
      "source": [
        "from sklearn.feature_extraction.text import TfidfTransformer\n",
        "tfidf_transformer = TfidfTransformer()\n",
        "\n",
        "x_train_tfidf = tfidf_transformer.fit_transform(train_counts)\n",
        "x_test_tfidf = tfidf_transformer.transform(test_counts)\n",
        "print(x_train_tfidf.shape)\n",
        "print(x_test_tfidf.shape)"
      ],
      "metadata": {
        "colab": {
          "base_uri": "https://localhost:8080/"
        },
        "id": "7IigQao_H9Jf",
        "outputId": "569f0c3b-4edb-46b9-ba5c-4f562bfb8b0d"
      },
      "execution_count": 14,
      "outputs": [
        {
          "output_type": "stream",
          "name": "stdout",
          "text": [
            "(2520, 15071)\n",
            "(630, 15071)\n"
          ]
        }
      ]
    },
    {
      "cell_type": "markdown",
      "source": [
        "# Question 4"
      ],
      "metadata": {
        "id": "x-Af5RP9FeKz"
      }
    },
    {
      "cell_type": "code",
      "source": [
        "import scipy\n",
        "# LSI\n",
        "# Take SVD of tfidf matrix\n",
        "# Multiply X * Vk\n",
        "u, sigma, v = scipy.sparse.linalg.svds(x_train_tfidf, k=750)\n",
        "dim_reduced_train = x_train_tfidf@(v.transpose())\n",
        "reconstructed = u@(scipy.sparse.diags(sigma))@v\n",
        "\n",
        "u, sigma, v = scipy.sparse.linalg.svds(x_test_tfidf, k=750)\n",
        "dim_reduced_test = x_test_tfidf@(v.transpose())\n",
        "\n",
        "mse = np.mean(np.sqrt(np.power(x_train_tfidf - reconstructed, 2)))\n",
        "print(f\"MSE for LSI is {mse}\")"
      ],
      "metadata": {
        "id": "SxJ4qn0nCdhj",
        "colab": {
          "base_uri": "https://localhost:8080/",
          "height": 357
        },
        "outputId": "9f307cfa-9917-4fe4-85cc-c9ea03d5169e"
      },
      "execution_count": 15,
      "outputs": [
        {
          "output_type": "error",
          "ename": "ValueError",
          "evalue": "ignored",
          "traceback": [
            "\u001b[0;31m---------------------------------------------------------------------------\u001b[0m",
            "\u001b[0;31mValueError\u001b[0m                                Traceback (most recent call last)",
            "\u001b[0;32m<ipython-input-15-8bdcdec24e74>\u001b[0m in \u001b[0;36m<module>\u001b[0;34m\u001b[0m\n\u001b[1;32m      7\u001b[0m \u001b[0mreconstructed\u001b[0m \u001b[0;34m=\u001b[0m \u001b[0mu\u001b[0m\u001b[0;34m@\u001b[0m\u001b[0;34m(\u001b[0m\u001b[0mscipy\u001b[0m\u001b[0;34m.\u001b[0m\u001b[0msparse\u001b[0m\u001b[0;34m.\u001b[0m\u001b[0mdiags\u001b[0m\u001b[0;34m(\u001b[0m\u001b[0msigma\u001b[0m\u001b[0;34m)\u001b[0m\u001b[0;34m)\u001b[0m\u001b[0;34m@\u001b[0m\u001b[0mv\u001b[0m\u001b[0;34m\u001b[0m\u001b[0;34m\u001b[0m\u001b[0m\n\u001b[1;32m      8\u001b[0m \u001b[0;34m\u001b[0m\u001b[0m\n\u001b[0;32m----> 9\u001b[0;31m \u001b[0mu\u001b[0m\u001b[0;34m,\u001b[0m \u001b[0msigma\u001b[0m\u001b[0;34m,\u001b[0m \u001b[0mv\u001b[0m \u001b[0;34m=\u001b[0m \u001b[0mscipy\u001b[0m\u001b[0;34m.\u001b[0m\u001b[0msparse\u001b[0m\u001b[0;34m.\u001b[0m\u001b[0mlinalg\u001b[0m\u001b[0;34m.\u001b[0m\u001b[0msvds\u001b[0m\u001b[0;34m(\u001b[0m\u001b[0mx_test_tfidf\u001b[0m\u001b[0;34m,\u001b[0m \u001b[0mk\u001b[0m\u001b[0;34m=\u001b[0m\u001b[0;36m750\u001b[0m\u001b[0;34m)\u001b[0m\u001b[0;34m\u001b[0m\u001b[0;34m\u001b[0m\u001b[0m\n\u001b[0m\u001b[1;32m     10\u001b[0m \u001b[0mdim_reduced_test\u001b[0m \u001b[0;34m=\u001b[0m \u001b[0mx_test_tfidf\u001b[0m\u001b[0;34m@\u001b[0m\u001b[0;34m(\u001b[0m\u001b[0mv\u001b[0m\u001b[0;34m.\u001b[0m\u001b[0mtranspose\u001b[0m\u001b[0;34m(\u001b[0m\u001b[0;34m)\u001b[0m\u001b[0;34m)\u001b[0m\u001b[0;34m\u001b[0m\u001b[0;34m\u001b[0m\u001b[0m\n\u001b[1;32m     11\u001b[0m \u001b[0;34m\u001b[0m\u001b[0m\n",
            "\u001b[0;32m/usr/local/lib/python3.8/dist-packages/scipy/sparse/linalg/eigen/arpack/arpack.py\u001b[0m in \u001b[0;36msvds\u001b[0;34m(A, k, ncv, tol, which, v0, maxiter, return_singular_vectors, solver)\u001b[0m\n\u001b[1;32m   1818\u001b[0m \u001b[0;34m\u001b[0m\u001b[0m\n\u001b[1;32m   1819\u001b[0m     \u001b[0;32mif\u001b[0m \u001b[0mk\u001b[0m \u001b[0;34m<=\u001b[0m \u001b[0;36m0\u001b[0m \u001b[0;32mor\u001b[0m \u001b[0mk\u001b[0m \u001b[0;34m>=\u001b[0m \u001b[0mmin\u001b[0m\u001b[0;34m(\u001b[0m\u001b[0mn\u001b[0m\u001b[0;34m,\u001b[0m \u001b[0mm\u001b[0m\u001b[0;34m)\u001b[0m\u001b[0;34m:\u001b[0m\u001b[0;34m\u001b[0m\u001b[0;34m\u001b[0m\u001b[0m\n\u001b[0;32m-> 1820\u001b[0;31m         \u001b[0;32mraise\u001b[0m \u001b[0mValueError\u001b[0m\u001b[0;34m(\u001b[0m\u001b[0;34m\"k must be between 1 and min(A.shape), k=%d\"\u001b[0m \u001b[0;34m%\u001b[0m \u001b[0mk\u001b[0m\u001b[0;34m)\u001b[0m\u001b[0;34m\u001b[0m\u001b[0;34m\u001b[0m\u001b[0m\n\u001b[0m\u001b[1;32m   1821\u001b[0m \u001b[0;34m\u001b[0m\u001b[0m\n\u001b[1;32m   1822\u001b[0m     \u001b[0;32mif\u001b[0m \u001b[0misinstance\u001b[0m\u001b[0;34m(\u001b[0m\u001b[0mA\u001b[0m\u001b[0;34m,\u001b[0m \u001b[0mLinearOperator\u001b[0m\u001b[0;34m)\u001b[0m\u001b[0;34m:\u001b[0m\u001b[0;34m\u001b[0m\u001b[0;34m\u001b[0m\u001b[0m\n",
            "\u001b[0;31mValueError\u001b[0m: k must be between 1 and min(A.shape), k=750"
          ]
        }
      ]
    },
    {
      "cell_type": "code",
      "source": [
        "from sklearn.decomposition import NMF\n",
        "\n",
        "nmf = NMF(n_components=50)\n",
        "W = nmf.fit_transform(x_train_tfidf)\n",
        "H = nmf.components_\n",
        "reconstructed = W@H\n",
        "\n",
        "mse = np.mean(np.sqrt(np.power(x_train_tfidf - reconstructed, 2)))\n",
        "print(f\"MSE for NMF is {mse}\")"
      ],
      "metadata": {
        "colab": {
          "base_uri": "https://localhost:8080/"
        },
        "id": "METm90X7KM9M",
        "outputId": "242a01ac-dd15-4a80-bc30-d5607f221e63"
      },
      "execution_count": 26,
      "outputs": [
        {
          "output_type": "stream",
          "name": "stderr",
          "text": [
            "/usr/local/lib/python3.8/dist-packages/sklearn/decomposition/_nmf.py:289: FutureWarning: The 'init' value, when 'init=None' and n_components is less than n_samples and n_features, will be changed from 'nndsvd' to 'nndsvda' in 1.1 (renaming of 0.26).\n",
            "  warnings.warn(\n",
            "/usr/local/lib/python3.8/dist-packages/sklearn/decomposition/_nmf.py:1637: ConvergenceWarning: Maximum number of iterations 200 reached. Increase it to improve convergence.\n",
            "  warnings.warn(\n"
          ]
        },
        {
          "output_type": "stream",
          "name": "stdout",
          "text": [
            "MSE for NMF is 0.000934942230451941\n"
          ]
        }
      ]
    },
    {
      "cell_type": "markdown",
      "source": [
        "# Question 5"
      ],
      "metadata": {
        "id": "8WweHrZ5SuWs"
      }
    },
    {
      "cell_type": "code",
      "source": [
        "from sklearn.svm import SVC\n",
        "\n",
        "def label_data(x):\n",
        "  if x == \"sports\":\n",
        "    return 1\n",
        "  else:\n",
        "    return 0\n",
        "train_labels = train.root_label.apply(label_data)\n",
        "test_labels = test.root_label.apply(label_data)\n",
        "\n",
        "hard_margin = SVC(C=1000, kernel='linear').fit(dim_reduced_train, train_labels)\n",
        "soft_margin = SVC(C=0.0001, kernel='linear').fit(dim_reduced_train, train_labels)"
      ],
      "metadata": {
        "id": "_SeZo5NkRBd8"
      },
      "execution_count": 27,
      "outputs": []
    },
    {
      "cell_type": "code",
      "source": [
        "from sklearn.metrics import confusion_matrix, roc_curve, RocCurveDisplay, accuracy_score, precision_score, f1_score\n",
        "\n",
        "hard_margin_pred = hard_margin.predict(dim_reduced_test)\n",
        "\n",
        "fpr, tpr, thresholds = roc_curve(test_labels, hard_margin_pred)\n",
        "roc_display = RocCurveDisplay(fpr=fpr, tpr=tpr).plot()\n",
        "\n",
        "print(confusion_matrix(test_labels, hard_margin_pred))\n",
        "print(accuracy_score(test_labels, hard_margin_pred))\n",
        "print(precision_score(test_labels, hard_margin_pred))\n",
        "print(f1_score(test_labels, hard_margin_pred))"
      ],
      "metadata": {
        "colab": {
          "base_uri": "https://localhost:8080/",
          "height": 366
        },
        "id": "DDsYBAogeWjU",
        "outputId": "5cdd7c80-1cd3-4bec-d2e8-9a9844bad06c"
      },
      "execution_count": 31,
      "outputs": [
        {
          "output_type": "stream",
          "name": "stdout",
          "text": [
            "[[ 50 213]\n",
            " [231 136]]\n",
            "0.29523809523809524\n",
            "0.38968481375358166\n",
            "0.37988826815642457\n"
          ]
        },
        {
          "output_type": "display_data",
          "data": {
            "text/plain": [
              "<Figure size 432x288 with 1 Axes>"
            ],
            "image/png": "[encoded data removed]"
          },
          "metadata": {
            "needs_background": "light"
          }
        }
      ]
    },
    {
      "cell_type": "code",
      "source": [
        "soft_margin_pred = soft_margin.predict(dim_reduced_test)\n",
        "\n",
        "fpr, tpr, thresholds = roc_curve(test_labels, soft_margin_pred)\n",
        "roc_display = RocCurveDisplay(fpr=fpr, tpr=tpr).plot()\n",
        "\n",
        "print(confusion_matrix(test_labels, soft_margin_pred))\n",
        "print(accuracy_score(test_labels, soft_margin_pred))\n",
        "print(precision_score(test_labels, soft_margin_pred))\n",
        "print(f1_score(test_labels, soft_margin_pred))"
      ],
      "metadata": {
        "colab": {
          "base_uri": "https://localhost:8080/",
          "height": 366
        },
        "id": "QOhuPsNxh28S",
        "outputId": "c0002ce8-8336-4ae9-e89b-aea4a2b445e1"
      },
      "execution_count": 32,
      "outputs": [
        {
          "output_type": "stream",
          "name": "stdout",
          "text": [
            "[[  0 263]\n",
            " [  0 367]]\n",
            "0.5825396825396826\n",
            "0.5825396825396826\n",
            "0.7362086258776329\n"
          ]
        },
        {
          "output_type": "display_data",
          "data": {
            "text/plain": [
              "<Figure size 432x288 with 1 Axes>"
            ],
            "image/png": "[encoded data removed]"
          },
          "metadata": {
            "needs_background": "light"
          }
        }
      ]
    },
    {
      "cell_type": "code",
      "source": [
        "from sklearn.model_selection import cross_val_score\n",
        "\n",
        "gammas = [10**x for x in range(-3, 7)]\n",
        "avg_accs = []\n",
        "for gamma in gammas:\n",
        "  classifier = SVC(C=gamma, kernel='linear', random_state=123).fit(dim_reduced_train, train_labels)\n",
        "  scores = cross_val_score(classifier, dim_reduced_test, test_labels, cv=5)\n",
        "  avg_accs.append(scores.mean())\n",
        "\n",
        "print(avg_accs, np.argmax(avg_accs), np.max(avg_accs))"
      ],
      "metadata": {
        "colab": {
          "base_uri": "https://localhost:8080/"
        },
        "id": "5R_PZ8pFmut-",
        "outputId": "41ce0b64-8b50-498d-a8b6-064b997d6a6c"
      },
      "execution_count": 34,
      "outputs": [
        {
          "output_type": "stream",
          "name": "stdout",
          "text": [
            "[0.5825396825396826, 0.5825396825396826, 0.8555555555555555, 0.9523809523809523, 0.9603174603174602, 0.9539682539682539, 0.9444444444444444, 0.9412698412698413, 0.9412698412698413, 0.9412698412698413] 4 0.9603174603174602\n"
          ]
        }
      ]
    },
    {
      "cell_type": "markdown",
      "source": [
        "# Question 6"
      ],
      "metadata": {
        "id": "xljEebZrr6Vd"
      }
    },
    {
      "cell_type": "code",
      "source": [
        "from sklearn.linear_model import LogisticRegression\n",
        "\n",
        "classifier = LogisticRegression(penalty='l2', C=2**30, solver='liblinear').fit(dim_reduced_train, train_labels)\n",
        "preds = classifier.predict(dim_reduced_test)\n",
        "\n",
        "fpr, tpr, thresholds = roc_curve(test_labels, preds)\n",
        "roc_display = RocCurveDisplay(fpr=fpr, tpr=tpr).plot()\n",
        "\n",
        "print(confusion_matrix(test_labels, preds))\n",
        "print(accuracy_score(test_labels, preds))\n",
        "print(precision_score(test_labels, preds))\n",
        "print(f1_score(test_labels, preds))"
      ],
      "metadata": {
        "colab": {
          "base_uri": "https://localhost:8080/",
          "height": 366
        },
        "id": "XQCddx3vqKzO",
        "outputId": "269369ab-f055-40f1-c153-40c2e5ab878b"
      },
      "execution_count": 41,
      "outputs": [
        {
          "output_type": "stream",
          "name": "stdout",
          "text": [
            "[[ 34 229]\n",
            " [235 132]]\n",
            "0.2634920634920635\n",
            "0.3656509695290859\n",
            "0.3626373626373626\n"
          ]
        },
        {
          "output_type": "display_data",
          "data": {
            "text/plain": [
              "<Figure size 432x288 with 1 Axes>"
            ],
            "image/png": "[encoded data removed]"
          },
          "metadata": {
            "needs_background": "light"
          }
        }
      ]
    },
    {
      "cell_type": "code",
      "source": [
        "# L1 Regularization \n",
        "gammas = [10**x for x in range(-5, 6)]\n",
        "accs = []\n",
        "for gamma in gammas:\n",
        "  classifier = LogisticRegression(penalty='l1', C=gamma, solver='liblinear', random_state=123)\n",
        "  scores = cross_val_score(classifier, dim_reduced_test, test_labels, cv=5)\n",
        "  accs.append(scores.mean())\n",
        "\n",
        "indices = [x for x in range(-5, 6)]\n",
        "print(indices[np.argmax(accs)])"
      ],
      "metadata": {
        "colab": {
          "base_uri": "https://localhost:8080/"
        },
        "id": "GBSuDxXVuFMm",
        "outputId": "161fcd33-fbc5-4112-bb5f-7b109dd58d45"
      },
      "execution_count": 42,
      "outputs": [
        {
          "output_type": "stream",
          "name": "stdout",
          "text": [
            "1\n"
          ]
        }
      ]
    },
    {
      "cell_type": "code",
      "source": [
        "# L2 Regularization\n",
        "gammas = [10**x for x in range(-5, 6)]\n",
        "accs = []\n",
        "for gamma in gammas:\n",
        "  classifier = LogisticRegression(penalty='l2', C=gamma, solver='liblinear', random_state=123)\n",
        "  scores = cross_val_score(classifier, dim_reduced_test, test_labels, cv=5)\n",
        "  accs.append(scores.mean())\n",
        "\n",
        "indices = [x for x in range(-5, 6)]\n",
        "print(indices[np.argmax(accs)])"
      ],
      "metadata": {
        "colab": {
          "base_uri": "https://localhost:8080/"
        },
        "id": "T8z00zCntNO_",
        "outputId": "43145cb2-6e31-4e16-aa94-01f02d36c805"
      },
      "execution_count": 43,
      "outputs": [
        {
          "output_type": "stream",
          "name": "stdout",
          "text": [
            "2\n"
          ]
        }
      ]
    },
    {
      "cell_type": "markdown",
      "source": [
        "# Question 7"
      ],
      "metadata": {
        "id": "Bma0WEjavzGb"
      }
    },
    {
      "cell_type": "code",
      "source": [
        "from sklearn.naive_bayes import GaussianNB\n",
        "\n",
        "classifier = GaussianNB().fit(dim_reduced_train, train_labels)\n",
        "preds = classifier.predict(dim_reduced_test)\n",
        "\n",
        "fpr, tpr, thresholds = roc_curve(test_labels, preds)\n",
        "roc_display = RocCurveDisplay(fpr=fpr, tpr=tpr).plot()\n",
        "\n",
        "print(confusion_matrix(test_labels, preds))\n",
        "print(accuracy_score(test_labels, preds))\n",
        "print(precision_score(test_labels, preds))\n",
        "print(f1_score(test_labels, preds))"
      ],
      "metadata": {
        "colab": {
          "base_uri": "https://localhost:8080/",
          "height": 366
        },
        "id": "E6m4y8egvsMI",
        "outputId": "0ede1d31-3f2c-4b88-b684-53fc0e699d01"
      },
      "execution_count": 45,
      "outputs": [
        {
          "output_type": "stream",
          "name": "stdout",
          "text": [
            "[[ 54 209]\n",
            " [266 101]]\n",
            "0.24603174603174602\n",
            "0.3258064516129032\n",
            "0.2983751846381093\n"
          ]
        },
        {
          "output_type": "display_data",
          "data": {
            "text/plain": [
              "<Figure size 432x288 with 1 Axes>"
            ],
            "image/png": "[encoded data removed]"
          },
          "metadata": {
            "needs_background": "light"
          }
        }
      ]
    },
    {
      "cell_type": "markdown",
      "source": [
        "# Question 8"
      ],
      "metadata": {
        "id": "ycu6mJMAwibU"
      }
    },
    {
      "cell_type": "code",
      "source": [
        "total_runs = 2*2*2*3*4\n",
        "print(total_runs)"
      ],
      "metadata": {
        "colab": {
          "base_uri": "https://localhost:8080/"
        },
        "id": "5oLRO7dZwflN",
        "outputId": "fb2e561e-efc8-4a67-f858-cdd96b85f6ce"
      },
      "execution_count": 46,
      "outputs": [
        {
          "output_type": "stream",
          "name": "stdout",
          "text": [
            "96\n"
          ]
        }
      ]
    },
    {
      "cell_type": "code",
      "source": [
        "from sklearn.pipeline import Pipeline\n",
        "from sklearn.model_selection import GridSearchCV\n",
        "from sklearn.base import BaseEstimator, TransformerMixin\n",
        "\n",
        "class DataProcessingTransformer(BaseEstimator, TransformerMixin):\n",
        "  def __init__(self, use_lemma=True):\n",
        "    self.use_lemma = use_lemma\n",
        "  \n",
        "  def fit(self, X, y=None):\n",
        "    return self\n",
        "  \n",
        "  def transform(self, X, y=None):\n",
        "    cleaned = X.full_text.apply(clean)\n",
        "    processed = cleaned.apply(preprocess)\n",
        "    tokenized = processed.apply(nltk.word_tokenize)\n",
        "    if self.use_lemma:\n",
        "      compressed = tokenized.apply(lemma)\n",
        "    else:\n",
        "      pass\n",
        "    transformed = compressed.apply(make_sent)\n",
        "    return transformed.to_numpy()\n",
        "\n",
        "class DimRedTransformer(BaseEstimator, TransformerMixin):\n",
        "  def __init__(self, use_lsi=True, num_features=50):\n",
        "    self.use_lsi = True\n",
        "    self.num_features = num_features\n",
        "\n",
        "  def fit(self, X, y=None):\n",
        "    return self\n",
        "\n",
        "  def transform(self, X, y=None):\n",
        "    if self.use_lsi:\n",
        "      u, sigma, v = scipy.sparse.linalg.svds(X, k=self.num_features)\n",
        "      return X@(v.transpose())\n",
        "    else:\n",
        "      nmf = NMF(n_components=self.num_features)\n",
        "      W = nmf.fit_transform(X)\n",
        "      return W\n",
        "\n",
        "steps = [#('preprocessing', DataProcessingTransformer()),\n",
        "         ('vectorizing', CountVectorizer()),\n",
        "         ('tfidf', TfidfTransformer()),\n",
        "         ('dim_red', DimRedTransformer()),\n",
        "         ('classifier', SVC())]\n",
        "\n",
        "params = [\n",
        "    {\n",
        "        'vectorizing__min_df': (3, 5),\n",
        "        'vectorizing__stop_words': ('english',),\n",
        "        'dim_red__use_lsi': (True, False),\n",
        "        'dim_red__num_features': (5, 30, 80),\n",
        "        'classifier': (SVC(),),\n",
        "        'classifier__C': (10**1,),\n",
        "        'classifier__kernel': ('linear',)\n",
        "    },\n",
        "    {\n",
        "        'vectorizing__min_df': (3, 5),\n",
        "        'vectorizing__stop_words': ('english',),\n",
        "        'dim_red__use_lsi': (True, False),\n",
        "        'dim_red__num_features': (5, 30, 80),\n",
        "        'classifier': (LogisticRegression(),),\n",
        "        'classifier__C': (10**1,),\n",
        "        'classifier__kernel': ('linear',),\n",
        "        'classifier__penalty': ('l1',)\n",
        "    },\n",
        "    {\n",
        "        'vectorizing__min_df': (3, 5),\n",
        "        'vectorizing__stop_words': ('english',),\n",
        "        'dim_red__use_lsi': (True, False),\n",
        "        'dim_red__num_features': (5, 30, 80),\n",
        "        'classifier': (LogisticRegression(),),\n",
        "        'classifier__C': (10**2),\n",
        "        'classifier__kernel': ('linear',),\n",
        "        'classifier__penalty': ('l2',)\n",
        "    },\n",
        "    {\n",
        "        'vectorizing__min_df': (3, 5),\n",
        "        'vectorizing__stop_words': ('english',),\n",
        "        'dim_red__use_lsi': (True, False),\n",
        "        'dim_red__num_features': (5, 30, 80),\n",
        "        'classifier': (GaussianNB(),)\n",
        "    }\n",
        "]\n",
        "\n",
        "params_test = [\n",
        "    {\n",
        "        'vectorizing__min_df': [3, 5],\n",
        "        'vectorizing__stop_words': ('english',),\n",
        "        'dim_red__use_lsi': [True],\n",
        "        'dim_red__num_features': [5],\n",
        "        'classifier': [SVC()],\n",
        "        'classifier__C': [10**1],\n",
        "        'classifier__kernel': ['linear']\n",
        "    }\n",
        "]\n",
        "\n",
        "pipe = Pipeline(steps=steps)\n",
        "scores = []\n",
        "for input in [final_data_train, final_data_train_stemmed]:\n",
        "  search = GridSearchCV(pipe, params_test, n_jobs=2) # change to params instead of params_test to run on full grid\n",
        "  search.fit(input, train_labels)\n",
        "  scores.append(search.best_score_)\n",
        "print(scores)"
      ],
      "metadata": {
        "id": "DVVW5d1Xw7rn"
      },
      "execution_count": null,
      "outputs": []
    },
    {
      "cell_type": "markdown",
      "source": [
        "# Question 9"
      ],
      "metadata": {
        "id": "-WouoWXpTcsl"
      }
    },
    {
      "cell_type": "code",
      "source": [
        "from sklearn.multiclass import OneVsRestClassifier, OneVsOneClassifier\n",
        "from sklearn.svm import SVC\n",
        "from sklearn.naive_bayes import GaussianNB\n",
        "from sklearn.metrics import confusion_matrix, roc_curve, RocCurveDisplay, accuracy_score, recall_score, precision_score, f1_score\n",
        "\n",
        "\n",
        "def label_data(x):\n",
        "  label_map = {\n",
        "      \"chess\":0,\n",
        "      \"cricket\":1,\n",
        "      \"hockey\":2,\n",
        "      \"soccer\":3,\n",
        "      \"football\":4,\n",
        "      \"%22forest%20fire%22\":5,\n",
        "      \"flood\":6,\n",
        "      \"earthquake\":7,\n",
        "      \"drought\":8\n",
        "  }\n",
        "  return label_map[x]\n",
        "\n",
        "multi_train_labels = train.leaf_label.apply(label_data)\n",
        "multi_test_labels = test.leaf_label.apply(label_data)\n",
        "\n",
        "ovr = OneVsRestClassifier(SVC(kernel='linear')).fit(dim_reduced_train, multi_train_labels)\n",
        "preds = ovr.predict(dim_reduced_test)\n",
        "print(confusion_matrix(multi_test_labels, preds))\n",
        "print(accuracy_score(multi_test_labels, preds))\n",
        "print(recall_score(multi_test_labels, preds, average='weighted'))\n",
        "print(precision_score(multi_test_labels, preds, average='weighted'))\n",
        "print(f1_score(multi_test_labels, preds, average='weighted'))\n",
        "\n",
        "ovo = OneVsOneClassifier(SVC(kernel='linear')).fit(dim_reduced_train, multi_train_labels)\n",
        "preds = ovo.predict(dim_reduced_test)\n",
        "print(confusion_matrix(multi_test_labels, preds))\n",
        "print(accuracy_score(multi_test_labels, preds))\n",
        "print(recall_score(multi_test_labels, preds, average='weighted'))\n",
        "print(precision_score(multi_test_labels, preds, average='weighted'))\n",
        "print(f1_score(multi_test_labels, preds, average='weighted'))\n",
        "\n",
        "nb = GaussianNB().fit(dim_reduced_train, multi_train_labels)\n",
        "preds = nb.predict(dim_reduced_test)\n",
        "print(confusion_matrix(multi_test_labels, preds))\n",
        "print(accuracy_score(multi_test_labels, preds))\n",
        "print(recall_score(multi_test_labels, preds, average='weighted'))\n",
        "print(precision_score(multi_test_labels, preds, average='weighted'))\n",
        "print(f1_score(multi_test_labels, preds, average='weighted'))"
      ],
      "metadata": {
        "colab": {
          "base_uri": "https://localhost:8080/"
        },
        "id": "A43_MnlEHZTx",
        "outputId": "6928bced-66dc-48ca-a0e4-2ed708752001"
      },
      "execution_count": 37,
      "outputs": [
        {
          "output_type": "stream",
          "name": "stdout",
          "text": [
            "[[21 27  9  0  0 16  2  0  1]\n",
            " [ 6  0  2  0  0  2 29  4 28]\n",
            " [ 6 48  0  0  0  9  1  3  2]\n",
            " [16  0 29  0  2  6  1 14  2]\n",
            " [22  4 23  0  3  3  0 12  2]\n",
            " [ 4 19 16  0  0  2 19  2  5]\n",
            " [21  0  0  0  0  1  2  1 42]\n",
            " [ 3  6  1  0  0  1  9 44  1]\n",
            " [ 5  1  1  0  0  6 55  0  8]]\n",
            "0.12698412698412698\n",
            "0.12698412698412698\n",
            "0.1638509670255117\n",
            "0.11726662060368769\n"
          ]
        },
        {
          "output_type": "stream",
          "name": "stderr",
          "text": [
            "/usr/local/lib/python3.8/dist-packages/sklearn/metrics/_classification.py:1318: UndefinedMetricWarning: Precision is ill-defined and being set to 0.0 in labels with no predicted samples. Use `zero_division` parameter to control this behavior.\n",
            "  _warn_prf(average, modifier, msg_start, len(result))\n"
          ]
        },
        {
          "output_type": "stream",
          "name": "stdout",
          "text": [
            "[[17 18  0  2  0 37  0  1  1]\n",
            " [ 1  0  0  0  0 35  0 28  7]\n",
            " [29  0  0  0  0 38  0  1  1]\n",
            " [12  0  8  8  6 31  0  4  1]\n",
            " [23  2  4  6  8 22  0  4  0]\n",
            " [ 4  0 12  5  0 35  5  3  3]\n",
            " [15  0  0  0  0 14  0  1 37]\n",
            " [ 1  0  0  0  0 20  2 41  1]\n",
            " [ 6  0  0  0  0 36 27  0  7]]\n",
            "0.18412698412698414\n",
            "0.18412698412698414\n",
            "0.20331595013689568\n",
            "0.15493045620446855\n",
            "[[19  0  3 23  8  3  0 20  0]\n",
            " [ 0  0  0 40  4  0  2 12 13]\n",
            " [ 0  0  7 25 29  2  0  3  3]\n",
            " [ 1  0  9 23 32  4  0  1  0]\n",
            " [ 0  0  5 24 32  1  0  7  0]\n",
            " [ 8  0  0 10  7 10  2 10 20]\n",
            " [ 0  0  0  1  1  6 11  2 46]\n",
            " [ 0  0  0  6  4  3  0 51  1]\n",
            " [ 1  0  0  4  0 13 14  2 42]]\n",
            "0.30952380952380953\n",
            "0.30952380952380953\n",
            "0.3122333803823131\n",
            "0.27557812678346033\n"
          ]
        },
        {
          "output_type": "stream",
          "name": "stderr",
          "text": [
            "/usr/local/lib/python3.8/dist-packages/sklearn/metrics/_classification.py:1318: UndefinedMetricWarning: Precision is ill-defined and being set to 0.0 in labels with no predicted samples. Use `zero_division` parameter to control this behavior.\n",
            "  _warn_prf(average, modifier, msg_start, len(result))\n"
          ]
        }
      ]
    },
    {
      "cell_type": "markdown",
      "source": [
        "# Question 10"
      ],
      "metadata": {
        "id": "Xw7UFuBEB7fa"
      }
    },
    {
      "cell_type": "markdown",
      "source": [
        "a. not sure\n",
        "\n",
        "b. They would give different GLoVE embeddings since they are used in context of different words. GLoVE isi trained using co-occurrence probabilities so this would create different vectors when different pairs of words occur.\n",
        "\n",
        "c. First should be close to 0, second should be close to third\n",
        "\n",
        "d. lemmatize since this often creates real words rather than word fragments"
      ],
      "metadata": {
        "id": "x_5GN2lT1sG5"
      }
    },
    {
      "cell_type": "markdown",
      "source": [
        "# Question 11"
      ],
      "metadata": {
        "id": "tuLlMKNT2Ddc"
      }
    },
    {
      "cell_type": "markdown",
      "source": [
        "a. get the GLoVE vector for each word in the sentence, then average these vectors to get the feature"
      ],
      "metadata": {
        "id": "PdJeg6VJ2f3r"
      }
    },
    {
      "cell_type": "code",
      "source": [
        "import nltk\n",
        "from nltk.stem import WordNetLemmatizer\n",
        "from nltk.corpus import wordnet\n",
        "from nltk.stem import PorterStemmer\n",
        "\n",
        "nltk.download('wordnet')\n",
        "nltk.download('omw-1.4')\n",
        "nltk.download('punkt')\n",
        "nltk.download('averaged_perceptron_tagger')\n",
        "\n",
        "def get_train_and_test(embeddings):\n",
        "  # clean using their function\n",
        "  cleaned_train = train.full_text.apply(clean)\n",
        "  cleaned_test = test.full_text.apply(clean)\n",
        "\n",
        "  embeddings_dict = {}\n",
        "  dimension_of_glove = 300\n",
        "  with open(embeddings, 'r') as f:\n",
        "    for line in f:\n",
        "      values = line.split()\n",
        "      word = values[0]\n",
        "      vector = np.asarray(values[1:], \"float32\")\n",
        "      embeddings_dict[word] = vector\n",
        "\n",
        "\n",
        "  def get_glove(sent):\n",
        "    vec = None\n",
        "    count = 0\n",
        "    for word in sent.split():\n",
        "      if count == 0 and word in embeddings_dict:\n",
        "        vec = embeddings_dict[word]\n",
        "        count += 1\n",
        "      elif word in embeddings_dict:\n",
        "        vec += embeddings_dict[word]\n",
        "        count += 1\n",
        "    return vec / count\n",
        "\n",
        "  vectorized_train = cleaned_train.apply(get_glove).to_numpy()\n",
        "  vectorized_train = np.stack(vectorized_train, axis=0)\n",
        "  vectorized_train = np.clip(vectorized_train, -1, 1)\n",
        "\n",
        "  vectorized_test = cleaned_test.apply(get_glove).to_numpy()\n",
        "  vectorized_test = np.stack(vectorized_test, axis=0)\n",
        "  vectorized_test = np.clip(vectorized_test, -1, 1)\n",
        "  return vectorized_train, vectorized_test"
      ],
      "metadata": {
        "colab": {
          "base_uri": "https://localhost:8080/"
        },
        "id": "xGm7X6b4-Ol8",
        "outputId": "2f968d37-6311-4bb1-84e5-b4090ea90979"
      },
      "execution_count": 24,
      "outputs": [
        {
          "output_type": "stream",
          "name": "stderr",
          "text": [
            "[nltk_data] Downloading package wordnet to /root/nltk_data...\n",
            "[nltk_data]   Package wordnet is already up-to-date!\n",
            "[nltk_data] Downloading package omw-1.4 to /root/nltk_data...\n",
            "[nltk_data]   Package omw-1.4 is already up-to-date!\n",
            "[nltk_data] Downloading package punkt to /root/nltk_data...\n",
            "[nltk_data]   Package punkt is already up-to-date!\n",
            "[nltk_data] Downloading package averaged_perceptron_tagger to\n",
            "[nltk_data]     /root/nltk_data...\n",
            "[nltk_data]   Package averaged_perceptron_tagger is already up-to-\n",
            "[nltk_data]       date!\n"
          ]
        }
      ]
    },
    {
      "cell_type": "code",
      "source": [
        "vectorized_train, vectorized_test = get_train_and_test(\"glove.6B.300d.txt\")"
      ],
      "metadata": {
        "id": "8Iuz18x4x5QO"
      },
      "execution_count": 25,
      "outputs": []
    },
    {
      "cell_type": "code",
      "source": [
        "print(vectorized_train.shape, vectorized_test.shape)"
      ],
      "metadata": {
        "colab": {
          "base_uri": "https://localhost:8080/"
        },
        "id": "ZWRFy2qM7TOw",
        "outputId": "754bb6f6-4a74-4e1b-f1df-b9c77cb07c3a"
      },
      "execution_count": 26,
      "outputs": [
        {
          "output_type": "stream",
          "name": "stdout",
          "text": [
            "(2520, 300) (630, 300)\n"
          ]
        }
      ]
    },
    {
      "cell_type": "code",
      "source": [
        "print(np.min(vectorized_train), np.max(vectorized_train))\n"
      ],
      "metadata": {
        "colab": {
          "base_uri": "https://localhost:8080/"
        },
        "id": "asWG1xx670XD",
        "outputId": "77dc51c1-b8f5-4635-e88b-66b078cf5713"
      },
      "execution_count": 27,
      "outputs": [
        {
          "output_type": "stream",
          "name": "stdout",
          "text": [
            "-1.0 1.0\n"
          ]
        }
      ]
    },
    {
      "cell_type": "code",
      "source": [
        "from sklearn.svm import SVC\n",
        "\n",
        "def label_data(x):\n",
        "  if x == \"sports\":\n",
        "    return 1\n",
        "  else:\n",
        "    return 0\n",
        "train_labels = train.root_label.apply(label_data)\n",
        "test_labels = test.root_label.apply(label_data)\n",
        "\n",
        "hard_margin = SVC(C=10, kernel='linear').fit(vectorized_train, train_labels)"
      ],
      "metadata": {
        "id": "SnmhafhL6ETC"
      },
      "execution_count": 28,
      "outputs": []
    },
    {
      "cell_type": "code",
      "source": [
        "from sklearn.metrics import confusion_matrix, roc_curve, RocCurveDisplay, accuracy_score, precision_score, f1_score\n",
        "\n",
        "preds = hard_margin.predict(vectorized_test)\n",
        "\n",
        "fpr, tpr, thresholds = roc_curve(test_labels, preds)\n",
        "roc_display = RocCurveDisplay(fpr=fpr, tpr=tpr).plot()\n",
        "\n",
        "print(confusion_matrix(test_labels, preds))\n",
        "print(accuracy_score(test_labels, preds))\n",
        "print(precision_score(test_labels, preds))\n",
        "print(f1_score(test_labels, preds))"
      ],
      "metadata": {
        "colab": {
          "base_uri": "https://localhost:8080/",
          "height": 366
        },
        "id": "ci0WkAs66XA-",
        "outputId": "7e0c9248-e170-4539-c1ab-27c69951d84b"
      },
      "execution_count": 29,
      "outputs": [
        {
          "output_type": "stream",
          "name": "stdout",
          "text": [
            "[[  0 263]\n",
            " [  0 367]]\n",
            "0.5825396825396826\n",
            "0.5825396825396826\n",
            "0.7362086258776329\n"
          ]
        },
        {
          "output_type": "display_data",
          "data": {
            "text/plain": [
              "<Figure size 432x288 with 1 Axes>"
            ],
            "image/png": "[encoded data removed]"
          },
          "metadata": {
            "needs_background": "light"
          }
        }
      ]
    },
    {
      "cell_type": "markdown",
      "source": [
        "# Question 12"
      ],
      "metadata": {
        "id": "6UASlSGZxH64"
      }
    },
    {
      "cell_type": "code",
      "source": [
        "from sklearn.svm import SVC\n",
        "from sklearn.metrics import accuracy_score\n",
        "\n",
        "def label_data(x):\n",
        "  if x == \"sports\":\n",
        "    return 1\n",
        "  else:\n",
        "    return 0\n",
        "train_labels = train.root_label.apply(label_data)\n",
        "test_labels = test.root_label.apply(label_data)\n",
        "\n",
        "accs = []\n",
        "fnames = [\"glove.6B.50d.txt\", \"glove.6B.100d.txt\", \"glove.6B.200d.txt\", \"glove.6B.300d.txt\"]\n",
        "for fname in fnames:\n",
        "  vectorized_train, vectorized_test = get_train_and_test(fname)\n",
        "  classifier = SVC(C=10, kernel='linear').fit(vectorized_train, train_labels)\n",
        "  preds = classifier.predict(vectorized_test)\n",
        "  accs.append(accuracy_score(test_labels, preds))\n",
        "\n",
        "import matplotlib.pyplot as plt\n",
        "plt.bar(fnames, accs)"
      ],
      "metadata": {
        "colab": {
          "base_uri": "https://localhost:8080/",
          "height": 282
        },
        "id": "W-JW9wUiwRse",
        "outputId": "8498de16-0744-42fd-9ad9-3295b1df0b2b"
      },
      "execution_count": 30,
      "outputs": [
        {
          "output_type": "execute_result",
          "data": {
            "text/plain": [
              "<BarContainer object of 4 artists>"
            ]
          },
          "metadata": {},
          "execution_count": 30
        },
        {
          "output_type": "display_data",
          "data": {
            "text/plain": [
              "<Figure size 432x288 with 1 Axes>"
            ],
            "image/png": "[encoded data removed]"
          },
          "metadata": {
            "needs_background": "light"
          }
        }
      ]
    },
    {
      "cell_type": "markdown",
      "source": [
        "# Question 13"
      ],
      "metadata": {
        "id": "CuCjZTgBzhhZ"
      }
    },
    {
      "cell_type": "code",
      "source": [
        "!pip install umap-learn"
      ],
      "metadata": {
        "id": "lxYRUW8k0CmE"
      },
      "execution_count": null,
      "outputs": []
    },
    {
      "cell_type": "code",
      "source": [
        "!pip install umap-learn\n",
        "import umap.umap_ as umap\n",
        "\n",
        "reducer = umap.UMAP()\n",
        "embedding = reducer.fit_transform(vectorized_train)\n",
        "print(embedding.shape)"
      ],
      "metadata": {
        "colab": {
          "base_uri": "https://localhost:8080/"
        },
        "id": "bYJ4-Cw-zExC",
        "outputId": "46b0b031-1b11-42eb-b7d9-02ef649d29cb"
      },
      "execution_count": 42,
      "outputs": [
        {
          "output_type": "stream",
          "name": "stdout",
          "text": [
            "(2520, 2)\n"
          ]
        }
      ]
    },
    {
      "cell_type": "code",
      "source": [
        "plt.scatter(embedding[:,0], embedding[:,1])"
      ],
      "metadata": {
        "colab": {
          "base_uri": "https://localhost:8080/",
          "height": 282
        },
        "id": "qFxR9vv70BtC",
        "outputId": "f7e8403e-ccb8-4e0c-8ea7-36f8f9daef70"
      },
      "execution_count": 43,
      "outputs": [
        {
          "output_type": "execute_result",
          "data": {
            "text/plain": [
              "<matplotlib.collections.PathCollection at 0x7f02a7b61d90>"
            ]
          },
          "metadata": {},
          "execution_count": 43
        },
        {
          "output_type": "display_data",
          "data": {
            "text/plain": [
              "<Figure size 432x288 with 1 Axes>"
            ],
            "image/png": "[encoded data removed]"
          },
          "metadata": {
            "needs_background": "light"
          }
        }
      ]
    },
    {
      "cell_type": "code",
      "source": [],
      "metadata": {
        "id": "77xfzmrB3jiV"
      },
      "execution_count": null,
      "outputs": []
    }
  ]
}