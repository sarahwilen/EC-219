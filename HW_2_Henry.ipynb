{
  "cells": [
    {
      "cell_type": "code",
      "execution_count": 1,
      "metadata": {
        "colab": {
          "base_uri": "https://localhost:8080/"
        },
        "id": "KEqbsHE54Djd",
        "outputId": "d1e217e8-4fc5-4fbf-c022-d5808cb53a4f"
      },
      "outputs": [
        {
          "output_type": "stream",
          "name": "stdout",
          "text": [
            "Mounted at /content/drive\n",
            "/content/drive/MyDrive/Grad School/ECE219/HW2\n"
          ]
        }
      ],
      "source": [
        "# Mount the google drive\n",
        "from google.colab import drive\n",
        "drive.mount('/content/drive', force_remount=True)\n",
        "\n",
        "# cd only once to the wanted dir at the beginning\n",
        "%cd '/content/drive/MyDrive/Grad School/ECE219/HW2'"
      ]
    },
    {
      "cell_type": "markdown",
      "metadata": {
        "id": "V9D_s5wq8YPf"
      },
      "source": [
        "# Helper Code"
      ]
    },
    {
      "cell_type": "code",
      "execution_count": 10,
      "metadata": {
        "id": "7FGIsTt18ZYI"
      },
      "outputs": [],
      "source": [
        "import itertools\n",
        "import numpy as np\n",
        "import matplotlib.pyplot as plt\n",
        "import matplotlib.colors as colors\n",
        "def plot_mat(mat, xticklabels = None, yticklabels = None, pic_fname = None, size=(-1,-1), if_show_values = True,\n",
        "             colorbar = True, grid = 'k', xlabel = None, ylabel = None, title = None, vmin=None, vmax=None):\n",
        "    if size == (-1, -1):\n",
        "        size = (mat.shape[1] / 3, mat.shape[0] / 3)\n",
        "\n",
        "    fig = plt.figure(figsize=size)\n",
        "    ax = fig.add_subplot(1,1,1)\n",
        "\n",
        "    # im = ax.imshow(mat, cmap=plt.cm.Blues)\n",
        "    im = ax.pcolor(mat, cmap=plt.cm.Blues, linestyle='-', linewidth=0.5, edgecolor=grid, vmin=vmin, vmax=vmax)\n",
        "    \n",
        "    if colorbar:\n",
        "        plt.colorbar(im,fraction=0.046, pad=0.06)\n",
        "    # tick_marks = np.arange(len(classes))\n",
        "    # Ticks\n",
        "    lda_num_topics = mat.shape[0]\n",
        "    nmf_num_topics = mat.shape[1]\n",
        "    yticks = np.arange(lda_num_topics)\n",
        "    xticks = np.arange(nmf_num_topics)\n",
        "    ax.set_xticks(xticks + 0.5)\n",
        "    ax.set_yticks(yticks + 0.5)\n",
        "    if xticklabels is None:\n",
        "        xticklabels = [str(i) for i in xticks]\n",
        "    if yticklabels is None:\n",
        "        yticklabels = [str(i) for i in yticks]\n",
        "    ax.set_xticklabels(xticklabels)\n",
        "    ax.set_yticklabels(yticklabels)\n",
        "\n",
        "    # Minor ticks\n",
        "    # ax.set_xticks(xticks, minor=True);\n",
        "    # ax.set_yticks(yticks, minor=True);\n",
        "    # ax.set_xticklabels([], minor=True)\n",
        "    # ax.set_yticklabels([], minor=True)\n",
        "\n",
        "    # ax.grid(which='minor', color='k', linestyle='-', linewidth=0.5)\n",
        "\n",
        "    # tick labels on all four sides\n",
        "    ax.tick_params(labelright = True, labeltop = False)\n",
        "\n",
        "    if ylabel:\n",
        "        plt.ylabel(ylabel, fontsize=15)\n",
        "    if xlabel:\n",
        "        plt.xlabel(xlabel, fontsize=15)\n",
        "    if title:\n",
        "        plt.title(title, fontsize=15)\n",
        "\n",
        "    # im = ax.imshow(mat, interpolation='nearest', cmap=plt.cm.Blues)\n",
        "    ax.invert_yaxis()\n",
        "\n",
        "    # thresh = mat.max() / 2\n",
        "\n",
        "    def show_values(pc, fmt=\"%.3f\", **kw):\n",
        "        pc.update_scalarmappable()\n",
        "        ax = pc.axes\n",
        "        for p, color, value in itertools.zip_longest(pc.get_paths(), pc.get_facecolors(), pc.get_array()):\n",
        "            x, y = p.vertices[:-2, :].mean(0)\n",
        "            if np.all(color[:3] > 0.5):\n",
        "                color = (0.0, 0.0, 0.0)\n",
        "            else:\n",
        "                color = (1.0, 1.0, 1.0)\n",
        "            ax.text(x, y, fmt % value, ha=\"center\", va=\"center\", color=color, **kw, fontsize=10)\n",
        "\n",
        "    if if_show_values:\n",
        "        show_values(im)\n",
        "    # for i, j in itertools.product(range(mat.shape[0]), range(mat.shape[1])):\n",
        "    #     ax.text(j, i, \"{:.2f}\".format(mat[i, j]), fontsize = 4,\n",
        "    #              horizontalalignment=\"center\",\n",
        "    #              color=\"white\" if mat[i, j] > thresh else \"black\")\n",
        "\n",
        "    plt.tight_layout()\n",
        "    if pic_fname:\n",
        "        plt.savefig(pic_fname, dpi=300, transparent=True)\n",
        "    plt.show()\n",
        "    plt.close()"
      ]
    },
    {
      "cell_type": "markdown",
      "metadata": {
        "id": "kGUdDWv64JJk"
      },
      "source": [
        "# Question 1"
      ]
    },
    {
      "cell_type": "code",
      "execution_count": 11,
      "metadata": {
        "colab": {
          "base_uri": "https://localhost:8080/"
        },
        "id": "fTQ_lElD4IZm",
        "outputId": "28d11d1f-cef2-4c73-ee6a-16d1423495d0"
      },
      "outputs": [
        {
          "output_type": "stream",
          "name": "stdout",
          "text": [
            "(4732, 20297)\n",
            "(3150, 20297)\n"
          ]
        }
      ],
      "source": [
        "from sklearn.datasets import fetch_20newsgroups\n",
        "from sklearn.feature_extraction.text import TfidfVectorizer\n",
        "\n",
        "categories = ['comp.graphics', 'comp.os.ms-windows.misc', 'comp.sys.ibm.pc.hardware', 'comp.sys.mac.hardware',\n",
        "              'rec.autos', 'rec.motorcycles', 'rec.sport.baseball', 'rec.sport.hockey']\n",
        "raw_train = fetch_20newsgroups(subset='train', categories=categories)\n",
        "raw_test = fetch_20newsgroups(subset='test', categories=categories)\n",
        "\n",
        "vectorizer = TfidfVectorizer(min_df=3, stop_words='english')\n",
        "vectorized_train = vectorizer.fit_transform(raw_train.data)\n",
        "vectorized_test = vectorizer.transform(raw_test.data)\n",
        "print(vectorized_train.shape)\n",
        "print(vectorized_test.shape)"
      ]
    },
    {
      "cell_type": "markdown",
      "metadata": {
        "id": "gNZsWEvn561E"
      },
      "source": [
        "# Question 2"
      ]
    },
    {
      "cell_type": "code",
      "execution_count": null,
      "metadata": {
        "colab": {
          "base_uri": "https://localhost:8080/",
          "height": 297
        },
        "id": "K1yPYI7X4whe",
        "outputId": "7fcd4b44-ae72-41a3-efea-b9c6a49532d1"
      },
      "outputs": [
        {
          "output_type": "display_data",
          "data": {
            "text/plain": [
              "<Figure size 432x288 with 2 Axes>"
            ],
            "image/png": "[encoded data removed]"
          },
          "metadata": {
            "needs_background": "light"
          }
        }
      ],
      "source": [
        "from sklearn.cluster import KMeans\n",
        "from sklearn.metrics.cluster import contingency_matrix\n",
        "\n",
        "kmeans = KMeans(n_clusters=2, random_state=0, max_iter=1000, n_init=30).fit(vectorized_train)\n",
        "\n",
        "preds = kmeans.labels_\n",
        "gt_labels = [0 if x < 4 else 1 for x in raw_train.target]\n",
        "contingency = contingency_matrix(gt_labels, preds)\n",
        "plot_mat(contingency,size=(6,4))"
      ]
    },
    {
      "cell_type": "markdown",
      "metadata": {
        "id": "bpjmZ_dB80_k"
      },
      "source": [
        "# Question 3"
      ]
    },
    {
      "cell_type": "code",
      "execution_count": 13,
      "metadata": {
        "colab": {
          "base_uri": "https://localhost:8080/",
          "height": 201
        },
        "id": "qou7rRn54yf-",
        "outputId": "62877260-63dd-4da4-ad0b-a167747d1f8a"
      },
      "outputs": [
        {
          "output_type": "error",
          "ename": "NameError",
          "evalue": "ignored",
          "traceback": [
            "\u001b[0;31m---------------------------------------------------------------------------\u001b[0m",
            "\u001b[0;31mNameError\u001b[0m                                 Traceback (most recent call last)",
            "\u001b[0;32m<ipython-input-13-f481d4dcc53a>\u001b[0m in \u001b[0;36m<module>\u001b[0;34m\u001b[0m\n\u001b[1;32m     14\u001b[0m   \u001b[0mprint\u001b[0m\u001b[0;34m(\u001b[0m\u001b[0;34mf\"Adjusted Mutual Info: {ami}\"\u001b[0m\u001b[0;34m)\u001b[0m\u001b[0;34m\u001b[0m\u001b[0;34m\u001b[0m\u001b[0m\n\u001b[1;32m     15\u001b[0m \u001b[0;34m\u001b[0m\u001b[0m\n\u001b[0;32m---> 16\u001b[0;31m \u001b[0mreport\u001b[0m\u001b[0;34m(\u001b[0m\u001b[0mpreds\u001b[0m\u001b[0;34m,\u001b[0m \u001b[0mgt_labels\u001b[0m\u001b[0;34m)\u001b[0m\u001b[0;34m\u001b[0m\u001b[0;34m\u001b[0m\u001b[0m\n\u001b[0m",
            "\u001b[0;31mNameError\u001b[0m: name 'preds' is not defined"
          ]
        }
      ],
      "source": [
        "from sklearn import metrics\n",
        "\n",
        "def report(preds, labels):\n",
        "  homog = metrics.homogeneity_score(labels, preds)\n",
        "  compl = metrics.completeness_score(labels, preds)\n",
        "  vmeas = metrics.v_measure_score(labels, preds)\n",
        "  ari = metrics.adjusted_rand_score(labels, preds)\n",
        "  ami = metrics.adjusted_mutual_info_score(labels, preds)\n",
        "\n",
        "  print(f\"Homogeneity: {homog}\")\n",
        "  print(f\"Completeness: {compl}\")\n",
        "  print(f\"V-Measure: {vmeas}\")\n",
        "  print(f\"Adjusted Rand Index: {ari}\")\n",
        "  print(f\"Adjusted Mutual Info: {ami}\")\n",
        "\n",
        "report(preds, gt_labels)"
      ]
    },
    {
      "cell_type": "markdown",
      "metadata": {
        "id": "2D3BbOFp-qOX"
      },
      "source": [
        "# Question 4"
      ]
    },
    {
      "cell_type": "code",
      "execution_count": null,
      "metadata": {
        "id": "VkChYxqO9zOn"
      },
      "outputs": [],
      "source": [
        "from sklearn.decomposition import TruncatedSVD\n",
        "import matplotlib.pyplot as plt\n",
        "import numpy as np\n",
        "\n",
        "svd = TruncatedSVD(n_components=1000).fit(vectorized_train)"
      ]
    },
    {
      "cell_type": "code",
      "execution_count": null,
      "metadata": {
        "colab": {
          "base_uri": "https://localhost:8080/",
          "height": 296
        },
        "id": "eGwc2Z5b-_TY",
        "outputId": "72151d40-e75e-4a5b-92a0-11fe3f0256a6"
      },
      "outputs": [
        {
          "output_type": "execute_result",
          "data": {
            "text/plain": [
              "Text(0, 0.5, '% Explained Variance')"
            ]
          },
          "metadata": {},
          "execution_count": 8
        },
        {
          "output_type": "display_data",
          "data": {
            "text/plain": [
              "<Figure size 432x288 with 1 Axes>"
            ],
            "image/png": "[encoded data removed]"
          },
          "metadata": {
            "needs_background": "light"
          }
        }
      ],
      "source": [
        "plt.plot(np.arange(1000), np.cumsum(svd.explained_variance_ratio_))\n",
        "plt.xlabel(\"r\")\n",
        "plt.ylabel(\"% Explained Variance\")"
      ]
    },
    {
      "cell_type": "markdown",
      "metadata": {
        "id": "ZaEo1TJT_jhk"
      },
      "source": [
        "# Question 5"
      ]
    },
    {
      "cell_type": "markdown",
      "metadata": {
        "id": "9WUCZoGrBgij"
      },
      "source": [
        "## SVD"
      ]
    },
    {
      "cell_type": "code",
      "execution_count": null,
      "metadata": {
        "colab": {
          "base_uri": "https://localhost:8080/"
        },
        "id": "N8oOUqQQ_i9G",
        "outputId": "29abb154-b98e-4634-c7fc-c953072aeef7"
      },
      "outputs": [
        {
          "output_type": "stream",
          "name": "stdout",
          "text": [
            "(4732, 1000)\n"
          ]
        }
      ],
      "source": [
        "reduced = TruncatedSVD(n_components=1000).fit_transform(vectorized_train)\n",
        "print(reduced.shape)"
      ]
    },
    {
      "cell_type": "code",
      "execution_count": null,
      "metadata": {
        "colab": {
          "base_uri": "https://localhost:8080/"
        },
        "id": "DykdClD3_aHD",
        "outputId": "c05853ee-401b-4081-e3e2-a5ea7c6d1155"
      },
      "outputs": [
        {
          "output_type": "stream",
          "name": "stdout",
          "text": [
            "Report for K=1\n",
            "Homogeneity: 0.00014204095083062465\n",
            "Completeness: 0.0001412576842723577\n",
            "V-Measure: 0.0001416482347603562\n",
            "Adjusted Rand Index: 8.382911369078102e-06\n",
            "Adjusted Mutual Info: -1.1274670412013187e-05\n",
            "\n",
            "Report for K=2\n",
            "Homogeneity: 0.5424402796383101\n",
            "Completeness: 0.5305509173713137\n",
            "V-Measure: 0.5364297280039588\n",
            "Adjusted Rand Index: 0.5935838393168896\n",
            "Adjusted Mutual Info: 0.5363582386800763\n",
            "\n",
            "Report for K=3\n",
            "Homogeneity: 0.3429682249124538\n",
            "Completeness: 0.2678130620246852\n",
            "V-Measure: 0.3007668127868771\n",
            "Adjusted Rand Index: 0.20171201240583206\n",
            "Adjusted Mutual Info: 0.30064701849422476\n",
            "\n",
            "Report for K=4\n",
            "Homogeneity: 0.3190720623461098\n",
            "Completeness: 0.23521365043596762\n",
            "V-Measure: 0.27079934700055236\n",
            "Adjusted Rand Index: 0.16175539632640745\n",
            "Adjusted Mutual Info: 0.2706712700527146\n",
            "\n",
            "Report for K=5\n",
            "Homogeneity: 0.31385241663380814\n",
            "Completeness: 0.22520780430242976\n",
            "V-Measure: 0.2622416230318425\n",
            "Adjusted Rand Index: 0.14746025949392344\n",
            "Adjusted Mutual Info: 0.2621105593274784\n",
            "\n",
            "Report for K=6\n",
            "Homogeneity: 0.31385241663380814\n",
            "Completeness: 0.22520780430242976\n",
            "V-Measure: 0.2622416230318425\n",
            "Adjusted Rand Index: 0.14746025949392344\n",
            "Adjusted Mutual Info: 0.2621105593274784\n",
            "\n",
            "Report for K=7\n",
            "Homogeneity: 0.3202696179699648\n",
            "Completeness: 0.23372312488602212\n",
            "V-Measure: 0.2702360884082969\n",
            "Adjusted Rand Index: 0.15702874259059377\n",
            "Adjusted Mutual Info: 0.2701073621771809\n",
            "\n",
            "Report for K=8\n",
            "Homogeneity: 0.32093834815161465\n",
            "Completeness: 0.23461037739364343\n",
            "V-Measure: 0.2710670136306842\n",
            "Adjusted Rand Index: 0.15803574127120665\n",
            "Adjusted Mutual Info: 0.27093852658061773\n",
            "\n",
            "Report for K=9\n",
            "Homogeneity: 0.32227863190216666\n",
            "Completeness: 0.23638850155080182\n",
            "V-Measure: 0.27273114280530375\n",
            "Adjusted Rand Index: 0.16005938866558345\n",
            "Adjusted Mutual Info: 0.2726031326941771\n",
            "\n",
            "Report for K=10\n",
            "Homogeneity: 0.3236227209616539\n",
            "Completeness: 0.23817147435601443\n",
            "V-Measure: 0.2743983516702529\n",
            "Adjusted Rand Index: 0.16209590277445343\n",
            "Adjusted Mutual Info: 0.2742708166284251\n",
            "\n",
            "Report for K=20\n",
            "Homogeneity: 0.32272623635800757\n",
            "Completeness: 0.23698228570408042\n",
            "V-Measure: 0.2732865344519876\n",
            "Adjusted Rand Index: 0.16073679706671756\n",
            "Adjusted Mutual Info: 0.2731586829033873\n",
            "\n",
            "Report for K=50\n",
            "Homogeneity: 0.32093834815161465\n",
            "Completeness: 0.23461037739364343\n",
            "V-Measure: 0.2710670136306842\n",
            "Adjusted Rand Index: 0.15803574127120665\n",
            "Adjusted Mutual Info: 0.27093852658061773\n",
            "\n",
            "Report for K=100\n",
            "Homogeneity: 0.32272623635800757\n",
            "Completeness: 0.23698228570408042\n",
            "V-Measure: 0.2732865344519876\n",
            "Adjusted Rand Index: 0.16073679706671756\n",
            "Adjusted Mutual Info: 0.2731586829033873\n",
            "\n",
            "Report for K=300\n",
            "Homogeneity: 0.3196018207649335\n",
            "Completeness: 0.23283707416717278\n",
            "V-Measure: 0.26940591449323553\n",
            "Adjusted Rand Index: 0.15602496058695836\n",
            "Adjusted Mutual Info: 0.26927694860104906\n",
            "\n"
          ]
        }
      ],
      "source": [
        "for k in [1,2,3,4,5,6,7,8,9,10,20,50,100,300]:\n",
        "  kmeans = KMeans(n_clusters=2, random_state=0, max_iter=1000, n_init=30).fit(reduced[...,:k])\n",
        "  print(f\"Report for K={k}\")\n",
        "  report(gt_labels, kmeans.labels_)\n",
        "  print()"
      ]
    },
    {
      "cell_type": "markdown",
      "metadata": {
        "id": "7XLHQkaGBimS"
      },
      "source": [
        "## NMF"
      ]
    },
    {
      "cell_type": "code",
      "execution_count": null,
      "metadata": {
        "colab": {
          "base_uri": "https://localhost:8080/"
        },
        "id": "9IPRQ5DABiP5",
        "outputId": "182ae5c4-1a9b-45eb-8633-063617655d89"
      },
      "outputs": [
        {
          "output_type": "stream",
          "name": "stderr",
          "text": [
            "/usr/local/lib/python3.8/dist-packages/sklearn/decomposition/_nmf.py:289: FutureWarning: The 'init' value, when 'init=None' and n_components is less than n_samples and n_features, will be changed from 'nndsvd' to 'nndsvda' in 1.1 (renaming of 0.26).\n",
            "  warnings.warn(\n"
          ]
        },
        {
          "output_type": "stream",
          "name": "stdout",
          "text": [
            "Report for K=1\n",
            "Homogeneity: 0.00014204095083062465\n",
            "Completeness: 0.0001412576842723577\n",
            "V-Measure: 0.0001416482347603562\n",
            "Adjusted Rand Index: 8.382911369078102e-06\n",
            "Adjusted Mutual Info: -1.1274670412013187e-05\n",
            "\n"
          ]
        },
        {
          "output_type": "stream",
          "name": "stderr",
          "text": [
            "/usr/local/lib/python3.8/dist-packages/sklearn/decomposition/_nmf.py:289: FutureWarning: The 'init' value, when 'init=None' and n_components is less than n_samples and n_features, will be changed from 'nndsvd' to 'nndsvda' in 1.1 (renaming of 0.26).\n",
            "  warnings.warn(\n"
          ]
        },
        {
          "output_type": "stream",
          "name": "stdout",
          "text": [
            "Report for K=2\n",
            "Homogeneity: 0.6905260883022852\n",
            "Completeness: 0.690571739184181\n",
            "V-Measure: 0.6905489129887598\n",
            "Adjusted Rand Index: 0.7899955869859687\n",
            "Adjusted Mutual Info: 0.6905017163557045\n",
            "\n"
          ]
        },
        {
          "output_type": "stream",
          "name": "stderr",
          "text": [
            "/usr/local/lib/python3.8/dist-packages/sklearn/decomposition/_nmf.py:289: FutureWarning: The 'init' value, when 'init=None' and n_components is less than n_samples and n_features, will be changed from 'nndsvd' to 'nndsvda' in 1.1 (renaming of 0.26).\n",
            "  warnings.warn(\n"
          ]
        },
        {
          "output_type": "stream",
          "name": "stdout",
          "text": [
            "Report for K=3\n",
            "Homogeneity: 0.3196504076011302\n",
            "Completeness: 0.23113119484736752\n",
            "V-Measure: 0.2682775906597415\n",
            "Adjusted Rand Index: 0.15237204725648834\n",
            "Adjusted Mutual Info: 0.268148016305106\n",
            "\n"
          ]
        },
        {
          "output_type": "stream",
          "name": "stderr",
          "text": [
            "/usr/local/lib/python3.8/dist-packages/sklearn/decomposition/_nmf.py:289: FutureWarning: The 'init' value, when 'init=None' and n_components is less than n_samples and n_features, will be changed from 'nndsvd' to 'nndsvda' in 1.1 (renaming of 0.26).\n",
            "  warnings.warn(\n"
          ]
        },
        {
          "output_type": "stream",
          "name": "stdout",
          "text": [
            "Report for K=4\n",
            "Homogeneity: 0.3162330803831179\n",
            "Completeness: 0.229987229396009\n",
            "V-Measure: 0.2663012293705742\n",
            "Adjusted Rand Index: 0.1543590393168567\n",
            "Adjusted Mutual Info: 0.2661716214087818\n",
            "\n"
          ]
        },
        {
          "output_type": "stream",
          "name": "stderr",
          "text": [
            "/usr/local/lib/python3.8/dist-packages/sklearn/decomposition/_nmf.py:289: FutureWarning: The 'init' value, when 'init=None' and n_components is less than n_samples and n_features, will be changed from 'nndsvd' to 'nndsvda' in 1.1 (renaming of 0.26).\n",
            "  warnings.warn(\n"
          ]
        },
        {
          "output_type": "stream",
          "name": "stdout",
          "text": [
            "Report for K=5\n",
            "Homogeneity: 0.2760431861741438\n",
            "Completeness: 0.17523153437355513\n",
            "V-Measure: 0.21437704734691596\n",
            "Adjusted Rand Index: 0.09531407102134519\n",
            "Adjusted Mutual Info: 0.2142303959344148\n",
            "\n"
          ]
        },
        {
          "output_type": "stream",
          "name": "stderr",
          "text": [
            "/usr/local/lib/python3.8/dist-packages/sklearn/decomposition/_nmf.py:289: FutureWarning: The 'init' value, when 'init=None' and n_components is less than n_samples and n_features, will be changed from 'nndsvd' to 'nndsvda' in 1.1 (renaming of 0.26).\n",
            "  warnings.warn(\n"
          ]
        },
        {
          "output_type": "stream",
          "name": "stdout",
          "text": [
            "Report for K=6\n",
            "Homogeneity: 0.28085367702643715\n",
            "Completeness: 0.17941597027058603\n",
            "V-Measure: 0.21895701905905762\n",
            "Adjusted Rand Index: 0.09794353280200618\n",
            "Adjusted Mutual Info: 0.21881158179903723\n",
            "\n"
          ]
        },
        {
          "output_type": "stream",
          "name": "stderr",
          "text": [
            "/usr/local/lib/python3.8/dist-packages/sklearn/decomposition/_nmf.py:289: FutureWarning: The 'init' value, when 'init=None' and n_components is less than n_samples and n_features, will be changed from 'nndsvd' to 'nndsvda' in 1.1 (renaming of 0.26).\n",
            "  warnings.warn(\n"
          ]
        },
        {
          "output_type": "stream",
          "name": "stdout",
          "text": [
            "Report for K=7\n",
            "Homogeneity: 0.2754110347712848\n",
            "Completeness: 0.1763527330022108\n",
            "V-Measure: 0.215021620349309\n",
            "Adjusted Rand Index: 0.09767874948960878\n",
            "Adjusted Mutual Info: 0.2148755845050072\n",
            "\n"
          ]
        },
        {
          "output_type": "stream",
          "name": "stderr",
          "text": [
            "/usr/local/lib/python3.8/dist-packages/sklearn/decomposition/_nmf.py:289: FutureWarning: The 'init' value, when 'init=None' and n_components is less than n_samples and n_features, will be changed from 'nndsvd' to 'nndsvda' in 1.1 (renaming of 0.26).\n",
            "  warnings.warn(\n"
          ]
        },
        {
          "output_type": "stream",
          "name": "stdout",
          "text": [
            "Report for K=8\n",
            "Homogeneity: 0.2781082093475005\n",
            "Completeness: 0.1779407006473716\n",
            "V-Measure: 0.2170239574857731\n",
            "Adjusted Rand Index: 0.09794341234795831\n",
            "Adjusted Mutual Info: 0.21687824959536192\n",
            "\n"
          ]
        },
        {
          "output_type": "stream",
          "name": "stderr",
          "text": [
            "/usr/local/lib/python3.8/dist-packages/sklearn/decomposition/_nmf.py:289: FutureWarning: The 'init' value, when 'init=None' and n_components is less than n_samples and n_features, will be changed from 'nndsvd' to 'nndsvda' in 1.1 (renaming of 0.26).\n",
            "  warnings.warn(\n"
          ]
        },
        {
          "output_type": "stream",
          "name": "stdout",
          "text": [
            "Report for K=9\n",
            "Homogeneity: 0.27914286345779193\n",
            "Completeness: 0.17929947728288523\n",
            "V-Measure: 0.21834880881363145\n",
            "Adjusted Rand Index: 0.09927148561118791\n",
            "Adjusted Mutual Info: 0.21820356918686284\n",
            "\n"
          ]
        },
        {
          "output_type": "stream",
          "name": "stderr",
          "text": [
            "/usr/local/lib/python3.8/dist-packages/sklearn/decomposition/_nmf.py:289: FutureWarning: The 'init' value, when 'init=None' and n_components is less than n_samples and n_features, will be changed from 'nndsvd' to 'nndsvda' in 1.1 (renaming of 0.26).\n",
            "  warnings.warn(\n"
          ]
        },
        {
          "output_type": "stream",
          "name": "stdout",
          "text": [
            "Report for K=10\n",
            "Homogeneity: 0.2704943529461418\n",
            "Completeness: 0.16797199840720142\n",
            "V-Measure: 0.20724726940613786\n",
            "Adjusted Rand Index: 0.08839337179548339\n",
            "Adjusted Mutual Info: 0.2070980220402393\n",
            "\n"
          ]
        },
        {
          "output_type": "stream",
          "name": "stderr",
          "text": [
            "/usr/local/lib/python3.8/dist-packages/sklearn/decomposition/_nmf.py:289: FutureWarning: The 'init' value, when 'init=None' and n_components is less than n_samples and n_features, will be changed from 'nndsvd' to 'nndsvda' in 1.1 (renaming of 0.26).\n",
            "  warnings.warn(\n"
          ]
        },
        {
          "output_type": "stream",
          "name": "stdout",
          "text": [
            "Report for K=20\n",
            "Homogeneity: 0.028338076473557707\n",
            "Completeness: 0.002034895712755213\n",
            "V-Measure: 0.0037971279182060255\n",
            "Adjusted Rand Index: -9.852324619533212e-05\n",
            "Adjusted Mutual Info: 0.0035100753973753753\n",
            "\n"
          ]
        },
        {
          "output_type": "stream",
          "name": "stderr",
          "text": [
            "/usr/local/lib/python3.8/dist-packages/sklearn/decomposition/_nmf.py:289: FutureWarning: The 'init' value, when 'init=None' and n_components is less than n_samples and n_features, will be changed from 'nndsvd' to 'nndsvda' in 1.1 (renaming of 0.26).\n",
            "  warnings.warn(\n"
          ]
        },
        {
          "output_type": "stream",
          "name": "stdout",
          "text": [
            "Report for K=50\n",
            "Homogeneity: 0.09834453089817194\n",
            "Completeness: 0.002146491979352881\n",
            "V-Measure: 0.0042012856619724976\n",
            "Adjusted Rand Index: 9.906029065382073e-05\n",
            "Adjusted Mutual Info: 0.003886069357709056\n",
            "\n"
          ]
        },
        {
          "output_type": "stream",
          "name": "stderr",
          "text": [
            "/usr/local/lib/python3.8/dist-packages/sklearn/decomposition/_nmf.py:289: FutureWarning: The 'init' value, when 'init=None' and n_components is less than n_samples and n_features, will be changed from 'nndsvd' to 'nndsvda' in 1.1 (renaming of 0.26).\n",
            "  warnings.warn(\n"
          ]
        },
        {
          "output_type": "stream",
          "name": "stdout",
          "text": [
            "Report for K=100\n",
            "Homogeneity: 0.09834453089817194\n",
            "Completeness: 0.002146491979352881\n",
            "V-Measure: 0.0042012856619724976\n",
            "Adjusted Rand Index: 9.906029065382073e-05\n",
            "Adjusted Mutual Info: 0.003886069357709056\n",
            "\n"
          ]
        },
        {
          "output_type": "stream",
          "name": "stderr",
          "text": [
            "/usr/local/lib/python3.8/dist-packages/sklearn/decomposition/_nmf.py:289: FutureWarning: The 'init' value, when 'init=None' and n_components is less than n_samples and n_features, will be changed from 'nndsvd' to 'nndsvda' in 1.1 (renaming of 0.26).\n",
            "  warnings.warn(\n"
          ]
        },
        {
          "output_type": "stream",
          "name": "stdout",
          "text": [
            "Report for K=300\n",
            "Homogeneity: 0.008867264974528067\n",
            "Completeness: 0.0011622433966206522\n",
            "V-Measure: 0.0020551197090332486\n",
            "Adjusted Rand Index: -0.00010124188569221305\n",
            "Adjusted Mutual Info: 0.0017844422841272712\n",
            "\n"
          ]
        }
      ],
      "source": [
        "from sklearn.decomposition import NMF\n",
        "for k in [1,2,3,4,5,6,7,8,9,10,20,50,100,300]:\n",
        "  reduced = NMF(n_components=k).fit_transform(vectorized_train)\n",
        "  kmeans = KMeans(n_clusters=2, random_state=0, max_iter=1000, n_init=30).fit(reduced[...,:k])\n",
        "  print(f\"Report for K={k}\")\n",
        "  report(gt_labels, kmeans.labels_)\n",
        "  print()"
      ]
    },
    {
      "cell_type": "markdown",
      "source": [
        "# Question 8"
      ],
      "metadata": {
        "id": "gH6ucZLGJL0v"
      }
    },
    {
      "cell_type": "markdown",
      "source": [
        "## PCA"
      ],
      "metadata": {
        "id": "uYzHORXgJYUh"
      }
    },
    {
      "cell_type": "code",
      "execution_count": null,
      "metadata": {
        "id": "Y5qq4YNbCNVD",
        "colab": {
          "base_uri": "https://localhost:8080/",
          "height": 562
        },
        "outputId": "57905cc1-a3a4-4e92-82e3-4bff58d73b90"
      },
      "outputs": [
        {
          "output_type": "execute_result",
          "data": {
            "text/plain": [
              "Text(0.5, 1.0, 'Clustering Visualization with GT Labels')"
            ]
          },
          "metadata": {},
          "execution_count": 12
        },
        {
          "output_type": "display_data",
          "data": {
            "text/plain": [
              "<Figure size 432x288 with 1 Axes>"
            ],
            "image/png": "[encoded data removed]"
          },
          "metadata": {
            "needs_background": "light"
          }
        },
        {
          "output_type": "display_data",
          "data": {
            "text/plain": [
              "<Figure size 432x288 with 1 Axes>"
            ],
            "image/png": "[encoded data removed]"
          },
          "metadata": {
            "needs_background": "light"
          }
        }
      ],
      "source": [
        "import matplotlib.pyplot as plt\n",
        "\n",
        "reduced = TruncatedSVD(n_components=2).fit_transform(vectorized_train)\n",
        "kmeans = KMeans(n_clusters=2, random_state=0, max_iter=1000, n_init=30).fit(reduced)\n",
        "preds = kmeans.labels_\n",
        "gt_labels = [0 if x < 4 else 1 for x in raw_train.target]\n",
        "\n",
        "plt.scatter(reduced[...,0], reduced[...,1], c=preds)\n",
        "plt.title(\"Clustering Visualization with Predicted Labels\")\n",
        "plt.figure()\n",
        "plt.scatter(reduced[...,0], reduced[...,1], c=gt_labels)\n",
        "plt.title(\"Clustering Visualization with GT Labels\")"
      ]
    },
    {
      "cell_type": "markdown",
      "source": [
        "## NMF"
      ],
      "metadata": {
        "id": "Tzaj-gtIJZWc"
      }
    },
    {
      "cell_type": "code",
      "source": [
        "from sklearn.decomposition import NMF\n",
        "\n",
        "reduced = NMF(n_components=2).fit_transform(vectorized_train)\n",
        "kmeans = KMeans(n_clusters=2, random_state=0, max_iter=1000, n_init=30).fit(reduced)\n",
        "preds = kmeans.labels_\n",
        "gt_labels = [0 if x < 4 else 1 for x in raw_train.target]\n",
        "\n",
        "plt.scatter(reduced[...,0], reduced[...,1], c=preds)\n",
        "plt.title(\"Clustering Visualization with Predicted Labels\")\n",
        "plt.figure()\n",
        "plt.scatter(reduced[...,0], reduced[...,1], c=gt_labels)\n",
        "plt.title(\"Clustering Visualization with GT Labels\")"
      ],
      "metadata": {
        "colab": {
          "base_uri": "https://localhost:8080/",
          "height": 617
        },
        "id": "QYxkp74NJc-M",
        "outputId": "977837b5-975b-4064-c048-7ab29f9deadf"
      },
      "execution_count": null,
      "outputs": [
        {
          "output_type": "stream",
          "name": "stderr",
          "text": [
            "/usr/local/lib/python3.8/dist-packages/sklearn/decomposition/_nmf.py:289: FutureWarning: The 'init' value, when 'init=None' and n_components is less than n_samples and n_features, will be changed from 'nndsvd' to 'nndsvda' in 1.1 (renaming of 0.26).\n",
            "  warnings.warn(\n"
          ]
        },
        {
          "output_type": "execute_result",
          "data": {
            "text/plain": [
              "Text(0.5, 1.0, 'Clustering Visualization with GT Labels')"
            ]
          },
          "metadata": {},
          "execution_count": 13
        },
        {
          "output_type": "display_data",
          "data": {
            "text/plain": [
              "<Figure size 432x288 with 1 Axes>"
            ],
            "image/png": "[encoded data removed]"
          },
          "metadata": {
            "needs_background": "light"
          }
        },
        {
          "output_type": "display_data",
          "data": {
            "text/plain": [
              "<Figure size 432x288 with 1 Axes>"
            ],
            "image/png": "[encoded data removed]"
          },
          "metadata": {
            "needs_background": "light"
          }
        }
      ]
    },
    {
      "cell_type": "markdown",
      "source": [
        "# Question 10"
      ],
      "metadata": {
        "id": "7BQtgAabPUy6"
      }
    },
    {
      "cell_type": "code",
      "source": [
        "raw_train = fetch_20newsgroups(subset='train')\n",
        "raw_test = fetch_20newsgroups(subset='test')\n",
        "\n",
        "vectorizer = TfidfVectorizer(min_df=3)\n",
        "vectorized_train = vectorizer.fit_transform(raw_train.data)\n",
        "vectorized_test = vectorizer.transform(raw_test.data)\n",
        "print(vectorized_train.shape)\n",
        "print(vectorized_test.shape)"
      ],
      "metadata": {
        "colab": {
          "base_uri": "https://localhost:8080/"
        },
        "id": "S6MzmlGnPK7d",
        "outputId": "7d72a464-32b3-441a-a8ff-aef327c6f9e2"
      },
      "execution_count": 15,
      "outputs": [
        {
          "output_type": "stream",
          "name": "stdout",
          "text": [
            "(11314, 38869)\n",
            "(7532, 38869)\n"
          ]
        }
      ]
    },
    {
      "cell_type": "markdown",
      "source": [
        "## SVD"
      ],
      "metadata": {
        "id": "c97f4tR1Qlrw"
      }
    },
    {
      "cell_type": "code",
      "source": [
        "reduced = TruncatedSVD(n_components=450).fit_transform(vectorized_train)\n",
        "kmeans = KMeans(n_clusters=20, random_state=0, max_iter=1000, n_init=30).fit(reduced)\n",
        "report(kmeans.labels_, raw_train.target)"
      ],
      "metadata": {
        "colab": {
          "base_uri": "https://localhost:8080/"
        },
        "id": "MIxj3c0IQmaS",
        "outputId": "8a2aa49c-9f2b-427e-b4af-ebbf8de4858c"
      },
      "execution_count": null,
      "outputs": [
        {
          "output_type": "stream",
          "name": "stdout",
          "text": [
            "Homogeneity: 0.2729498590374165\n",
            "Completeness: 0.3477642766822429\n",
            "V-Measure: 0.3058483924765592\n",
            "Adjusted Rand Index: 0.09055558338694278\n",
            "Adjusted Mutual Info: 0.30147312250354097\n"
          ]
        }
      ]
    },
    {
      "cell_type": "markdown",
      "source": [
        "## NMF"
      ],
      "metadata": {
        "id": "a1JtOJNtQm3B"
      }
    },
    {
      "cell_type": "code",
      "source": [
        "reduced = NMF(n_components=2).fit_transform(vectorized_train)\n",
        "kmeans = KMeans(n_clusters=20, random_state=0, max_iter=1000, n_init=30).fit(reduced)\n",
        "report(kmeans.labels_, raw_train.target)"
      ],
      "metadata": {
        "colab": {
          "base_uri": "https://localhost:8080/"
        },
        "id": "R90kSGBoQneo",
        "outputId": "9c5fffdc-e81b-49e9-d03e-edfe5132e3a3"
      },
      "execution_count": null,
      "outputs": [
        {
          "output_type": "stream",
          "name": "stderr",
          "text": [
            "/usr/local/lib/python3.8/dist-packages/sklearn/decomposition/_nmf.py:289: FutureWarning: The 'init' value, when 'init=None' and n_components is less than n_samples and n_features, will be changed from 'nndsvd' to 'nndsvda' in 1.1 (renaming of 0.26).\n",
            "  warnings.warn(\n"
          ]
        },
        {
          "output_type": "stream",
          "name": "stdout",
          "text": [
            "Homogeneity: 0.10767185838357418\n",
            "Completeness: 0.11166918619848065\n",
            "V-Measure: 0.10963409812406343\n",
            "Adjusted Rand Index: 0.03054369037362546\n",
            "Adjusted Mutual Info: 0.10471911922838817\n"
          ]
        }
      ]
    },
    {
      "cell_type": "markdown",
      "source": [
        "# Question 11"
      ],
      "metadata": {
        "id": "9BSHoFw3SGjj"
      }
    },
    {
      "cell_type": "code",
      "source": [
        "!pip install umap-learn\n",
        "import umap.umap_ as umap"
      ],
      "metadata": {
        "colab": {
          "base_uri": "https://localhost:8080/"
        },
        "id": "h_HWy4CxRhu-",
        "outputId": "d59a883b-fda6-4669-a07b-ecb76b9be9a8"
      },
      "execution_count": 10,
      "outputs": [
        {
          "output_type": "stream",
          "name": "stdout",
          "text": [
            "Looking in indexes: https://pypi.org/simple, https://us-python.pkg.dev/colab-wheels/public/simple/\n",
            "Collecting umap-learn\n",
            "  Downloading umap-learn-0.5.3.tar.gz (88 kB)\n",
            "\u001b[2K     \u001b[90m━━━━━━━━━━━━━━━━━━━━━━━━━━━━━━━━━━━━━━━━\u001b[0m \u001b[32m88.2/88.2 KB\u001b[0m \u001b[31m5.5 MB/s\u001b[0m eta \u001b[36m0:00:00\u001b[0m\n",
            "\u001b[?25h  Preparing metadata (setup.py) ... \u001b[?25l\u001b[?25hdone\n",
            "Requirement already satisfied: numpy>=1.17 in /usr/local/lib/python3.8/dist-packages (from umap-learn) (1.21.6)\n",
            "Requirement already satisfied: scikit-learn>=0.22 in /usr/local/lib/python3.8/dist-packages (from umap-learn) (1.0.2)\n",
            "Requirement already satisfied: scipy>=1.0 in /usr/local/lib/python3.8/dist-packages (from umap-learn) (1.7.3)\n",
            "Requirement already satisfied: numba>=0.49 in /usr/local/lib/python3.8/dist-packages (from umap-learn) (0.56.4)\n",
            "Collecting pynndescent>=0.5\n",
            "  Downloading pynndescent-0.5.8.tar.gz (1.1 MB)\n",
            "\u001b[2K     \u001b[90m━━━━━━━━━━━━━━━━━━━━━━━━━━━━━━━━━━━━━━━━\u001b[0m \u001b[32m1.1/1.1 MB\u001b[0m \u001b[31m54.5 MB/s\u001b[0m eta \u001b[36m0:00:00\u001b[0m\n",
            "\u001b[?25h  Preparing metadata (setup.py) ... \u001b[?25l\u001b[?25hdone\n",
            "Requirement already satisfied: tqdm in /usr/local/lib/python3.8/dist-packages (from umap-learn) (4.64.1)\n",
            "Requirement already satisfied: setuptools in /usr/local/lib/python3.8/dist-packages (from numba>=0.49->umap-learn) (57.4.0)\n",
            "Requirement already satisfied: llvmlite<0.40,>=0.39.0dev0 in /usr/local/lib/python3.8/dist-packages (from numba>=0.49->umap-learn) (0.39.1)\n",
            "Requirement already satisfied: importlib-metadata in /usr/local/lib/python3.8/dist-packages (from numba>=0.49->umap-learn) (6.0.0)\n",
            "Requirement already satisfied: joblib>=0.11 in /usr/local/lib/python3.8/dist-packages (from pynndescent>=0.5->umap-learn) (1.2.0)\n",
            "Requirement already satisfied: threadpoolctl>=2.0.0 in /usr/local/lib/python3.8/dist-packages (from scikit-learn>=0.22->umap-learn) (3.1.0)\n",
            "Requirement already satisfied: zipp>=0.5 in /usr/local/lib/python3.8/dist-packages (from importlib-metadata->numba>=0.49->umap-learn) (3.12.1)\n",
            "Building wheels for collected packages: umap-learn, pynndescent\n",
            "  Building wheel for umap-learn (setup.py) ... \u001b[?25l\u001b[?25hdone\n",
            "  Created wheel for umap-learn: filename=umap_learn-0.5.3-py3-none-any.whl size=82829 sha256=075fa2f087a4ce1726db061acef3881e9fb796efdde17de703bad65585ce0724\n",
            "  Stored in directory: /root/.cache/pip/wheels/a9/3a/67/06a8950e053725912e6a8c42c4a3a241410f6487b8402542ea\n",
            "  Building wheel for pynndescent (setup.py) ... \u001b[?25l\u001b[?25hdone\n",
            "  Created wheel for pynndescent: filename=pynndescent-0.5.8-py3-none-any.whl size=55513 sha256=1bdca33f94d383a1b29c30693b293e666ba5ecf448569a90312767735aec68c5\n",
            "  Stored in directory: /root/.cache/pip/wheels/1c/63/3a/29954bca1a27ba100ed8c27973a78cb71b43dc67aed62e80c3\n",
            "Successfully built umap-learn pynndescent\n",
            "Installing collected packages: pynndescent, umap-learn\n",
            "Successfully installed pynndescent-0.5.8 umap-learn-0.5.3\n"
          ]
        }
      ]
    },
    {
      "cell_type": "code",
      "source": [
        "for metric in ['cosine', 'euclidean']:\n",
        "  for k in [5, 20, 200]:\n",
        "    reducer = umap.UMAP(metric=metric, n_components=k)\n",
        "    reduced = reducer.fit_transform(vectorized_train)\n",
        "\n",
        "    kmeans = KMeans(n_clusters=20, random_state=0, max_iter=1000, n_init=30).fit(reduced)\n",
        "\n",
        "    print(f\"Metric: {metric}, n_components: {k}\")\n",
        "    report(kmeans.labels_, raw_train.target)"
      ],
      "metadata": {
        "colab": {
          "base_uri": "https://localhost:8080/"
        },
        "id": "iRlEeNghav-Y",
        "outputId": "4706b6ab-50c6-48a3-cd6e-c23e556b0ae8"
      },
      "execution_count": null,
      "outputs": [
        {
          "output_type": "stream",
          "name": "stdout",
          "text": [
            "Metric: cosine, n_components: 5\n",
            "Homogeneity: 0.46883085169875666\n",
            "Completeness: 0.4942447747636006\n",
            "V-Measure: 0.48120249819059446\n",
            "Adjusted Rand Index: 0.3285164861567082\n",
            "Adjusted Mutual Info: 0.47830444027602464\n",
            "Metric: cosine, n_components: 20\n",
            "Homogeneity: 0.4662279806734997\n",
            "Completeness: 0.5047077593066049\n",
            "V-Measure: 0.48470536156509564\n",
            "Adjusted Rand Index: 0.3230801113027049\n",
            "Adjusted Mutual Info: 0.48176442055539903\n",
            "Metric: cosine, n_components: 200\n",
            "Homogeneity: 0.4585943767211414\n",
            "Completeness: 0.5097022714966615\n",
            "V-Measure: 0.48279955515819134\n",
            "Adjusted Rand Index: 0.31294192339130467\n",
            "Adjusted Mutual Info: 0.47983285852858665\n",
            "Metric: euclidean, n_components: 5\n",
            "Homogeneity: 0.4688755934699984\n",
            "Completeness: 0.49605843837061536\n",
            "V-Measure: 0.48208413634900527\n",
            "Adjusted Rand Index: 0.3366150896227088\n",
            "Adjusted Mutual Info: 0.4791844416607504\n",
            "Metric: euclidean, n_components: 20\n",
            "Homogeneity: 0.47090296263472714\n",
            "Completeness: 0.5065154538532342\n",
            "V-Measure: 0.48806043310868835\n",
            "Adjusted Rand Index: 0.33485302426792984\n",
            "Adjusted Mutual Info: 0.48516818025852926\n",
            "Metric: euclidean, n_components: 200\n",
            "Homogeneity: 0.46413375979190175\n",
            "Completeness: 0.5096102387643472\n",
            "V-Measure: 0.4858100619810538\n",
            "Adjusted Rand Index: 0.32331803873920906\n",
            "Adjusted Mutual Info: 0.48286512529197095\n"
          ]
        }
      ]
    },
    {
      "cell_type": "markdown",
      "source": [
        "# Question 14"
      ],
      "metadata": {
        "id": "FoP-f1lLeJ7c"
      }
    },
    {
      "cell_type": "markdown",
      "source": [
        "## Ward Linkage"
      ],
      "metadata": {
        "id": "XrJT_K-8esCi"
      }
    },
    {
      "cell_type": "code",
      "source": [
        "from sklearn.cluster import AgglomerativeClustering\n",
        "reducer = umap.UMAP(metric='euclidean', n_components=20)\n",
        "reduced = reducer.fit_transform(vectorized_train)\n",
        "\n",
        "agg_cluster = AgglomerativeClustering(n_clusters=20, linkage='ward').fit(reduced)\n",
        "report(agg_cluster.labels_, raw_train.target)"
      ],
      "metadata": {
        "colab": {
          "base_uri": "https://localhost:8080/"
        },
        "id": "WJ_D8r7jcL4J",
        "outputId": "d708a8f7-cce0-4c55-87b4-4dc73994bcb5"
      },
      "execution_count": null,
      "outputs": [
        {
          "output_type": "stream",
          "name": "stdout",
          "text": [
            "Homogeneity: 0.46150896028709065\n",
            "Completeness: 0.5000468416372913\n",
            "V-Measure: 0.4800056273739136\n",
            "Adjusted Rand Index: 0.327590280237668\n",
            "Adjusted Mutual Info: 0.47705916016865996\n"
          ]
        }
      ]
    },
    {
      "cell_type": "markdown",
      "source": [
        "## Single Linkage"
      ],
      "metadata": {
        "id": "zArhz9eqetN1"
      }
    },
    {
      "cell_type": "code",
      "source": [
        "reducer = umap.UMAP(metric='euclidean', n_components=20)\n",
        "reduced = reducer.fit_transform(vectorized_train)\n",
        "\n",
        "agg_cluster = AgglomerativeClustering(n_clusters=20, linkage='single').fit(reduced)\n",
        "report(agg_cluster.labels_, raw_train.target)"
      ],
      "metadata": {
        "colab": {
          "base_uri": "https://localhost:8080/"
        },
        "id": "eOB8bT1WeuOz",
        "outputId": "c47396ec-7f63-4fc8-bedd-d8bc057c592f"
      },
      "execution_count": null,
      "outputs": [
        {
          "output_type": "stream",
          "name": "stdout",
          "text": [
            "Homogeneity: 0.03253263728451028\n",
            "Completeness: 0.3440206531444507\n",
            "V-Measure: 0.059443905612292895\n",
            "Adjusted Rand Index: 0.0013471571750463963\n",
            "Adjusted Mutual Info: 0.050414400213111436\n"
          ]
        }
      ]
    },
    {
      "cell_type": "markdown",
      "source": [
        "# Question 15"
      ],
      "metadata": {
        "id": "08r5cot7fNhk"
      }
    },
    {
      "cell_type": "code",
      "source": [
        "!pip install hdbscan"
      ],
      "metadata": {
        "colab": {
          "base_uri": "https://localhost:8080/"
        },
        "id": "bny7RNHRgJqA",
        "outputId": "1ba6f01c-914a-4eca-8bd6-5604ccba5907"
      },
      "execution_count": 11,
      "outputs": [
        {
          "output_type": "stream",
          "name": "stdout",
          "text": [
            "Looking in indexes: https://pypi.org/simple, https://us-python.pkg.dev/colab-wheels/public/simple/\n",
            "Collecting hdbscan\n",
            "  Downloading hdbscan-0.8.29.tar.gz (5.2 MB)\n",
            "\u001b[2K     \u001b[90m━━━━━━━━━━━━━━━━━━━━━━━━━━━━━━━━━━━━━━━━\u001b[0m \u001b[32m5.2/5.2 MB\u001b[0m \u001b[31m71.4 MB/s\u001b[0m eta \u001b[36m0:00:00\u001b[0m\n",
            "\u001b[?25h  Installing build dependencies ... \u001b[?25l\u001b[?25hdone\n",
            "  Getting requirements to build wheel ... \u001b[?25l\u001b[?25hdone\n",
            "  Preparing metadata (pyproject.toml) ... \u001b[?25l\u001b[?25hdone\n",
            "Requirement already satisfied: cython>=0.27 in /usr/local/lib/python3.8/dist-packages (from hdbscan) (0.29.33)\n",
            "Requirement already satisfied: numpy>=1.20 in /usr/local/lib/python3.8/dist-packages (from hdbscan) (1.21.6)\n",
            "Requirement already satisfied: scikit-learn>=0.20 in /usr/local/lib/python3.8/dist-packages (from hdbscan) (1.0.2)\n",
            "Requirement already satisfied: joblib>=1.0 in /usr/local/lib/python3.8/dist-packages (from hdbscan) (1.2.0)\n",
            "Requirement already satisfied: scipy>=1.0 in /usr/local/lib/python3.8/dist-packages (from hdbscan) (1.7.3)\n",
            "Requirement already satisfied: threadpoolctl>=2.0.0 in /usr/local/lib/python3.8/dist-packages (from scikit-learn>=0.20->hdbscan) (3.1.0)\n",
            "Building wheels for collected packages: hdbscan\n",
            "  Building wheel for hdbscan (pyproject.toml) ... \u001b[?25l\u001b[?25hdone\n",
            "  Created wheel for hdbscan: filename=hdbscan-0.8.29-cp38-cp38-linux_x86_64.whl size=3773926 sha256=796d4fd0b0115bfc9ecb290bd4d9eaea2c67a8cac8dc38eb0f3962be734d8e82\n",
            "  Stored in directory: /root/.cache/pip/wheels/76/06/48/527e038689c581cc9e519c73840efdc7473805149e55bd7ffd\n",
            "Successfully built hdbscan\n",
            "Installing collected packages: hdbscan\n",
            "Successfully installed hdbscan-0.8.29\n"
          ]
        }
      ]
    },
    {
      "cell_type": "code",
      "source": [
        "from hdbscan import HDBSCAN\n",
        "\n",
        "reducer = umap.UMAP(metric='euclidean', n_components=20)\n",
        "reduced = reducer.fit_transform(vectorized_train)\n",
        "\n",
        "for min_size in [20, 100, 200]:\n",
        "  clusterer = HDBSCAN(min_cluster_size=min_size).fit(reduced)\n",
        "\n",
        "  report(clusterer.labels_, raw_train.target)"
      ],
      "metadata": {
        "colab": {
          "base_uri": "https://localhost:8080/"
        },
        "id": "cgyN1IRGe80I",
        "outputId": "632196ae-dde7-4e43-b5cf-fc121e233f0a"
      },
      "execution_count": null,
      "outputs": [
        {
          "output_type": "stream",
          "name": "stdout",
          "text": [
            "Homogeneity: 0.39072299562709983\n",
            "Completeness: 0.4219175019115476\n",
            "V-Measure: 0.4057215232410749\n",
            "Adjusted Rand Index: 0.07679506481282564\n",
            "Adjusted Mutual Info: 0.39028729279942176\n",
            "Homogeneity: 0.018316928867725693\n",
            "Completeness: 0.3511555480694921\n",
            "V-Measure: 0.03481770143646767\n",
            "Adjusted Rand Index: 0.0009479589312843107\n",
            "Adjusted Mutual Info: 0.03376091821360799\n",
            "Homogeneity: 0.054707170745917647\n",
            "Completeness: 0.2253331659027116\n",
            "V-Measure: 0.08803974548298825\n",
            "Adjusted Rand Index: 0.016857289499845243\n",
            "Adjusted Mutual Info: 0.08720965088848541\n"
          ]
        }
      ]
    },
    {
      "cell_type": "markdown",
      "source": [
        "# Question 17"
      ],
      "metadata": {
        "id": "4cISCe9Wk8Ic"
      }
    },
    {
      "cell_type": "code",
      "source": [
        "!pip install umap-learn\n",
        "!pip install hdbscan\n",
        "import umap.umap_ as umap\n",
        "from sklearn.decomposition import TruncatedSVD, NMF\n",
        "from hdbscan import HDBSCAN\n",
        "from sklearn.cluster import KMeans, AgglomerativeClustering\n",
        "from sklearn import metrics"
      ],
      "metadata": {
        "colab": {
          "base_uri": "https://localhost:8080/"
        },
        "id": "AW5MtgSxmRQs",
        "outputId": "295093e6-d83b-4a46-d515-c14b6fc8a9db"
      },
      "execution_count": 13,
      "outputs": [
        {
          "output_type": "stream",
          "name": "stdout",
          "text": [
            "Looking in indexes: https://pypi.org/simple, https://us-python.pkg.dev/colab-wheels/public/simple/\n",
            "Requirement already satisfied: umap-learn in /usr/local/lib/python3.8/dist-packages (0.5.3)\n",
            "Requirement already satisfied: numba>=0.49 in /usr/local/lib/python3.8/dist-packages (from umap-learn) (0.56.4)\n",
            "Requirement already satisfied: scikit-learn>=0.22 in /usr/local/lib/python3.8/dist-packages (from umap-learn) (1.0.2)\n",
            "Requirement already satisfied: tqdm in /usr/local/lib/python3.8/dist-packages (from umap-learn) (4.64.1)\n",
            "Requirement already satisfied: pynndescent>=0.5 in /usr/local/lib/python3.8/dist-packages (from umap-learn) (0.5.8)\n",
            "Requirement already satisfied: numpy>=1.17 in /usr/local/lib/python3.8/dist-packages (from umap-learn) (1.21.6)\n",
            "Requirement already satisfied: scipy>=1.0 in /usr/local/lib/python3.8/dist-packages (from umap-learn) (1.7.3)\n",
            "Requirement already satisfied: llvmlite<0.40,>=0.39.0dev0 in /usr/local/lib/python3.8/dist-packages (from numba>=0.49->umap-learn) (0.39.1)\n",
            "Requirement already satisfied: setuptools in /usr/local/lib/python3.8/dist-packages (from numba>=0.49->umap-learn) (57.4.0)\n",
            "Requirement already satisfied: importlib-metadata in /usr/local/lib/python3.8/dist-packages (from numba>=0.49->umap-learn) (6.0.0)\n",
            "Requirement already satisfied: joblib>=0.11 in /usr/local/lib/python3.8/dist-packages (from pynndescent>=0.5->umap-learn) (1.2.0)\n",
            "Requirement already satisfied: threadpoolctl>=2.0.0 in /usr/local/lib/python3.8/dist-packages (from scikit-learn>=0.22->umap-learn) (3.1.0)\n",
            "Requirement already satisfied: zipp>=0.5 in /usr/local/lib/python3.8/dist-packages (from importlib-metadata->numba>=0.49->umap-learn) (3.12.1)\n",
            "Looking in indexes: https://pypi.org/simple, https://us-python.pkg.dev/colab-wheels/public/simple/\n",
            "Requirement already satisfied: hdbscan in /usr/local/lib/python3.8/dist-packages (0.8.29)\n",
            "Requirement already satisfied: scipy>=1.0 in /usr/local/lib/python3.8/dist-packages (from hdbscan) (1.7.3)\n",
            "Requirement already satisfied: scikit-learn>=0.20 in /usr/local/lib/python3.8/dist-packages (from hdbscan) (1.0.2)\n",
            "Requirement already satisfied: cython>=0.27 in /usr/local/lib/python3.8/dist-packages (from hdbscan) (0.29.33)\n",
            "Requirement already satisfied: numpy>=1.20 in /usr/local/lib/python3.8/dist-packages (from hdbscan) (1.21.6)\n",
            "Requirement already satisfied: joblib>=1.0 in /usr/local/lib/python3.8/dist-packages (from hdbscan) (1.2.0)\n",
            "Requirement already satisfied: threadpoolctl>=2.0.0 in /usr/local/lib/python3.8/dist-packages (from scikit-learn>=0.20->hdbscan) (3.1.0)\n"
          ]
        }
      ]
    },
    {
      "cell_type": "code",
      "source": [
        "num_dimensions = [5, 20, 200]\n",
        "dim_red = [TruncatedSVD, NMF, umap.UMAP]\n",
        "cluster_algs = [KMeans, AgglomerativeClustering, HDBSCAN]\n",
        "labels = raw_train.target\n",
        "\n",
        "def evaluate(model):\n",
        "  preds = model.labels_\n",
        "  res = []\n",
        "  res.append(metrics.homogeneity_score(labels, preds))\n",
        "  res.append(metrics.completeness_score(labels, preds))\n",
        "  res.append(metrics.v_measure_score(labels, preds))\n",
        "  res.append(metrics.adjusted_rand_score(labels, preds))\n",
        "  res.append(metrics.adjusted_mutual_info_score(labels, preds))\n",
        "  return sum(res) / len(res)\n",
        "\n",
        "best_score = 0.0\n",
        "best_model = None\n",
        "\n",
        "for dim in num_dimensions:\n",
        "  for dim_red_idx in range(3):\n",
        "    # Initializes dimensionality reduction method\n",
        "    if dim_red_idx == 3:\n",
        "      reducer = dim_red[dim_red_idx](metric='cosine', n_components=dim)\n",
        "    else:\n",
        "      reducer = dim_red[dim_red_idx](n_components=dim)\n",
        "\n",
        "    reduced = reducer.fit_transform(vectorized_train)\n",
        "  \n",
        "    # KMeans\n",
        "    for k in [10, 20, 50]:\n",
        "      clusterer = KMeans(n_clusters=k, random_state=0, max_iter=1000, n_init=30).fit(reduced)\n",
        "      current_score = evaluate(clusterer)\n",
        "      if current_score > best_score:\n",
        "        best_score = current_score\n",
        "        best_model = ('kmeans', k, dim_red_idx, dim)\n",
        "\n",
        "    # Agglomerative\n",
        "    clusterer = AgglomerativeClustering(n_clusters=20, linkage='single').fit(reduced)\n",
        "    current_score = evaluate(clusterer)\n",
        "    if current_score > best_score:\n",
        "      best_score = current_score\n",
        "      best_model = ('agglomerative', 20, dim_red_idx, dim)\n",
        "\n",
        "    # HDBSCAN\n",
        "    for min_size in [100, 200]:\n",
        "      HDBSCAN(min_cluster_size=min_size).fit(reduced)\n",
        "      current_score = evaluate(clusterer)\n",
        "      if current_score > best_score:\n",
        "        best_score = current_score\n",
        "        best_model = ('hdbscan', min_size, dim_red_idx, dim)\n",
        "\n",
        "print(best_model)"
      ],
      "metadata": {
        "colab": {
          "base_uri": "https://localhost:8080/"
        },
        "id": "8tEAXKQIk9iz",
        "outputId": "f985b4a1-8957-467c-bc21-f48ba6832faf"
      },
      "execution_count": null,
      "outputs": [
        {
          "output_type": "stream",
          "name": "stderr",
          "text": [
            "/usr/local/lib/python3.8/dist-packages/sklearn/decomposition/_nmf.py:289: FutureWarning: The 'init' value, when 'init=None' and n_components is less than n_samples and n_features, will be changed from 'nndsvd' to 'nndsvda' in 1.1 (renaming of 0.26).\n",
            "  warnings.warn(\n",
            "/usr/local/lib/python3.8/dist-packages/sklearn/decomposition/_nmf.py:289: FutureWarning: The 'init' value, when 'init=None' and n_components is less than n_samples and n_features, will be changed from 'nndsvd' to 'nndsvda' in 1.1 (renaming of 0.26).\n",
            "  warnings.warn(\n"
          ]
        }
      ]
    },
    {
      "cell_type": "markdown",
      "source": [
        "# Question 19"
      ],
      "metadata": {
        "id": "bIJVnynOiA8Z"
      }
    },
    {
      "cell_type": "markdown",
      "source": [
        "VGG can be a useful feature extractor even due to the domain gap between the training and validation datasets because the training dataset is large. It was likely trained on the ImageNet dataset which contains millions of images. Even though the classes are different than the flowers dataset, it likely learned to extract features for general images due to the large size of the training dataset."
      ],
      "metadata": {
        "id": "l_o46KmtiFyj"
      }
    },
    {
      "cell_type": "markdown",
      "source": [
        "# Question 20"
      ],
      "metadata": {
        "id": "6llSHHbBj7uP"
      }
    },
    {
      "cell_type": "markdown",
      "source": [
        "The helper code performs feature extraction by using the Autoencoder to reconstruct the input dataset. The loss used to train the network is the reconstruction error (MSE) between the output and input images in a batch. Once the network is trained, the feature vectors are extracted from the narrowest part of the U-net architecture (eg. the output of the encoder)."
      ],
      "metadata": {
        "id": "nNlh2w6Uj9Gg"
      }
    },
    {
      "cell_type": "markdown",
      "source": [
        "# Question 21"
      ],
      "metadata": {
        "id": "QeBXuJwOjSLa"
      }
    },
    {
      "cell_type": "markdown",
      "source": [
        "All images in the dataset have a resolution of 224x224. The feature vectors are of dimension 4096"
      ],
      "metadata": {
        "id": "2ek_l6FfjTRd"
      }
    },
    {
      "cell_type": "markdown",
      "source": [
        "# Question 22"
      ],
      "metadata": {
        "id": "BtO04L0jiokn"
      }
    },
    {
      "cell_type": "code",
      "source": [
        "import torch\n",
        "import torch.nn as nn\n",
        "from torchvision import transforms, datasets\n",
        "from torch.utils.data import DataLoader, TensorDataset\n",
        "import numpy as np\n",
        "import matplotlib.pyplot as plt\n",
        "\n",
        "from tqdm import tqdm\n",
        "import requests\n",
        "import os\n",
        "import tarfile\n",
        "\n",
        "from sklearn.preprocessing import StandardScaler\n",
        "from sklearn.decomposition import PCA\n",
        "from sklearn.cluster import KMeans\n",
        "from sklearn.metrics import confusion_matrix, adjusted_rand_score, adjusted_mutual_info_score\n",
        "from sklearn.pipeline import Pipeline\n",
        "from sklearn.base import TransformerMixin"
      ],
      "metadata": {
        "id": "lO2cg9QCgIkk"
      },
      "execution_count": 2,
      "outputs": []
    },
    {
      "cell_type": "code",
      "source": [
        "filename = './flowers_features_and_labels.npz'\n",
        "\n",
        "if os.path.exists(filename):\n",
        "    file = np.load(filename)\n",
        "    f_all, y_all = file['f_all'], file['y_all']\n",
        "\n",
        "else:\n",
        "    if not os.path.exists('./flower_photos'):\n",
        "        # download the flowers dataset and extract its images\n",
        "        url = 'http://download.tensorflow.org/example_images/flower_photos.tgz'\n",
        "        with open('./flower_photos.tgz', 'wb') as file:\n",
        "            file.write(requests.get(url).content)\n",
        "        with tarfile.open('./flower_photos.tgz') as file:\n",
        "            file.extractall('./')\n",
        "        os.remove('./flower_photos.tgz')\n",
        "\n",
        "    class FeatureExtractor(nn.Module):\n",
        "        def __init__(self):\n",
        "            super().__init__()\n",
        "\n",
        "            vgg = torch.hub.load('pytorch/vision:v0.10.0', 'vgg16', pretrained=True)\n",
        "\n",
        "            # Extract VGG-16 Feature Layers\n",
        "            self.features = list(vgg.features)\n",
        "            self.features = nn.Sequential(*self.features)\n",
        "            # Extract VGG-16 Average Pooling Layer\n",
        "            self.pooling = vgg.avgpool\n",
        "            # Convert the image into one-dimensional vector\n",
        "            self.flatten = nn.Flatten()\n",
        "            # Extract the first part of fully-connected layer from VGG16\n",
        "            self.fc = vgg.classifier[0]\n",
        "\n",
        "        def forward(self, x):\n",
        "            # It will take the input 'x' until it returns the feature vector called 'out'\n",
        "            out = self.features(x)\n",
        "            out = self.pooling(out)\n",
        "            out = self.flatten(out)\n",
        "            out = self.fc(out) \n",
        "            return out \n",
        "\n",
        "    # Initialize the model\n",
        "    assert torch.cuda.is_available()\n",
        "    feature_extractor = FeatureExtractor().cuda().eval()\n",
        "\n",
        "    dataset = datasets.ImageFolder(root='./flower_photos',\n",
        "                                   transform=transforms.Compose([transforms.Resize(224),\n",
        "                                                                 transforms.CenterCrop(224),\n",
        "                                                                 transforms.ToTensor(),\n",
        "                                                                 transforms.Normalize(mean=[0.485, 0.456, 0.406], std=[0.229, 0.224, 0.225])]))\n",
        "    dataloader = DataLoader(dataset, batch_size=64, shuffle=True)\n",
        "\n",
        "    # Extract features and store them on disk\n",
        "    f_all, y_all = np.zeros((0, 4096)), np.zeros((0,))\n",
        "    for x, y in tqdm(dataloader):\n",
        "        with torch.no_grad():\n",
        "            f_all = np.vstack([f_all, feature_extractor(x.cuda()).cpu()])\n",
        "            y_all = np.concatenate([y_all, y])\n",
        "    np.savez(filename, f_all=f_all, y_all=y_all)"
      ],
      "metadata": {
        "id": "PaX5gtmvisMX"
      },
      "execution_count": 3,
      "outputs": []
    },
    {
      "cell_type": "code",
      "source": [
        "print(f_all.shape, y_all.shape)\n",
        "num_features = f_all.shape[1]"
      ],
      "metadata": {
        "colab": {
          "base_uri": "https://localhost:8080/"
        },
        "id": "_0o-jQ8Mi_He",
        "outputId": "01e14db2-4749-454d-8c9a-8d91dd0a0daa"
      },
      "execution_count": 4,
      "outputs": [
        {
          "output_type": "stream",
          "name": "stdout",
          "text": [
            "(3670, 4096) (3670,)\n"
          ]
        }
      ]
    },
    {
      "cell_type": "code",
      "source": [
        "class Autoencoder(torch.nn.Module, TransformerMixin):\n",
        "    def __init__(self, n_components):\n",
        "        super().__init__()\n",
        "        self.n_components = n_components\n",
        "        self.n_features = None  # to be determined with data\n",
        "        self.encoder = None\n",
        "        self.decoder = None\n",
        "        \n",
        "    def _create_encoder(self):\n",
        "        return nn.Sequential(\n",
        "            nn.Linear(4096, 1280),\n",
        "            nn.ReLU(True),\n",
        "            nn.Linear(1280, 640),\n",
        "            nn.ReLU(True), nn.Linear(640, 120), nn.ReLU(True), nn.Linear(120, self.n_components))\n",
        "    \n",
        "    def _create_decoder(self):\n",
        "        return nn.Sequential(\n",
        "            nn.Linear(self.n_components, 120),\n",
        "            nn.ReLU(True),\n",
        "            nn.Linear(120, 640),\n",
        "            nn.ReLU(True),\n",
        "            nn.Linear(640, 1280),\n",
        "            nn.ReLU(True), nn.Linear(1280, 4096))\n",
        "    \n",
        "    def forward(self, X):\n",
        "        encoded = self.encoder(X)\n",
        "        decoded = self.decoder(encoded)\n",
        "        return decoded\n",
        "    \n",
        "    def fit(self, X):\n",
        "        X = torch.tensor(X, dtype=torch.float32, device='cuda')\n",
        "        self.n_features = X.shape[1]\n",
        "        self.encoder = self._create_encoder()\n",
        "        self.decoder = self._create_decoder()\n",
        "        self.cuda()\n",
        "        self.train()\n",
        "        \n",
        "        criterion = nn.MSELoss()\n",
        "        optimizer = torch.optim.Adam(self.parameters(), lr=1e-3, weight_decay=1e-5)\n",
        "\n",
        "        dataset = TensorDataset(X)\n",
        "        dataloader = DataLoader(dataset, batch_size=128, shuffle=True)\n",
        "\n",
        "        for epoch in tqdm(range(100)):\n",
        "            for (X_,) in dataloader:\n",
        "                X_ = X_.cuda()\n",
        "                # ===================forward=====================\n",
        "                output = self(X_)\n",
        "                loss = criterion(output, X_)\n",
        "                # ===================backward====================\n",
        "                optimizer.zero_grad()\n",
        "                loss.backward()\n",
        "                optimizer.step()\n",
        "\n",
        "        return self     \n",
        "        \n",
        "    def transform(self, X):\n",
        "        X = torch.tensor(X, dtype=torch.float32, device='cuda')\n",
        "        self.eval()\n",
        "        with torch.no_grad():\n",
        "            return self.encoder(X).cpu().numpy()"
      ],
      "metadata": {
        "id": "g9qH1FekjGjG"
      },
      "execution_count": 5,
      "outputs": []
    },
    {
      "cell_type": "code",
      "source": [
        "X_em =Autoencoder(2).fit_transform(f_all)\n",
        "plt.scatter(*X_em.T, c=y_all)"
      ],
      "metadata": {
        "colab": {
          "base_uri": "https://localhost:8080/",
          "height": 300
        },
        "id": "fTmRVP89jKzh",
        "outputId": "457079ff-ec79-4d0a-9a75-a5371760e358"
      },
      "execution_count": 6,
      "outputs": [
        {
          "output_type": "stream",
          "name": "stderr",
          "text": [
            "100%|██████████| 100/100 [00:25<00:00,  3.88it/s]\n"
          ]
        },
        {
          "output_type": "execute_result",
          "data": {
            "text/plain": [
              "<matplotlib.collections.PathCollection at 0x7f73e049a640>"
            ]
          },
          "metadata": {},
          "execution_count": 6
        },
        {
          "output_type": "display_data",
          "data": {
            "text/plain": [
              "<Figure size 432x288 with 1 Axes>"
            ],
            "image/png": "[encoded data removed]"
          },
          "metadata": {
            "needs_background": "light"
          }
        }
      ]
    },
    {
      "cell_type": "code",
      "source": [
        "print(vectorized_train.shape)\n",
        "print(f_all.shape)\n",
        "\n",
        "# print(np.sum(vectorized_train == 0.0) / (11314*38869))\n",
        "print(np.sum(f_all <= 1e-5) / (3670*4096))"
      ],
      "metadata": {
        "colab": {
          "base_uri": "https://localhost:8080/",
          "height": 235
        },
        "id": "K7X6erTIjNqc",
        "outputId": "b5b87628-24fb-4a78-acce-87ce099610a1"
      },
      "execution_count": 7,
      "outputs": [
        {
          "output_type": "error",
          "ename": "NameError",
          "evalue": "ignored",
          "traceback": [
            "\u001b[0;31m---------------------------------------------------------------------------\u001b[0m",
            "\u001b[0;31mNameError\u001b[0m                                 Traceback (most recent call last)",
            "\u001b[0;32m<ipython-input-7-a7a64e744a41>\u001b[0m in \u001b[0;36m<module>\u001b[0;34m\u001b[0m\n\u001b[0;32m----> 1\u001b[0;31m \u001b[0mprint\u001b[0m\u001b[0;34m(\u001b[0m\u001b[0mvectorized_train\u001b[0m\u001b[0;34m.\u001b[0m\u001b[0mshape\u001b[0m\u001b[0;34m)\u001b[0m\u001b[0;34m\u001b[0m\u001b[0;34m\u001b[0m\u001b[0m\n\u001b[0m\u001b[1;32m      2\u001b[0m \u001b[0mprint\u001b[0m\u001b[0;34m(\u001b[0m\u001b[0mf_all\u001b[0m\u001b[0;34m.\u001b[0m\u001b[0mshape\u001b[0m\u001b[0;34m)\u001b[0m\u001b[0;34m\u001b[0m\u001b[0;34m\u001b[0m\u001b[0m\n\u001b[1;32m      3\u001b[0m \u001b[0;34m\u001b[0m\u001b[0m\n\u001b[1;32m      4\u001b[0m \u001b[0;31m# print(np.sum(vectorized_train == 0.0) / (11314*38869))\u001b[0m\u001b[0;34m\u001b[0m\u001b[0;34m\u001b[0m\u001b[0;34m\u001b[0m\u001b[0m\n\u001b[1;32m      5\u001b[0m \u001b[0mprint\u001b[0m\u001b[0;34m(\u001b[0m\u001b[0mnp\u001b[0m\u001b[0;34m.\u001b[0m\u001b[0msum\u001b[0m\u001b[0;34m(\u001b[0m\u001b[0mf_all\u001b[0m \u001b[0;34m<=\u001b[0m \u001b[0;36m1e-5\u001b[0m\u001b[0;34m)\u001b[0m \u001b[0;34m/\u001b[0m \u001b[0;34m(\u001b[0m\u001b[0;36m3670\u001b[0m\u001b[0;34m*\u001b[0m\u001b[0;36m4096\u001b[0m\u001b[0;34m)\u001b[0m\u001b[0;34m)\u001b[0m\u001b[0;34m\u001b[0m\u001b[0;34m\u001b[0m\u001b[0m\n",
            "\u001b[0;31mNameError\u001b[0m: name 'vectorized_train' is not defined"
          ]
        }
      ]
    },
    {
      "cell_type": "markdown",
      "source": [
        "About 71% of values are close to zero, so the features are sparse."
      ],
      "metadata": {
        "id": "yd50jzQWqspY"
      }
    },
    {
      "cell_type": "markdown",
      "source": [
        "# Question 24"
      ],
      "metadata": {
        "id": "YLV8cDQlqxO3"
      }
    },
    {
      "cell_type": "markdown",
      "source": [
        "## No Dim Red"
      ],
      "metadata": {
        "id": "RRL_DBksrICh"
      }
    },
    {
      "cell_type": "code",
      "source": [
        "from sklearn.cluster import AgglomerativeClustering\n",
        "from hdbscan import HDBSCAN\n",
        "\n",
        "# kmeans\n",
        "print(\"K means\")\n",
        "kmeans = KMeans(n_clusters=5, random_state=0, max_iter=1000, n_init=30).fit(f_all)\n",
        "report(kmeans.labels_, y_all)\n",
        "\n",
        "# Agglomerative\n",
        "print(\"Agglomerative Clustering\")\n",
        "agg_cluster = AgglomerativeClustering(n_clusters=5, linkage='ward').fit(f_all)\n",
        "report(agg_cluster.labels_, y_all)\n",
        "\n",
        "# HDBSCAN\n",
        "print(\"HDBSCAN\")\n",
        "clusterer = HDBSCAN(min_cluster_size=20).fit(f_all)\n",
        "report(clusterer.labels_, y_all)"
      ],
      "metadata": {
        "id": "V0Lffnbrnx3c",
        "colab": {
          "base_uri": "https://localhost:8080/"
        },
        "outputId": "4021d576-5b78-47a2-af7d-5ffb31cd5eae"
      },
      "execution_count": 15,
      "outputs": [
        {
          "output_type": "stream",
          "name": "stdout",
          "text": [
            "K means\n",
            "Homogeneity: 0.3262550013901229\n",
            "Completeness: 0.3606249674678259\n",
            "V-Measure: 0.3425800855953059\n",
            "Adjusted Rand Index: 0.19330907774727044\n",
            "Adjusted Mutual Info: 0.34163621996164206\n",
            "Agglomerative Clustering\n",
            "Homogeneity: 0.35742372729628397\n",
            "Completeness: 0.4140254665890646\n",
            "V-Measure: 0.3836481433561248\n",
            "Adjusted Rand Index: 0.18855278251971858\n",
            "Adjusted Mutual Info: 0.38274333888130235\n",
            "HDBSCAN\n",
            "Homogeneity: 2.0815080777064365e-16\n",
            "Completeness: 1.0\n",
            "V-Measure: 4.163016155412872e-16\n",
            "Adjusted Rand Index: 0.0\n",
            "Adjusted Mutual Info: 2.8509665587477824e-17\n"
          ]
        }
      ]
    },
    {
      "cell_type": "markdown",
      "source": [
        "## SVD"
      ],
      "metadata": {
        "id": "rUSu85DkrJP3"
      }
    },
    {
      "cell_type": "code",
      "source": [
        "from sklearn.decomposition import TruncatedSVD\n",
        "\n",
        "reduced = TruncatedSVD(n_components=50).fit_transform(f_all)\n",
        "\n",
        "# kmeans\n",
        "print(\"K means\")\n",
        "kmeans = KMeans(n_clusters=5, random_state=0, max_iter=1000, n_init=30).fit(reduced)\n",
        "report(kmeans.labels_, y_all)\n",
        "\n",
        "# Agglomerative\n",
        "print(\"Agglomerative Clustering\")\n",
        "agg_cluster = AgglomerativeClustering(n_clusters=5, linkage='ward').fit(reduced)\n",
        "report(agg_cluster.labels_, y_all)\n",
        "\n",
        "# HDBSCAN\n",
        "print(\"HDBSCAN\")\n",
        "clusterer = HDBSCAN(min_cluster_size=20).fit(reduced)\n",
        "report(clusterer.labels_, y_all)"
      ],
      "metadata": {
        "id": "eonNcAGfqKFr",
        "colab": {
          "base_uri": "https://localhost:8080/"
        },
        "outputId": "edb14383-793b-4d04-fa22-590af11f400a"
      },
      "execution_count": 16,
      "outputs": [
        {
          "output_type": "stream",
          "name": "stdout",
          "text": [
            "K means\n",
            "Homogeneity: 0.3349315083374776\n",
            "Completeness: 0.3709906406132308\n",
            "V-Measure: 0.3520401081744576\n",
            "Adjusted Rand Index: 0.19531488433656477\n",
            "Adjusted Mutual Info: 0.3511088884243087\n",
            "Agglomerative Clustering\n",
            "Homogeneity: 0.3442196758272489\n",
            "Completeness: 0.38750509964880986\n",
            "V-Measure: 0.3645821058764556\n",
            "Adjusted Rand Index: 0.19796721672976686\n",
            "Adjusted Mutual Info: 0.36366170638675444\n",
            "HDBSCAN\n",
            "Homogeneity: 2.0815080777064365e-16\n",
            "Completeness: 1.0\n",
            "V-Measure: 4.163016155412872e-16\n",
            "Adjusted Rand Index: 0.0\n",
            "Adjusted Mutual Info: 2.8509665587477824e-17\n"
          ]
        }
      ]
    },
    {
      "cell_type": "markdown",
      "source": [
        "## UMAP"
      ],
      "metadata": {
        "id": "hTKy3ZIErNe9"
      }
    },
    {
      "cell_type": "code",
      "source": [
        "reducer = umap.UMAP(metric='cosine', n_components=50)\n",
        "reduced = reducer.fit_transform(f_all)\n",
        "\n",
        "# kmeans\n",
        "print(\"K means\")\n",
        "kmeans = KMeans(n_clusters=5, random_state=0, max_iter=1000, n_init=30).fit(reduced)\n",
        "report(kmeans.labels_, y_all)\n",
        "\n",
        "# Agglomerative\n",
        "print(\"Agglomerative Clustering\")\n",
        "agg_cluster = AgglomerativeClustering(n_clusters=5, linkage='ward').fit(reduced)\n",
        "report(agg_cluster.labels_, y_all)\n",
        "\n",
        "# HDBSCAN\n",
        "print(\"HDBSCAN\")\n",
        "clusterer = HDBSCAN(min_cluster_size=20).fit(reduced)\n",
        "report(clusterer.labels_, y_all)"
      ],
      "metadata": {
        "id": "82V8JwcyrRVU",
        "colab": {
          "base_uri": "https://localhost:8080/"
        },
        "outputId": "95e2f248-4a54-4f24-afe3-54144c754e43"
      },
      "execution_count": 17,
      "outputs": [
        {
          "output_type": "stream",
          "name": "stdout",
          "text": [
            "K means\n",
            "Homogeneity: 0.5308986006657167\n",
            "Completeness: 0.5419800522340906\n",
            "V-Measure: 0.5363820979047507\n",
            "Adjusted Rand Index: 0.46563953158676114\n",
            "Adjusted Mutual Info: 0.535741958322035\n",
            "Agglomerative Clustering\n",
            "Homogeneity: 0.539093140344544\n",
            "Completeness: 0.565051034259979\n",
            "V-Measure: 0.5517669585554806\n",
            "Adjusted Rand Index: 0.48975286822925745\n",
            "Adjusted Mutual Info: 0.5511398358215023\n",
            "HDBSCAN\n",
            "Homogeneity: 0.179315177782789\n",
            "Completeness: 0.6353789732056442\n",
            "V-Measure: 0.27969537623802976\n",
            "Adjusted Rand Index: 0.09494009559863244\n",
            "Adjusted Mutual Info: 0.2793118679420099\n"
          ]
        }
      ]
    },
    {
      "cell_type": "markdown",
      "source": [
        "## Autoencoder"
      ],
      "metadata": {
        "id": "p9TjKbdzrR6S"
      }
    },
    {
      "cell_type": "code",
      "source": [
        "reduced = Autoencoder(50).fit_transform(f_all)\n",
        "\n",
        "# kmeans\n",
        "print(\"K means\")\n",
        "kmeans = KMeans(n_clusters=5, random_state=0, max_iter=1000, n_init=30).fit(reduced)\n",
        "report(kmeans.labels_, y_all)\n",
        "\n",
        "# Agglomerative\n",
        "print(\"Agglomerative Clustering\")\n",
        "agg_cluster = AgglomerativeClustering(n_clusters=5, linkage='ward').fit(reduced)\n",
        "report(agg_cluster.labels_, y_all)\n",
        "\n",
        "# HDBSCAN\n",
        "print(\"HDBSCAN\")\n",
        "clusterer = HDBSCAN(min_cluster_size=20).fit(reduced)\n",
        "report(clusterer.labels_, y_all)"
      ],
      "metadata": {
        "id": "bhqTFauMrTAo",
        "colab": {
          "base_uri": "https://localhost:8080/"
        },
        "outputId": "668f4d6c-2eff-438f-eb30-8ab611c32a01"
      },
      "execution_count": 18,
      "outputs": [
        {
          "output_type": "stream",
          "name": "stderr",
          "text": [
            "100%|██████████| 100/100 [00:23<00:00,  4.34it/s]\n"
          ]
        },
        {
          "output_type": "stream",
          "name": "stdout",
          "text": [
            "K means\n",
            "Homogeneity: 0.29932907975113093\n",
            "Completeness: 0.317099128556562\n",
            "V-Measure: 0.3079579716226842\n",
            "Adjusted Rand Index: 0.23849210553030098\n",
            "Adjusted Mutual Info: 0.30698461542264344\n",
            "Agglomerative Clustering\n",
            "Homogeneity: 0.344426659306424\n",
            "Completeness: 0.3596660177946927\n",
            "V-Measure: 0.3518814184663941\n",
            "Adjusted Rand Index: 0.28705957005657895\n",
            "Adjusted Mutual Info: 0.35097620672458296\n",
            "HDBSCAN\n",
            "Homogeneity: 2.0815080777064365e-16\n",
            "Completeness: 1.0\n",
            "V-Measure: 4.163016155412872e-16\n",
            "Adjusted Rand Index: 0.0\n",
            "Adjusted Mutual Info: 2.8509665587477824e-17\n"
          ]
        }
      ]
    },
    {
      "cell_type": "markdown",
      "source": [
        "# Question 25"
      ],
      "metadata": {
        "id": "SQ_J50fbuC3G"
      }
    },
    {
      "cell_type": "code",
      "source": [
        "class MLP(torch.nn.Module):\n",
        "    def __init__(self, num_features):\n",
        "        super().__init__()\n",
        "        self.model = nn.Sequential(\n",
        "            nn.Linear(num_features, 1280),\n",
        "            nn.ReLU(True),\n",
        "            nn.Linear(1280, 640),\n",
        "            nn.ReLU(True), \n",
        "            nn.Linear(640, 5),\n",
        "            nn.LogSoftmax(dim=1)\n",
        "        )\n",
        "        self.cuda()\n",
        "    \n",
        "    \n",
        "    def forward(self, X):\n",
        "        return self.model(X)\n",
        "    \n",
        "    def train(self, X, y):\n",
        "        X = torch.tensor(X, dtype=torch.float32, device='cuda')\n",
        "        y = torch.tensor(y, dtype=torch.int64, device='cuda')\n",
        "\n",
        "        self.model.train()\n",
        "        \n",
        "        criterion = nn.NLLLoss()\n",
        "        optimizer = torch.optim.Adam(self.parameters(), lr=1e-3, weight_decay=1e-5)\n",
        "\n",
        "        dataset = TensorDataset(X, y)\n",
        "        dataloader = DataLoader(dataset, batch_size=128, shuffle=True)\n",
        "\n",
        "        for epoch in tqdm(range(100)):\n",
        "            for (X_, y_) in dataloader:\n",
        "                preds = self.model(X_)\n",
        "                loss = criterion(preds, y_)\n",
        "                optimizer.zero_grad()\n",
        "                loss.backward()\n",
        "                optimizer.step()\n",
        "        return self\n",
        "    \n",
        "    def eval(self, X_test, y_test):\n",
        "        X = torch.tensor(X_test, dtype=torch.float32, device='cuda')\n",
        "        y = torch.tensor(y_test, dtype=torch.int64, device='cuda')\n",
        "\n",
        "        self.model.eval()\n",
        "        with torch.no_grad():\n",
        "          test_preds = torch.argmax(self.model(X), dim=1)\n",
        "        return torch.sum(test_preds == y) / test_preds.shape[0]"
      ],
      "metadata": {
        "id": "XdNorVt9Xfl0"
      },
      "execution_count": 19,
      "outputs": []
    },
    {
      "cell_type": "code",
      "source": [
        "print(f_all.shape, y_all.shape)"
      ],
      "metadata": {
        "id": "ye7wKN08uFRB",
        "colab": {
          "base_uri": "https://localhost:8080/"
        },
        "outputId": "1c80bb3e-debf-4361-e862-e803adb2ed31"
      },
      "execution_count": 20,
      "outputs": [
        {
          "output_type": "stream",
          "name": "stdout",
          "text": [
            "(3670, 4096) (3670,)\n"
          ]
        }
      ]
    },
    {
      "cell_type": "markdown",
      "source": [
        "## No dim red"
      ],
      "metadata": {
        "id": "ox94tPooDDge"
      }
    },
    {
      "cell_type": "code",
      "source": [
        "from sklearn.model_selection import train_test_split\n",
        "\n",
        "f_train, f_test, y_train, y_test = train_test_split(f_all, y_all, test_size=0.20, random_state=0)\n",
        "print(f_train.shape, f_test.shape, y_train.shape, y_test.shape)\n",
        "\n",
        "mlp = MLP(4096).train(f_train, y_train)\n",
        "print(mlp.eval(f_test, y_test))"
      ],
      "metadata": {
        "colab": {
          "base_uri": "https://localhost:8080/"
        },
        "id": "tMXrgzN2TuOq",
        "outputId": "2e6f630e-16ab-4861-a6cb-16bded6ea46b"
      },
      "execution_count": 21,
      "outputs": [
        {
          "output_type": "stream",
          "name": "stdout",
          "text": [
            "(2936, 4096) (734, 4096) (2936,) (734,)\n"
          ]
        },
        {
          "output_type": "stream",
          "name": "stderr",
          "text": [
            "100%|██████████| 100/100 [00:08<00:00, 11.37it/s]\n"
          ]
        },
        {
          "output_type": "stream",
          "name": "stdout",
          "text": [
            "tensor(0.8828, device='cuda:0')\n"
          ]
        }
      ]
    },
    {
      "cell_type": "markdown",
      "source": [
        "## SVD"
      ],
      "metadata": {
        "id": "D7qyL4ONDFO3"
      }
    },
    {
      "cell_type": "code",
      "source": [
        "from sklearn.decomposition import TruncatedSVD\n",
        "\n",
        "reduced = TruncatedSVD(n_components=50).fit_transform(f_all)\n",
        "\n",
        "f_train, f_test, y_train, y_test = train_test_split(reduced, y_all, test_size=0.20, random_state=0)\n",
        "print(f_train.shape, f_test.shape, y_train.shape, y_test.shape)\n",
        "\n",
        "mlp = MLP(50).train(f_train, y_train)\n",
        "print(mlp.eval(f_test, y_test))"
      ],
      "metadata": {
        "colab": {
          "base_uri": "https://localhost:8080/"
        },
        "id": "k9aIa4JCUzCS",
        "outputId": "83f25c71-8546-4727-f658-ab708d12b964"
      },
      "execution_count": 23,
      "outputs": [
        {
          "output_type": "stream",
          "name": "stdout",
          "text": [
            "(2936, 50) (734, 50) (2936,) (734,)\n"
          ]
        },
        {
          "output_type": "stream",
          "name": "stderr",
          "text": [
            "100%|██████████| 100/100 [00:14<00:00,  6.72it/s]\n"
          ]
        },
        {
          "output_type": "stream",
          "name": "stdout",
          "text": [
            "tensor(0.8910, device='cuda:0')\n"
          ]
        }
      ]
    },
    {
      "cell_type": "markdown",
      "source": [
        "## UMAP"
      ],
      "metadata": {
        "id": "O27mlXAlDP4Z"
      }
    },
    {
      "cell_type": "code",
      "source": [
        "reducer = umap.UMAP(metric='cosine', n_components=50)\n",
        "reduced = reducer.fit_transform(f_all)\n",
        "\n",
        "f_train, f_test, y_train, y_test = train_test_split(reduced, y_all, test_size=0.20, random_state=0)\n",
        "print(f_train.shape, f_test.shape, y_train.shape, y_test.shape)\n",
        "\n",
        "mlp = MLP(50).train(f_train, y_train)\n",
        "print(mlp.eval(f_test, y_test))"
      ],
      "metadata": {
        "colab": {
          "base_uri": "https://localhost:8080/"
        },
        "id": "ipb3ZHNMWPaD",
        "outputId": "ec12a41f-6cab-4b49-fb8d-796b8314a80b"
      },
      "execution_count": 24,
      "outputs": [
        {
          "output_type": "stream",
          "name": "stdout",
          "text": [
            "(2936, 50) (734, 50) (2936,) (734,)\n"
          ]
        },
        {
          "output_type": "stream",
          "name": "stderr",
          "text": [
            "100%|██████████| 100/100 [00:06<00:00, 14.78it/s]"
          ]
        },
        {
          "output_type": "stream",
          "name": "stdout",
          "text": [
            "tensor(0.7943, device='cuda:0')\n"
          ]
        },
        {
          "output_type": "stream",
          "name": "stderr",
          "text": [
            "\n"
          ]
        }
      ]
    },
    {
      "cell_type": "markdown",
      "source": [
        "## Autoencoder"
      ],
      "metadata": {
        "id": "FjdJ0mTQDRrg"
      }
    },
    {
      "cell_type": "code",
      "source": [
        "reduced = Autoencoder(50).fit_transform(f_all)\n",
        "\n",
        "f_train, f_test, y_train, y_test = train_test_split(reduced, y_all, test_size=0.20, random_state=0)\n",
        "print(f_train.shape, f_test.shape, y_train.shape, y_test.shape)\n",
        "\n",
        "mlp = MLP(50).train(f_train, y_train)\n",
        "print(mlp.eval(f_test, y_test))"
      ],
      "metadata": {
        "id": "jy1VB_hVUK7d",
        "colab": {
          "base_uri": "https://localhost:8080/"
        },
        "outputId": "07acc063-af0d-4f8e-ca52-f482776fe646"
      },
      "execution_count": 25,
      "outputs": [
        {
          "output_type": "stream",
          "name": "stderr",
          "text": [
            "100%|██████████| 100/100 [00:23<00:00,  4.29it/s]\n"
          ]
        },
        {
          "output_type": "stream",
          "name": "stdout",
          "text": [
            "(2936, 50) (734, 50) (2936,) (734,)\n"
          ]
        },
        {
          "output_type": "stream",
          "name": "stderr",
          "text": [
            "100%|██████████| 100/100 [00:06<00:00, 14.91it/s]"
          ]
        },
        {
          "output_type": "stream",
          "name": "stdout",
          "text": [
            "tensor(0.8651, device='cuda:0')\n"
          ]
        },
        {
          "output_type": "stream",
          "name": "stderr",
          "text": [
            "\n"
          ]
        }
      ]
    },
    {
      "cell_type": "code",
      "source": [],
      "metadata": {
        "id": "SsEFus9jD7y-"
      },
      "execution_count": null,
      "outputs": []
    }
  ],
  "metadata": {
    "colab": {
      "collapsed_sections": [
        "V9D_s5wq8YPf",
        "7XLHQkaGBimS",
        "gH6ucZLGJL0v"
      ],
      "provenance": []
    },
    "kernelspec": {
      "display_name": "Python 3",
      "name": "python3"
    },
    "language_info": {
      "name": "python"
    },
    "accelerator": "GPU",
    "gpuClass": "standard"
  },
  "nbformat": 4,
  "nbformat_minor": 0
}