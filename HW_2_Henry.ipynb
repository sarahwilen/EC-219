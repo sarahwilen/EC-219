{
  "cells": [
    {
      "cell_type": "code",
      "execution_count": 1,
      "metadata": {
        "colab": {
          "base_uri": "https://localhost:8080/"
        },
        "id": "KEqbsHE54Djd",
        "outputId": "d3fc2715-a25a-4d1d-9e9a-eb215ee70451"
      },
      "outputs": [
        {
          "output_type": "stream",
          "name": "stdout",
          "text": [
            "Mounted at /content/drive\n",
            "/content/drive/MyDrive/Grad School/ECE219/HW2\n"
          ]
        }
      ],
      "source": [
        "# Mount the google drive\n",
        "from google.colab import drive\n",
        "drive.mount('/content/drive', force_remount=True)\n",
        "\n",
        "# cd only once to the wanted dir at the beginning\n",
        "%cd '/content/drive/MyDrive/Grad School/ECE219/HW2'"
      ]
    },
    {
      "cell_type": "markdown",
      "metadata": {
        "id": "V9D_s5wq8YPf"
      },
      "source": [
        "# Helper Code"
      ]
    },
    {
      "cell_type": "code",
      "execution_count": 2,
      "metadata": {
        "id": "7FGIsTt18ZYI"
      },
      "outputs": [],
      "source": [
        "import itertools\n",
        "import numpy as np\n",
        "import matplotlib.pyplot as plt\n",
        "import matplotlib.colors as colors\n",
        "def plot_mat(mat, xticklabels = None, yticklabels = None, pic_fname = None, size=(-1,-1), if_show_values = True,\n",
        "             colorbar = True, grid = 'k', xlabel = None, ylabel = None, title = None, vmin=None, vmax=None):\n",
        "    if size == (-1, -1):\n",
        "        size = (mat.shape[1] / 3, mat.shape[0] / 3)\n",
        "\n",
        "    fig = plt.figure(figsize=size)\n",
        "    ax = fig.add_subplot(1,1,1)\n",
        "\n",
        "    # im = ax.imshow(mat, cmap=plt.cm.Blues)\n",
        "    im = ax.pcolor(mat, cmap=plt.cm.Blues, linestyle='-', linewidth=0.5, edgecolor=grid, vmin=vmin, vmax=vmax)\n",
        "    \n",
        "    if colorbar:\n",
        "        plt.colorbar(im,fraction=0.046, pad=0.06)\n",
        "    # tick_marks = np.arange(len(classes))\n",
        "    # Ticks\n",
        "    lda_num_topics = mat.shape[0]\n",
        "    nmf_num_topics = mat.shape[1]\n",
        "    yticks = np.arange(lda_num_topics)\n",
        "    xticks = np.arange(nmf_num_topics)\n",
        "    ax.set_xticks(xticks + 0.5)\n",
        "    ax.set_yticks(yticks + 0.5)\n",
        "    if xticklabels is None:\n",
        "        xticklabels = [str(i) for i in xticks]\n",
        "    if yticklabels is None:\n",
        "        yticklabels = [str(i) for i in yticks]\n",
        "    ax.set_xticklabels(xticklabels)\n",
        "    ax.set_yticklabels(yticklabels)\n",
        "\n",
        "    # Minor ticks\n",
        "    # ax.set_xticks(xticks, minor=True);\n",
        "    # ax.set_yticks(yticks, minor=True);\n",
        "    # ax.set_xticklabels([], minor=True)\n",
        "    # ax.set_yticklabels([], minor=True)\n",
        "\n",
        "    # ax.grid(which='minor', color='k', linestyle='-', linewidth=0.5)\n",
        "\n",
        "    # tick labels on all four sides\n",
        "    ax.tick_params(labelright = True, labeltop = False)\n",
        "\n",
        "    if ylabel:\n",
        "        plt.ylabel(ylabel, fontsize=15)\n",
        "    if xlabel:\n",
        "        plt.xlabel(xlabel, fontsize=15)\n",
        "    if title:\n",
        "        plt.title(title, fontsize=15)\n",
        "\n",
        "    # im = ax.imshow(mat, interpolation='nearest', cmap=plt.cm.Blues)\n",
        "    ax.invert_yaxis()\n",
        "\n",
        "    # thresh = mat.max() / 2\n",
        "\n",
        "    def show_values(pc, fmt=\"%.3f\", **kw):\n",
        "        pc.update_scalarmappable()\n",
        "        ax = pc.axes\n",
        "        for p, color, value in itertools.zip_longest(pc.get_paths(), pc.get_facecolors(), pc.get_array()):\n",
        "            x, y = p.vertices[:-2, :].mean(0)\n",
        "            if np.all(color[:3] > 0.5):\n",
        "                color = (0.0, 0.0, 0.0)\n",
        "            else:\n",
        "                color = (1.0, 1.0, 1.0)\n",
        "            ax.text(x, y, fmt % value, ha=\"center\", va=\"center\", color=color, **kw, fontsize=10)\n",
        "\n",
        "    if if_show_values:\n",
        "        show_values(im)\n",
        "    # for i, j in itertools.product(range(mat.shape[0]), range(mat.shape[1])):\n",
        "    #     ax.text(j, i, \"{:.2f}\".format(mat[i, j]), fontsize = 4,\n",
        "    #              horizontalalignment=\"center\",\n",
        "    #              color=\"white\" if mat[i, j] > thresh else \"black\")\n",
        "\n",
        "    plt.tight_layout()\n",
        "    if pic_fname:\n",
        "        plt.savefig(pic_fname, dpi=300, transparent=True)\n",
        "    plt.show()\n",
        "    plt.close()"
      ]
    },
    {
      "cell_type": "markdown",
      "metadata": {
        "id": "kGUdDWv64JJk"
      },
      "source": [
        "# Question 1"
      ]
    },
    {
      "cell_type": "code",
      "execution_count": 3,
      "metadata": {
        "colab": {
          "base_uri": "https://localhost:8080/"
        },
        "id": "fTQ_lElD4IZm",
        "outputId": "4f2bf516-a684-4518-c64f-aeac32ac24a9"
      },
      "outputs": [
        {
          "output_type": "stream",
          "name": "stdout",
          "text": [
            "(4732, 20589)\n",
            "(3150, 20589)\n"
          ]
        }
      ],
      "source": [
        "from sklearn.datasets import fetch_20newsgroups\n",
        "from sklearn.feature_extraction.text import TfidfVectorizer\n",
        "\n",
        "categories = ['comp.graphics', 'comp.os.ms-windows.misc', 'comp.sys.ibm.pc.hardware', 'comp.sys.mac.hardware',\n",
        "              'rec.autos', 'rec.motorcycles', 'rec.sport.baseball', 'rec.sport.hockey']\n",
        "raw_train = fetch_20newsgroups(subset='train', categories=categories)\n",
        "raw_test = fetch_20newsgroups(subset='test', categories=categories)\n",
        "\n",
        "vectorizer = TfidfVectorizer(min_df=3)\n",
        "vectorized_train = vectorizer.fit_transform(raw_train.data)\n",
        "vectorized_test = vectorizer.transform(raw_test.data)\n",
        "print(vectorized_train.shape)\n",
        "print(vectorized_test.shape)"
      ]
    },
    {
      "cell_type": "markdown",
      "metadata": {
        "id": "gNZsWEvn561E"
      },
      "source": [
        "# Question 2"
      ]
    },
    {
      "cell_type": "code",
      "execution_count": 4,
      "metadata": {
        "colab": {
          "base_uri": "https://localhost:8080/",
          "height": 0
        },
        "id": "K1yPYI7X4whe",
        "outputId": "c1229cfd-fddb-4ef4-e04d-4dcb18aa9bda"
      },
      "outputs": [
        {
          "output_type": "stream",
          "name": "stderr",
          "text": [
            "<ipython-input-2-c9caf59fab00>:74: UserWarning: Tight layout not applied. The left and right margins cannot be made large enough to accommodate all axes decorations. \n",
            "  plt.tight_layout()\n"
          ]
        },
        {
          "output_type": "display_data",
          "data": {
            "text/plain": [
              "<Figure size 48x48 with 2 Axes>"
            ],
            "image/png": "[encoded data removed]"
          },
          "metadata": {
            "needs_background": "light"
          }
        }
      ],
      "source": [
        "from sklearn.cluster import KMeans\n",
        "from sklearn.metrics.cluster import contingency_matrix\n",
        "\n",
        "kmeans = KMeans(n_clusters=2, random_state=0, max_iter=1000, n_init=30).fit(vectorized_train)\n",
        "\n",
        "preds = kmeans.labels_\n",
        "gt_labels = [0 if x < 4 else 1 for x in raw_train.target]\n",
        "contingency = contingency_matrix(gt_labels, preds)\n",
        "plot_mat(contingency)"
      ]
    },
    {
      "cell_type": "markdown",
      "metadata": {
        "id": "bpjmZ_dB80_k"
      },
      "source": [
        "# Question 3"
      ]
    },
    {
      "cell_type": "code",
      "execution_count": 5,
      "metadata": {
        "colab": {
          "base_uri": "https://localhost:8080/"
        },
        "id": "qou7rRn54yf-",
        "outputId": "38b832b5-f8e1-45fa-9115-c6e3cc94ea48"
      },
      "outputs": [
        {
          "output_type": "stream",
          "name": "stdout",
          "text": [
            "Homogeneity: 0.031959727528859776\n",
            "Completeness: 0.033154074892616014\n",
            "V-Measure: 0.032545947575930344\n",
            "Adjusted Rand Index: 0.040618406830164905\n",
            "Adjusted Mutual Info: 0.032395678929806646\n"
          ]
        }
      ],
      "source": [
        "from sklearn import metrics\n",
        "\n",
        "def report(preds, labels):\n",
        "  homog = metrics.homogeneity_score(labels, preds)\n",
        "  compl = metrics.completeness_score(labels, preds)\n",
        "  vmeas = metrics.v_measure_score(labels, preds)\n",
        "  ari = metrics.adjusted_rand_score(labels, preds)\n",
        "  ami = metrics.adjusted_mutual_info_score(labels, preds)\n",
        "\n",
        "  print(f\"Homogeneity: {homog}\")\n",
        "  print(f\"Completeness: {compl}\")\n",
        "  print(f\"V-Measure: {vmeas}\")\n",
        "  print(f\"Adjusted Rand Index: {ari}\")\n",
        "  print(f\"Adjusted Mutual Info: {ami}\")\n",
        "\n",
        "report(preds, gt_labels)"
      ]
    },
    {
      "cell_type": "markdown",
      "metadata": {
        "id": "2D3BbOFp-qOX"
      },
      "source": [
        "# Question 4"
      ]
    },
    {
      "cell_type": "code",
      "execution_count": 25,
      "metadata": {
        "id": "VkChYxqO9zOn"
      },
      "outputs": [],
      "source": [
        "from sklearn.decomposition import TruncatedSVD\n",
        "import matplotlib.pyplot as plt\n",
        "import numpy as np\n",
        "\n",
        "svd = TruncatedSVD(n_components=1000).fit(vectorized_train)"
      ]
    },
    {
      "cell_type": "code",
      "execution_count": 26,
      "metadata": {
        "colab": {
          "base_uri": "https://localhost:8080/",
          "height": 296
        },
        "id": "eGwc2Z5b-_TY",
        "outputId": "27661e29-0995-4562-8ff2-f9877fe57ec1"
      },
      "outputs": [
        {
          "output_type": "execute_result",
          "data": {
            "text/plain": [
              "Text(0, 0.5, '% Explained Variance')"
            ]
          },
          "metadata": {},
          "execution_count": 26
        },
        {
          "output_type": "display_data",
          "data": {
            "text/plain": [
              "<Figure size 432x288 with 1 Axes>"
            ],
            "image/png": "[encoded data removed]"
          },
          "metadata": {
            "needs_background": "light"
          }
        }
      ],
      "source": [
        "plt.plot(np.arange(1000), np.cumsum(svd.explained_variance_ratio_))\n",
        "plt.xlabel(\"r\")\n",
        "plt.ylabel(\"% Explained Variance\")"
      ]
    },
    {
      "cell_type": "markdown",
      "metadata": {
        "id": "ZaEo1TJT_jhk"
      },
      "source": [
        "# Question 5"
      ]
    },
    {
      "cell_type": "markdown",
      "metadata": {
        "id": "9WUCZoGrBgij"
      },
      "source": [
        "## SVD"
      ]
    },
    {
      "cell_type": "code",
      "execution_count": 27,
      "metadata": {
        "colab": {
          "base_uri": "https://localhost:8080/"
        },
        "id": "N8oOUqQQ_i9G",
        "outputId": "91bd8d6b-562e-47e3-daa3-d0dcbb0a01b2"
      },
      "outputs": [
        {
          "output_type": "stream",
          "name": "stdout",
          "text": [
            "(4732, 1000)\n"
          ]
        }
      ],
      "source": [
        "reduced = TruncatedSVD(n_components=1000).fit_transform(vectorized_train)\n",
        "print(reduced.shape)"
      ]
    },
    {
      "cell_type": "code",
      "execution_count": 28,
      "metadata": {
        "colab": {
          "base_uri": "https://localhost:8080/"
        },
        "id": "DykdClD3_aHD",
        "outputId": "7093a351-8491-46f5-815d-dbdbd146aa72"
      },
      "outputs": [
        {
          "output_type": "stream",
          "name": "stdout",
          "text": [
            "Report for K=1\n",
            "Homogeneity: 0.012811287861286899\n",
            "Completeness: 0.012571459080662066\n",
            "V-Measure: 0.012690240460348258\n",
            "Adjusted Rand Index: 0.016303957649594535\n",
            "Adjusted Mutual Info: 0.01253822894904869\n",
            "\n",
            "Report for K=2\n",
            "Homogeneity: 0.11817302186847066\n",
            "Completeness: 0.10876501601327326\n",
            "V-Measure: 0.11327400849882004\n",
            "Adjusted Rand Index: 0.1264733842316172\n",
            "Adjusted Mutual Info: 0.11313314809176858\n",
            "\n",
            "Report for K=3\n",
            "Homogeneity: 0.04624150483040117\n",
            "Completeness: 0.04408309919548781\n",
            "V-Measure: 0.045136513276115425\n",
            "Adjusted Rand Index: 0.05503037001924629\n",
            "Adjusted Mutual Info: 0.04498739024980104\n",
            "\n",
            "Report for K=4\n",
            "Homogeneity: 0.048199756287531245\n",
            "Completeness: 0.046215206961322836\n",
            "V-Measure: 0.047186624570139085\n",
            "Adjusted Rand Index: 0.05825423881648007\n",
            "Adjusted Mutual Info: 0.04703824037608506\n",
            "\n",
            "Report for K=5\n",
            "Homogeneity: 0.04776670152603446\n",
            "Completeness: 0.04535238978074085\n",
            "V-Measure: 0.04652824755370872\n",
            "Adjusted Rand Index: 0.05622948677000648\n",
            "Adjusted Mutual Info: 0.04637904607601487\n",
            "\n",
            "Report for K=6\n",
            "Homogeneity: 0.04506060219866086\n",
            "Completeness: 0.04296442236244063\n",
            "V-Measure: 0.043987553639938684\n",
            "Adjusted Rand Index: 0.05364831028328924\n",
            "Adjusted Mutual Info: 0.043838263246616084\n",
            "\n",
            "Report for K=7\n",
            "Homogeneity: 0.0415229455869759\n",
            "Completeness: 0.039531997498231594\n",
            "V-Measure: 0.04050301976865143\n",
            "Adjusted Rand Index: 0.049230834152928095\n",
            "Adjusted Mutual Info: 0.04035307538701065\n",
            "\n",
            "Report for K=8\n",
            "Homogeneity: 0.04301068043737811\n",
            "Completeness: 0.040815484179212366\n",
            "V-Measure: 0.041884338975984224\n",
            "Adjusted Rand Index: 0.050555801639831414\n",
            "Adjusted Mutual Info: 0.04173437270735867\n",
            "\n",
            "Report for K=9\n",
            "Homogeneity: 0.043621970461948066\n",
            "Completeness: 0.041293454820305\n",
            "V-Measure: 0.04242578684510446\n",
            "Adjusted Rand Index: 0.0509377982236623\n",
            "Adjusted Mutual Info: 0.04227572481447984\n",
            "\n",
            "Report for K=10\n",
            "Homogeneity: 0.043599172795806336\n",
            "Completeness: 0.04133776070231005\n",
            "V-Measure: 0.04243836214999868\n",
            "Adjusted Rand Index: 0.05112893024551529\n",
            "Adjusted Mutual Info: 0.042288418662366975\n",
            "\n",
            "Report for K=20\n",
            "Homogeneity: 0.0442538306290221\n",
            "Completeness: 0.04195846258989194\n",
            "V-Measure: 0.04307558997861969\n",
            "Adjusted Rand Index: 0.05189793844491486\n",
            "Adjusted Mutual Info: 0.04292574627376882\n",
            "\n",
            "Report for K=50\n",
            "Homogeneity: 0.04238923087304805\n",
            "Completeness: 0.04027450559042211\n",
            "V-Measure: 0.04130481850465824\n",
            "Adjusted Rand Index: 0.04998584079824697\n",
            "Adjusted Mutual Info: 0.04115485015637449\n",
            "\n",
            "Report for K=100\n",
            "Homogeneity: 0.0397743966044008\n",
            "Completeness: 0.038041207539685915\n",
            "V-Measure: 0.03888850038848587\n",
            "Adjusted Rand Index: 0.04773789685849531\n",
            "Adjusted Mutual Info: 0.03873863987278969\n",
            "\n",
            "Report for K=300\n",
            "Homogeneity: 0.038052984694266545\n",
            "Completeness: 0.03641214873738444\n",
            "V-Measure: 0.03721448884156862\n",
            "Adjusted Rand Index: 0.045723288129322616\n",
            "Adjusted Mutual Info: 0.037064402317805806\n",
            "\n"
          ]
        }
      ],
      "source": [
        "for k in [1,2,3,4,5,6,7,8,9,10,20,50,100,300]:\n",
        "  kmeans = KMeans(n_clusters=2, random_state=0, max_iter=1000, n_init=30).fit(reduced[...,:k])\n",
        "  print(f\"Report for K={k}\")\n",
        "  report(gt_labels, kmeans.labels_)\n",
        "  print()"
      ]
    },
    {
      "cell_type": "markdown",
      "metadata": {
        "id": "7XLHQkaGBimS"
      },
      "source": [
        "## NMF"
      ]
    },
    {
      "cell_type": "code",
      "execution_count": null,
      "metadata": {
        "colab": {
          "base_uri": "https://localhost:8080/"
        },
        "id": "9IPRQ5DABiP5",
        "outputId": "c41f6899-00ff-4622-94a7-7adc4ebab8a1"
      },
      "outputs": [
        {
          "metadata": {
            "tags": null
          },
          "name": "stderr",
          "output_type": "stream",
          "text": [
            "/usr/local/lib/python3.8/dist-packages/sklearn/decomposition/_nmf.py:289: FutureWarning: The 'init' value, when 'init=None' and n_components is less than n_samples and n_features, will be changed from 'nndsvd' to 'nndsvda' in 1.1 (renaming of 0.26).\n",
            "  warnings.warn(\n"
          ]
        },
        {
          "metadata": {
            "tags": null
          },
          "name": "stdout",
          "output_type": "stream",
          "text": [
            "Report for K=1\n",
            "Homogeneity: 0.11642989771306712\n",
            "Completeness: 0.025138480372592927\n",
            "V-Measure: 0.04134921566554858\n",
            "Adjusted Rand Index: 0.012666590848792316\n",
            "Adjusted Mutual Info: 0.0409057550826749\n",
            "\n"
          ]
        },
        {
          "metadata": {
            "tags": null
          },
          "name": "stderr",
          "output_type": "stream",
          "text": [
            "/usr/local/lib/python3.8/dist-packages/sklearn/decomposition/_nmf.py:289: FutureWarning: The 'init' value, when 'init=None' and n_components is less than n_samples and n_features, will be changed from 'nndsvd' to 'nndsvda' in 1.1 (renaming of 0.26).\n",
            "  warnings.warn(\n"
          ]
        },
        {
          "metadata": {
            "tags": null
          },
          "name": "stdout",
          "output_type": "stream",
          "text": [
            "Report for K=2\n",
            "Homogeneity: 0.23870856656184078\n",
            "Completeness: 0.05017710031688087\n",
            "V-Measure: 0.08292348886869996\n",
            "Adjusted Rand Index: 0.022067500338853067\n",
            "Adjusted Mutual Info: 0.08249723564846402\n",
            "\n"
          ]
        },
        {
          "metadata": {
            "tags": null
          },
          "name": "stderr",
          "output_type": "stream",
          "text": [
            "/usr/local/lib/python3.8/dist-packages/sklearn/decomposition/_nmf.py:289: FutureWarning: The 'init' value, when 'init=None' and n_components is less than n_samples and n_features, will be changed from 'nndsvd' to 'nndsvda' in 1.1 (renaming of 0.26).\n",
            "  warnings.warn(\n"
          ]
        },
        {
          "metadata": {
            "tags": null
          },
          "name": "stdout",
          "output_type": "stream",
          "text": [
            "Report for K=3\n",
            "Homogeneity: 0.26811043775824794\n",
            "Completeness: 0.05237622357175989\n",
            "V-Measure: 0.08763305263109601\n",
            "Adjusted Rand Index: 0.020768977639755246\n",
            "Adjusted Mutual Info: 0.08720365211071032\n",
            "\n"
          ]
        },
        {
          "metadata": {
            "tags": null
          },
          "name": "stderr",
          "output_type": "stream",
          "text": [
            "/usr/local/lib/python3.8/dist-packages/sklearn/decomposition/_nmf.py:289: FutureWarning: The 'init' value, when 'init=None' and n_components is less than n_samples and n_features, will be changed from 'nndsvd' to 'nndsvda' in 1.1 (renaming of 0.26).\n",
            "  warnings.warn(\n"
          ]
        },
        {
          "metadata": {
            "tags": null
          },
          "name": "stdout",
          "output_type": "stream",
          "text": [
            "Report for K=4\n",
            "Homogeneity: 0.2989758383831458\n",
            "Completeness: 0.05938608328606993\n",
            "V-Measure: 0.09908979143790143\n",
            "Adjusted Rand Index: 0.023647943944658672\n",
            "Adjusted Mutual Info: 0.09866695857816474\n",
            "\n"
          ]
        },
        {
          "metadata": {
            "tags": null
          },
          "name": "stderr",
          "output_type": "stream",
          "text": [
            "/usr/local/lib/python3.8/dist-packages/sklearn/decomposition/_nmf.py:289: FutureWarning: The 'init' value, when 'init=None' and n_components is less than n_samples and n_features, will be changed from 'nndsvd' to 'nndsvda' in 1.1 (renaming of 0.26).\n",
            "  warnings.warn(\n"
          ]
        },
        {
          "metadata": {
            "tags": null
          },
          "name": "stdout",
          "output_type": "stream",
          "text": [
            "Report for K=5\n",
            "Homogeneity: 0.26529517030962985\n",
            "Completeness: 0.05129818205747011\n",
            "V-Measure: 0.08597249338154568\n",
            "Adjusted Rand Index: 0.02020540344594575\n",
            "Adjusted Mutual Info: 0.08554158369071073\n",
            "\n"
          ]
        },
        {
          "metadata": {
            "tags": null
          },
          "name": "stderr",
          "output_type": "stream",
          "text": [
            "/usr/local/lib/python3.8/dist-packages/sklearn/decomposition/_nmf.py:289: FutureWarning: The 'init' value, when 'init=None' and n_components is less than n_samples and n_features, will be changed from 'nndsvd' to 'nndsvda' in 1.1 (renaming of 0.26).\n",
            "  warnings.warn(\n",
            "/usr/local/lib/python3.8/dist-packages/sklearn/decomposition/_nmf.py:1637: ConvergenceWarning: Maximum number of iterations 200 reached. Increase it to improve convergence.\n",
            "  warnings.warn(\n"
          ]
        },
        {
          "metadata": {
            "tags": null
          },
          "name": "stdout",
          "output_type": "stream",
          "text": [
            "Report for K=6\n",
            "Homogeneity: 0.25805168386432237\n",
            "Completeness: 0.04875727764680297\n",
            "V-Measure: 0.0820177972340065\n",
            "Adjusted Rand Index: 0.018587231660584007\n",
            "Adjusted Mutual Info: 0.08158339121513043\n",
            "\n"
          ]
        },
        {
          "metadata": {
            "tags": null
          },
          "name": "stderr",
          "output_type": "stream",
          "text": [
            "/usr/local/lib/python3.8/dist-packages/sklearn/decomposition/_nmf.py:289: FutureWarning: The 'init' value, when 'init=None' and n_components is less than n_samples and n_features, will be changed from 'nndsvd' to 'nndsvda' in 1.1 (renaming of 0.26).\n",
            "  warnings.warn(\n",
            "/usr/local/lib/python3.8/dist-packages/sklearn/decomposition/_nmf.py:1637: ConvergenceWarning: Maximum number of iterations 200 reached. Increase it to improve convergence.\n",
            "  warnings.warn(\n"
          ]
        },
        {
          "metadata": {
            "tags": null
          },
          "name": "stdout",
          "output_type": "stream",
          "text": [
            "Report for K=7\n",
            "Homogeneity: 0.2934537560115733\n",
            "Completeness: 0.054951071921936795\n",
            "V-Measure: 0.09256816874783308\n",
            "Adjusted Rand Index: 0.02075974753205176\n",
            "Adjusted Mutual Info: 0.09213813580390565\n",
            "\n"
          ]
        },
        {
          "metadata": {
            "tags": null
          },
          "name": "stderr",
          "output_type": "stream",
          "text": [
            "/usr/local/lib/python3.8/dist-packages/sklearn/decomposition/_nmf.py:289: FutureWarning: The 'init' value, when 'init=None' and n_components is less than n_samples and n_features, will be changed from 'nndsvd' to 'nndsvda' in 1.1 (renaming of 0.26).\n",
            "  warnings.warn(\n",
            "/usr/local/lib/python3.8/dist-packages/sklearn/decomposition/_nmf.py:1637: ConvergenceWarning: Maximum number of iterations 200 reached. Increase it to improve convergence.\n",
            "  warnings.warn(\n"
          ]
        },
        {
          "metadata": {
            "tags": null
          },
          "name": "stdout",
          "output_type": "stream",
          "text": [
            "Report for K=8\n",
            "Homogeneity: 0.26786395981912897\n",
            "Completeness: 0.05496526927328321\n",
            "V-Measure: 0.09121364085562222\n",
            "Adjusted Rand Index: 0.02349027153890357\n",
            "Adjusted Mutual Info: 0.09078946555089719\n",
            "\n"
          ]
        },
        {
          "metadata": {
            "tags": null
          },
          "name": "stderr",
          "output_type": "stream",
          "text": [
            "/usr/local/lib/python3.8/dist-packages/sklearn/decomposition/_nmf.py:289: FutureWarning: The 'init' value, when 'init=None' and n_components is less than n_samples and n_features, will be changed from 'nndsvd' to 'nndsvda' in 1.1 (renaming of 0.26).\n",
            "  warnings.warn(\n"
          ]
        },
        {
          "metadata": {
            "tags": null
          },
          "name": "stdout",
          "output_type": "stream",
          "text": [
            "Report for K=9\n",
            "Homogeneity: 0.266747589475893\n",
            "Completeness: 0.05456454633619454\n",
            "V-Measure: 0.0905970212997975\n",
            "Adjusted Rand Index: 0.023273245788810102\n",
            "Adjusted Mutual Info: 0.09017232858025973\n",
            "\n"
          ]
        },
        {
          "metadata": {
            "tags": null
          },
          "name": "stderr",
          "output_type": "stream",
          "text": [
            "/usr/local/lib/python3.8/dist-packages/sklearn/decomposition/_nmf.py:289: FutureWarning: The 'init' value, when 'init=None' and n_components is less than n_samples and n_features, will be changed from 'nndsvd' to 'nndsvda' in 1.1 (renaming of 0.26).\n",
            "  warnings.warn(\n"
          ]
        },
        {
          "metadata": {
            "tags": null
          },
          "name": "stdout",
          "output_type": "stream",
          "text": [
            "Report for K=10\n",
            "Homogeneity: 0.24912737290706885\n",
            "Completeness: 0.05162427977515639\n",
            "V-Measure: 0.08552585552833665\n",
            "Adjusted Rand Index: 0.022405079837842432\n",
            "Adjusted Mutual Info: 0.0850997492366235\n",
            "\n"
          ]
        },
        {
          "metadata": {
            "tags": null
          },
          "name": "stderr",
          "output_type": "stream",
          "text": [
            "/usr/local/lib/python3.8/dist-packages/sklearn/decomposition/_nmf.py:289: FutureWarning: The 'init' value, when 'init=None' and n_components is less than n_samples and n_features, will be changed from 'nndsvd' to 'nndsvda' in 1.1 (renaming of 0.26).\n",
            "  warnings.warn(\n"
          ]
        },
        {
          "metadata": {
            "tags": null
          },
          "name": "stdout",
          "output_type": "stream",
          "text": [
            "Report for K=20\n",
            "Homogeneity: 0.22608752278435043\n",
            "Completeness: 0.04697171762653046\n",
            "V-Measure: 0.07778326243879131\n",
            "Adjusted Rand Index: 0.02113046344686463\n",
            "Adjusted Mutual Info: 0.07735374240085598\n",
            "\n"
          ]
        },
        {
          "metadata": {
            "tags": null
          },
          "name": "stderr",
          "output_type": "stream",
          "text": [
            "/usr/local/lib/python3.8/dist-packages/sklearn/decomposition/_nmf.py:289: FutureWarning: The 'init' value, when 'init=None' and n_components is less than n_samples and n_features, will be changed from 'nndsvd' to 'nndsvda' in 1.1 (renaming of 0.26).\n",
            "  warnings.warn(\n"
          ]
        },
        {
          "metadata": {
            "tags": null
          },
          "name": "stdout",
          "output_type": "stream",
          "text": [
            "Report for K=50\n",
            "Homogeneity: 0.49212309962051654\n",
            "Completeness: 0.006705316788264416\n",
            "V-Measure: 0.013230366086738773\n",
            "Adjusted Rand Index: 0.00012940277892119583\n",
            "Adjusted Mutual Info: 0.012644361695370029\n",
            "\n"
          ]
        },
        {
          "metadata": {
            "tags": null
          },
          "name": "stderr",
          "output_type": "stream",
          "text": [
            "/usr/local/lib/python3.8/dist-packages/sklearn/decomposition/_nmf.py:289: FutureWarning: The 'init' value, when 'init=None' and n_components is less than n_samples and n_features, will be changed from 'nndsvd' to 'nndsvda' in 1.1 (renaming of 0.26).\n",
            "  warnings.warn(\n",
            "/usr/local/lib/python3.8/dist-packages/sklearn/decomposition/_nmf.py:1637: ConvergenceWarning: Maximum number of iterations 200 reached. Increase it to improve convergence.\n",
            "  warnings.warn(\n"
          ]
        },
        {
          "metadata": {
            "tags": null
          },
          "name": "stdout",
          "output_type": "stream",
          "text": [
            "Report for K=100\n",
            "Homogeneity: 0.49212309962051654\n",
            "Completeness: 0.006705316788264416\n",
            "V-Measure: 0.013230366086738773\n",
            "Adjusted Rand Index: 0.00012940277892119583\n",
            "Adjusted Mutual Info: 0.012644361695370027\n",
            "\n"
          ]
        },
        {
          "metadata": {
            "tags": null
          },
          "name": "stderr",
          "output_type": "stream",
          "text": [
            "/usr/local/lib/python3.8/dist-packages/sklearn/decomposition/_nmf.py:289: FutureWarning: The 'init' value, when 'init=None' and n_components is less than n_samples and n_features, will be changed from 'nndsvd' to 'nndsvda' in 1.1 (renaming of 0.26).\n",
            "  warnings.warn(\n"
          ]
        }
      ],
      "source": [
        "from sklearn.decomposition import NMF\n",
        "for k in [1,2,3,4,5,6,7,8,9,10,20,50,100,300]:\n",
        "  reduced = NMF(n_components=k).fit_transform(vectorized_train)\n",
        "  kmeans = KMeans(n_clusters=2, random_state=0, max_iter=1000, n_init=30).fit(reduced[...,:k])\n",
        "  print(f\"Report for K={k}\")\n",
        "  report(gt_labels, kmeans.labels_)\n",
        "  print()"
      ]
    },
    {
      "cell_type": "markdown",
      "source": [
        "# Question 8"
      ],
      "metadata": {
        "id": "gH6ucZLGJL0v"
      }
    },
    {
      "cell_type": "markdown",
      "source": [
        "## PCA"
      ],
      "metadata": {
        "id": "uYzHORXgJYUh"
      }
    },
    {
      "cell_type": "code",
      "execution_count": 30,
      "metadata": {
        "id": "Y5qq4YNbCNVD",
        "colab": {
          "base_uri": "https://localhost:8080/",
          "height": 562
        },
        "outputId": "7ea73b12-f06e-4569-d037-f1000814a521"
      },
      "outputs": [
        {
          "output_type": "execute_result",
          "data": {
            "text/plain": [
              "Text(0.5, 1.0, 'Clustering Visualization with GT Labels')"
            ]
          },
          "metadata": {},
          "execution_count": 30
        },
        {
          "output_type": "display_data",
          "data": {
            "text/plain": [
              "<Figure size 432x288 with 1 Axes>"
            ],
            "image/png": "[encoded data removed]"
          },
          "metadata": {
            "needs_background": "light"
          }
        },
        {
          "output_type": "display_data",
          "data": {
            "text/plain": [
              "<Figure size 432x288 with 1 Axes>"
            ],
            "image/png": "[encoded data removed]"
          },
          "metadata": {
            "needs_background": "light"
          }
        }
      ],
      "source": [
        "import matplotlib.pyplot as plt\n",
        "\n",
        "reduced = TruncatedSVD(n_components=2).fit_transform(vectorized_train)\n",
        "kmeans = KMeans(n_clusters=2, random_state=0, max_iter=1000, n_init=30).fit(reduced)\n",
        "preds = kmeans.labels_\n",
        "gt_labels = [0 if x < 4 else 1 for x in raw_train.target]\n",
        "\n",
        "plt.scatter(reduced[...,0], reduced[...,1], c=preds)\n",
        "plt.title(\"Clustering Visualization with Predicted Labels\")\n",
        "plt.figure()\n",
        "plt.scatter(reduced[...,0], reduced[...,1], c=gt_labels)\n",
        "plt.title(\"Clustering Visualization with GT Labels\")"
      ]
    },
    {
      "cell_type": "markdown",
      "source": [
        "## NMF"
      ],
      "metadata": {
        "id": "Tzaj-gtIJZWc"
      }
    },
    {
      "cell_type": "code",
      "source": [
        "from sklearn.decomposition import NMF\n",
        "\n",
        "reduced = NMF(n_components=2).fit_transform(vectorized_train)\n",
        "kmeans = KMeans(n_clusters=2, random_state=0, max_iter=1000, n_init=30).fit(reduced)\n",
        "preds = kmeans.labels_\n",
        "gt_labels = [0 if x < 4 else 1 for x in raw_train.target]\n",
        "\n",
        "plt.scatter(reduced[...,0], reduced[...,1], c=preds)\n",
        "plt.title(\"Clustering Visualization with Predicted Labels\")\n",
        "plt.figure()\n",
        "plt.scatter(reduced[...,0], reduced[...,1], c=gt_labels)\n",
        "plt.title(\"Clustering Visualization with GT Labels\")"
      ],
      "metadata": {
        "colab": {
          "base_uri": "https://localhost:8080/",
          "height": 652
        },
        "id": "QYxkp74NJc-M",
        "outputId": "eede919b-748d-46b3-ed36-9c48b196fcb7"
      },
      "execution_count": 32,
      "outputs": [
        {
          "output_type": "stream",
          "name": "stderr",
          "text": [
            "/usr/local/lib/python3.8/dist-packages/sklearn/decomposition/_nmf.py:289: FutureWarning: The 'init' value, when 'init=None' and n_components is less than n_samples and n_features, will be changed from 'nndsvd' to 'nndsvda' in 1.1 (renaming of 0.26).\n",
            "  warnings.warn(\n",
            "/usr/local/lib/python3.8/dist-packages/sklearn/decomposition/_nmf.py:1637: ConvergenceWarning: Maximum number of iterations 200 reached. Increase it to improve convergence.\n",
            "  warnings.warn(\n"
          ]
        },
        {
          "output_type": "execute_result",
          "data": {
            "text/plain": [
              "Text(0.5, 1.0, 'Clustering Visualization with GT Labels')"
            ]
          },
          "metadata": {},
          "execution_count": 32
        },
        {
          "output_type": "display_data",
          "data": {
            "text/plain": [
              "<Figure size 432x288 with 1 Axes>"
            ],
            "image/png": "[encoded data removed]"
          },
          "metadata": {
            "needs_background": "light"
          }
        },
        {
          "output_type": "display_data",
          "data": {
            "text/plain": [
              "<Figure size 432x288 with 1 Axes>"
            ],
            "image/png": "[encoded data removed]"
          },
          "metadata": {
            "needs_background": "light"
          }
        }
      ]
    },
    {
      "cell_type": "markdown",
      "source": [
        "# Question 10"
      ],
      "metadata": {
        "id": "7BQtgAabPUy6"
      }
    },
    {
      "cell_type": "code",
      "source": [
        "raw_train = fetch_20newsgroups(subset='train')\n",
        "raw_test = fetch_20newsgroups(subset='test')\n",
        "\n",
        "vectorizer = TfidfVectorizer(min_df=3)\n",
        "vectorized_train = vectorizer.fit_transform(raw_train.data)\n",
        "vectorized_test = vectorizer.transform(raw_test.data)\n",
        "print(vectorized_train.shape)\n",
        "print(vectorized_test.shape)"
      ],
      "metadata": {
        "colab": {
          "base_uri": "https://localhost:8080/"
        },
        "id": "S6MzmlGnPK7d",
        "outputId": "baa703a9-c166-46a2-e327-e236aa4fe914"
      },
      "execution_count": 6,
      "outputs": [
        {
          "output_type": "stream",
          "name": "stdout",
          "text": [
            "(11314, 38869)\n",
            "(7532, 38869)\n"
          ]
        }
      ]
    },
    {
      "cell_type": "markdown",
      "source": [
        "## SVD"
      ],
      "metadata": {
        "id": "c97f4tR1Qlrw"
      }
    },
    {
      "cell_type": "code",
      "source": [
        "reduced = TruncatedSVD(n_components=450).fit_transform(vectorized_train)\n",
        "kmeans = KMeans(n_clusters=20, random_state=0, max_iter=1000, n_init=30).fit(reduced)\n",
        "report(kmeans.labels_, raw_train.target)"
      ],
      "metadata": {
        "colab": {
          "base_uri": "https://localhost:8080/"
        },
        "id": "MIxj3c0IQmaS",
        "outputId": "a60351cc-a026-4d3c-e722-6d4d38524843"
      },
      "execution_count": 33,
      "outputs": [
        {
          "output_type": "stream",
          "name": "stdout",
          "text": [
            "Homogeneity: 0.2900235116650489\n",
            "Completeness: 0.2571036311244157\n",
            "V-Measure: 0.27257319964193977\n",
            "Adjusted Rand Index: 0.11183674895039024\n",
            "Adjusted Mutual Info: 0.26773927004276754\n"
          ]
        }
      ]
    },
    {
      "cell_type": "markdown",
      "source": [
        "## NMF"
      ],
      "metadata": {
        "id": "a1JtOJNtQm3B"
      }
    },
    {
      "cell_type": "code",
      "source": [
        "reduced = NMF(n_components=2).fit_transform(vectorized_train)\n",
        "kmeans = KMeans(n_clusters=20, random_state=0, max_iter=1000, n_init=30).fit(reduced)\n",
        "report(kmeans.labels_, raw_train.target)"
      ],
      "metadata": {
        "colab": {
          "base_uri": "https://localhost:8080/"
        },
        "id": "R90kSGBoQneo",
        "outputId": "6e6862f9-6438-467d-d902-08dc53f546dc"
      },
      "execution_count": 35,
      "outputs": [
        {
          "output_type": "stream",
          "name": "stderr",
          "text": [
            "/usr/local/lib/python3.8/dist-packages/sklearn/decomposition/_nmf.py:289: FutureWarning: The 'init' value, when 'init=None' and n_components is less than n_samples and n_features, will be changed from 'nndsvd' to 'nndsvda' in 1.1 (renaming of 0.26).\n",
            "  warnings.warn(\n",
            "/usr/local/lib/python3.8/dist-packages/sklearn/decomposition/_nmf.py:1637: ConvergenceWarning: Maximum number of iterations 200 reached. Increase it to improve convergence.\n",
            "  warnings.warn(\n"
          ]
        },
        {
          "output_type": "stream",
          "name": "stdout",
          "text": [
            "Homogeneity: 0.283461115779993\n",
            "Completeness: 0.20409024618144744\n",
            "V-Measure: 0.23731509504831177\n",
            "Adjusted Rand Index: 0.08715376969193184\n",
            "Adjusted Mutual Info: 0.23293287517628514\n"
          ]
        }
      ]
    },
    {
      "cell_type": "markdown",
      "source": [
        "# Question 11"
      ],
      "metadata": {
        "id": "9BSHoFw3SGjj"
      }
    },
    {
      "cell_type": "code",
      "source": [
        "!pip install umap-learn\n",
        "import umap.umap_ as umap"
      ],
      "metadata": {
        "colab": {
          "base_uri": "https://localhost:8080/"
        },
        "id": "h_HWy4CxRhu-",
        "outputId": "17d63a5d-8496-42a5-d045-42ce9d249841"
      },
      "execution_count": 7,
      "outputs": [
        {
          "output_type": "stream",
          "name": "stdout",
          "text": [
            "Looking in indexes: https://pypi.org/simple, https://us-python.pkg.dev/colab-wheels/public/simple/\n",
            "Requirement already satisfied: umap-learn in /usr/local/lib/python3.8/dist-packages (0.5.3)\n",
            "Requirement already satisfied: scikit-learn>=0.22 in /usr/local/lib/python3.8/dist-packages (from umap-learn) (1.0.2)\n",
            "Requirement already satisfied: tqdm in /usr/local/lib/python3.8/dist-packages (from umap-learn) (4.64.1)\n",
            "Requirement already satisfied: scipy>=1.0 in /usr/local/lib/python3.8/dist-packages (from umap-learn) (1.7.3)\n",
            "Requirement already satisfied: pynndescent>=0.5 in /usr/local/lib/python3.8/dist-packages (from umap-learn) (0.5.8)\n",
            "Requirement already satisfied: numpy>=1.17 in /usr/local/lib/python3.8/dist-packages (from umap-learn) (1.21.6)\n",
            "Requirement already satisfied: numba>=0.49 in /usr/local/lib/python3.8/dist-packages (from umap-learn) (0.56.4)\n",
            "Requirement already satisfied: setuptools in /usr/local/lib/python3.8/dist-packages (from numba>=0.49->umap-learn) (57.4.0)\n",
            "Requirement already satisfied: importlib-metadata in /usr/local/lib/python3.8/dist-packages (from numba>=0.49->umap-learn) (6.0.0)\n",
            "Requirement already satisfied: llvmlite<0.40,>=0.39.0dev0 in /usr/local/lib/python3.8/dist-packages (from numba>=0.49->umap-learn) (0.39.1)\n",
            "Requirement already satisfied: joblib>=0.11 in /usr/local/lib/python3.8/dist-packages (from pynndescent>=0.5->umap-learn) (1.2.0)\n",
            "Requirement already satisfied: threadpoolctl>=2.0.0 in /usr/local/lib/python3.8/dist-packages (from scikit-learn>=0.22->umap-learn) (3.1.0)\n",
            "Requirement already satisfied: zipp>=0.5 in /usr/local/lib/python3.8/dist-packages (from importlib-metadata->numba>=0.49->umap-learn) (3.12.0)\n"
          ]
        }
      ]
    },
    {
      "cell_type": "code",
      "source": [
        "for metric in ['cosine', 'euclidean']:\n",
        "  for k in [5, 20, 200]:\n",
        "    reducer = umap.UMAP(metric=metric, n_components=k)\n",
        "    reduced = reducer.fit_transform(vectorized_train)\n",
        "\n",
        "    kmeans = KMeans(n_clusters=20, random_state=0, max_iter=1000, n_init=30).fit(reduced)\n",
        "\n",
        "    print(f\"Metric: {metric}, n_components: {k}\")\n",
        "    report(kmeans.labels_, raw_train.target)"
      ],
      "metadata": {
        "colab": {
          "base_uri": "https://localhost:8080/"
        },
        "id": "iRlEeNghav-Y",
        "outputId": "c2d55a04-326a-4916-8f72-849da2930a74"
      },
      "execution_count": 9,
      "outputs": [
        {
          "output_type": "stream",
          "name": "stdout",
          "text": [
            "Metric: cosine, n_components: 5\n",
            "Homogeneity: 0.49836886639890904\n",
            "Completeness: 0.3572595132663098\n",
            "V-Measure: 0.4161783850751214\n",
            "Adjusted Rand Index: 0.28623793116336843\n",
            "Adjusted Mutual Info: 0.4128334468101166\n",
            "Metric: cosine, n_components: 20\n",
            "Homogeneity: 0.4977457508244255\n",
            "Completeness: 0.36200890075405817\n",
            "V-Measure: 0.4191623547023169\n",
            "Adjusted Rand Index: 0.2984865088148811\n",
            "Adjusted Mutual Info: 0.41580282250904754\n",
            "Metric: cosine, n_components: 200\n",
            "Homogeneity: 0.5070626820320292\n",
            "Completeness: 0.3792104509288692\n",
            "V-Measure: 0.4339146954848534\n",
            "Adjusted Rand Index: 0.344246767796284\n",
            "Adjusted Mutual Info: 0.43055417798299406\n",
            "Metric: euclidean, n_components: 5\n",
            "Homogeneity: 0.5154048417806837\n",
            "Completeness: 0.3805314764111318\n",
            "V-Measure: 0.437816307721682\n",
            "Adjusted Rand Index: 0.3475073938575974\n",
            "Adjusted Mutual Info: 0.4345060071044367\n",
            "Metric: euclidean, n_components: 20\n",
            "Homogeneity: 0.523301150681635\n",
            "Completeness: 0.3875505044749231\n",
            "V-Measure: 0.44530988946628625\n",
            "Adjusted Rand Index: 0.33282164940605946\n",
            "Adjusted Mutual Info: 0.44201275818658964\n",
            "Metric: euclidean, n_components: 200\n",
            "Homogeneity: 0.5080519794836339\n",
            "Completeness: 0.38016144898334814\n",
            "V-Measure: 0.43489947458396544\n",
            "Adjusted Rand Index: 0.3377589021156683\n",
            "Adjusted Mutual Info: 0.4315179763328592\n"
          ]
        }
      ]
    },
    {
      "cell_type": "markdown",
      "source": [
        "# Question 14"
      ],
      "metadata": {
        "id": "FoP-f1lLeJ7c"
      }
    },
    {
      "cell_type": "markdown",
      "source": [
        "## Ward Linkage"
      ],
      "metadata": {
        "id": "XrJT_K-8esCi"
      }
    },
    {
      "cell_type": "code",
      "source": [
        "from sklearn.cluster import AgglomerativeClustering\n",
        "reducer = umap.UMAP(metric='euclidean', n_components=20)\n",
        "reduced = reducer.fit_transform(vectorized_train)\n",
        "\n",
        "agg_cluster = AgglomerativeClustering(n_clusters=20, linkage='ward').fit(reduced)\n",
        "report(agg_cluster.labels_, raw_train.target)"
      ],
      "metadata": {
        "colab": {
          "base_uri": "https://localhost:8080/"
        },
        "id": "WJ_D8r7jcL4J",
        "outputId": "a9f43cb8-4424-4a9c-c164-db70cf4506bd"
      },
      "execution_count": 11,
      "outputs": [
        {
          "output_type": "stream",
          "name": "stdout",
          "text": [
            "Homogeneity: 0.49405661139421975\n",
            "Completeness: 0.3763978060273877\n",
            "V-Measure: 0.42727527337491533\n",
            "Adjusted Rand Index: 0.35680167888759434\n",
            "Adjusted Mutual Info: 0.4238088335579014\n"
          ]
        }
      ]
    },
    {
      "cell_type": "markdown",
      "source": [
        "## Single Linkage"
      ],
      "metadata": {
        "id": "zArhz9eqetN1"
      }
    },
    {
      "cell_type": "code",
      "source": [
        "reducer = umap.UMAP(metric='euclidean', n_components=20)\n",
        "reduced = reducer.fit_transform(vectorized_train)\n",
        "\n",
        "agg_cluster = AgglomerativeClustering(n_clusters=20, linkage='single').fit(reduced)\n",
        "report(agg_cluster.labels_, raw_train.target)"
      ],
      "metadata": {
        "colab": {
          "base_uri": "https://localhost:8080/"
        },
        "id": "eOB8bT1WeuOz",
        "outputId": "a7887dac-f074-4a21-e8ef-bb5a2e24ed83"
      },
      "execution_count": 12,
      "outputs": [
        {
          "output_type": "stream",
          "name": "stdout",
          "text": [
            "Homogeneity: 0.021623167509019606\n",
            "Completeness: 0.18855358938590175\n",
            "V-Measure: 0.038797114466435786\n",
            "Adjusted Rand Index: 0.00022840199263828777\n",
            "Adjusted Mutual Info: 0.026745294767300948\n"
          ]
        }
      ]
    },
    {
      "cell_type": "markdown",
      "source": [
        "# Question 15"
      ],
      "metadata": {
        "id": "08r5cot7fNhk"
      }
    },
    {
      "cell_type": "code",
      "source": [
        "!pip install hdbscan"
      ],
      "metadata": {
        "colab": {
          "base_uri": "https://localhost:8080/"
        },
        "id": "bny7RNHRgJqA",
        "outputId": "c9e25178-fd67-4532-f4f3-7e16308501fa"
      },
      "execution_count": 8,
      "outputs": [
        {
          "output_type": "stream",
          "name": "stdout",
          "text": [
            "Looking in indexes: https://pypi.org/simple, https://us-python.pkg.dev/colab-wheels/public/simple/\n",
            "Requirement already satisfied: hdbscan in /usr/local/lib/python3.8/dist-packages (0.8.29)\n",
            "Requirement already satisfied: scipy>=1.0 in /usr/local/lib/python3.8/dist-packages (from hdbscan) (1.7.3)\n",
            "Requirement already satisfied: numpy>=1.20 in /usr/local/lib/python3.8/dist-packages (from hdbscan) (1.21.6)\n",
            "Requirement already satisfied: scikit-learn>=0.20 in /usr/local/lib/python3.8/dist-packages (from hdbscan) (1.0.2)\n",
            "Requirement already satisfied: cython>=0.27 in /usr/local/lib/python3.8/dist-packages (from hdbscan) (0.29.33)\n",
            "Requirement already satisfied: joblib>=1.0 in /usr/local/lib/python3.8/dist-packages (from hdbscan) (1.2.0)\n",
            "Requirement already satisfied: threadpoolctl>=2.0.0 in /usr/local/lib/python3.8/dist-packages (from scikit-learn>=0.20->hdbscan) (3.1.0)\n"
          ]
        }
      ]
    },
    {
      "cell_type": "code",
      "source": [
        "from hdbscan import HDBSCAN\n",
        "\n",
        "reducer = umap.UMAP(metric='euclidean', n_components=20)\n",
        "reduced = reducer.fit_transform(vectorized_train)\n",
        "\n",
        "for min_size in [20, 100, 200]:\n",
        "  clusterer = HDBSCAN(min_cluster_size=min_size).fit(reduced)\n",
        "\n",
        "  report(clusterer.labels_, raw_train.target)"
      ],
      "metadata": {
        "colab": {
          "base_uri": "https://localhost:8080/"
        },
        "id": "cgyN1IRGe80I",
        "outputId": "011c3d64-0331-41e9-a397-d87e78b2ec48"
      },
      "execution_count": 17,
      "outputs": [
        {
          "output_type": "stream",
          "name": "stdout",
          "text": [
            "Homogeneity: 0.34033072690787075\n",
            "Completeness: 0.33330630101389985\n",
            "V-Measure: 0.33678188996525066\n",
            "Adjusted Rand Index: 0.14930007355193636\n",
            "Adjusted Mutual Info: 0.3298052862782741\n",
            "Homogeneity: 0.13002161081183017\n",
            "Completeness: 0.2861160833934387\n",
            "V-Measure: 0.17879309930350362\n",
            "Adjusted Rand Index: 0.055951957901021046\n",
            "Adjusted Mutual Info: 0.17798749606369157\n",
            "Homogeneity: 0.1073016661894311\n",
            "Completeness: 0.28560405279661655\n",
            "V-Measure: 0.1559956460527848\n",
            "Adjusted Rand Index: 0.034574594700247055\n",
            "Adjusted Mutual Info: 0.15511970086493881\n"
          ]
        }
      ]
    },
    {
      "cell_type": "markdown",
      "source": [
        "# Question 19"
      ],
      "metadata": {
        "id": "bIJVnynOiA8Z"
      }
    },
    {
      "cell_type": "markdown",
      "source": [
        "VGG can be a useful feature extractor even due to the domain gap between the training and validation datasets because the training dataset is large. It was likely trained on the ImageNet dataset which contains millions of images. Even though the classes are different than the flowers dataset, it likely learned to extract features for general images due to the large size of the training dataset."
      ],
      "metadata": {
        "id": "l_o46KmtiFyj"
      }
    },
    {
      "cell_type": "markdown",
      "source": [
        "# Question 20"
      ],
      "metadata": {
        "id": "6llSHHbBj7uP"
      }
    },
    {
      "cell_type": "markdown",
      "source": [
        "The helper code performs feature extraction by using the Autoencoder to reconstruct the input dataset. The loss used to train the network is the reconstruction error (MSE) between the output and input images in a batch. Once the network is trained, the feature vectors are extracted from the narrowest part of the U-net architecture (eg. the output of the encoder)."
      ],
      "metadata": {
        "id": "nNlh2w6Uj9Gg"
      }
    },
    {
      "cell_type": "markdown",
      "source": [
        "# Question 21"
      ],
      "metadata": {
        "id": "QeBXuJwOjSLa"
      }
    },
    {
      "cell_type": "markdown",
      "source": [
        "All images in the dataset have a resolution of 224x224. The feature vectors are of dimension 4096"
      ],
      "metadata": {
        "id": "2ek_l6FfjTRd"
      }
    },
    {
      "cell_type": "markdown",
      "source": [
        "# Question 22"
      ],
      "metadata": {
        "id": "BtO04L0jiokn"
      }
    },
    {
      "cell_type": "code",
      "source": [
        "import torch\n",
        "import torch.nn as nn\n",
        "from torchvision import transforms, datasets\n",
        "from torch.utils.data import DataLoader, TensorDataset\n",
        "import numpy as np\n",
        "import matplotlib.pyplot as plt\n",
        "\n",
        "from tqdm import tqdm\n",
        "import requests\n",
        "import os\n",
        "import tarfile\n",
        "\n",
        "from sklearn.preprocessing import StandardScaler\n",
        "from sklearn.decomposition import PCA\n",
        "from sklearn.cluster import KMeans\n",
        "from sklearn.metrics import confusion_matrix, adjusted_rand_score, adjusted_mutual_info_score\n",
        "from sklearn.pipeline import Pipeline\n",
        "from sklearn.base import TransformerMixin"
      ],
      "metadata": {
        "id": "lO2cg9QCgIkk"
      },
      "execution_count": 9,
      "outputs": []
    },
    {
      "cell_type": "code",
      "source": [
        "filename = './flowers_features_and_labels.npz'\n",
        "\n",
        "if os.path.exists(filename):\n",
        "    file = np.load(filename)\n",
        "    f_all, y_all = file['f_all'], file['y_all']\n",
        "\n",
        "else:\n",
        "    if not os.path.exists('./flower_photos'):\n",
        "        # download the flowers dataset and extract its images\n",
        "        url = 'http://download.tensorflow.org/example_images/flower_photos.tgz'\n",
        "        with open('./flower_photos.tgz', 'wb') as file:\n",
        "            file.write(requests.get(url).content)\n",
        "        with tarfile.open('./flower_photos.tgz') as file:\n",
        "            file.extractall('./')\n",
        "        os.remove('./flower_photos.tgz')\n",
        "\n",
        "    class FeatureExtractor(nn.Module):\n",
        "        def __init__(self):\n",
        "            super().__init__()\n",
        "\n",
        "            vgg = torch.hub.load('pytorch/vision:v0.10.0', 'vgg16', pretrained=True)\n",
        "\n",
        "            # Extract VGG-16 Feature Layers\n",
        "            self.features = list(vgg.features)\n",
        "            self.features = nn.Sequential(*self.features)\n",
        "            # Extract VGG-16 Average Pooling Layer\n",
        "            self.pooling = vgg.avgpool\n",
        "            # Convert the image into one-dimensional vector\n",
        "            self.flatten = nn.Flatten()\n",
        "            # Extract the first part of fully-connected layer from VGG16\n",
        "            self.fc = vgg.classifier[0]\n",
        "\n",
        "        def forward(self, x):\n",
        "            # It will take the input 'x' until it returns the feature vector called 'out'\n",
        "            out = self.features(x)\n",
        "            out = self.pooling(out)\n",
        "            out = self.flatten(out)\n",
        "            out = self.fc(out) \n",
        "            return out \n",
        "\n",
        "    # Initialize the model\n",
        "    assert torch.cuda.is_available()\n",
        "    feature_extractor = FeatureExtractor().cuda().eval()\n",
        "\n",
        "    dataset = datasets.ImageFolder(root='./flower_photos',\n",
        "                                   transform=transforms.Compose([transforms.Resize(224),\n",
        "                                                                 transforms.CenterCrop(224),\n",
        "                                                                 transforms.ToTensor(),\n",
        "                                                                 transforms.Normalize(mean=[0.485, 0.456, 0.406], std=[0.229, 0.224, 0.225])]))\n",
        "    dataloader = DataLoader(dataset, batch_size=64, shuffle=True)\n",
        "\n",
        "    # Extract features and store them on disk\n",
        "    f_all, y_all = np.zeros((0, 4096)), np.zeros((0,))\n",
        "    for x, y in tqdm(dataloader):\n",
        "        with torch.no_grad():\n",
        "            f_all = np.vstack([f_all, feature_extractor(x.cuda()).cpu()])\n",
        "            y_all = np.concatenate([y_all, y])\n",
        "    np.savez(filename, f_all=f_all, y_all=y_all)"
      ],
      "metadata": {
        "id": "PaX5gtmvisMX"
      },
      "execution_count": 10,
      "outputs": []
    },
    {
      "cell_type": "code",
      "source": [
        "print(f_all.shape, y_all.shape)\n",
        "num_features = f_all.shape[1]"
      ],
      "metadata": {
        "colab": {
          "base_uri": "https://localhost:8080/"
        },
        "id": "_0o-jQ8Mi_He",
        "outputId": "923cb604-ccc6-4956-9b19-761c2ccaf1ed"
      },
      "execution_count": 11,
      "outputs": [
        {
          "output_type": "stream",
          "name": "stdout",
          "text": [
            "(3670, 4096) (3670,)\n"
          ]
        }
      ]
    },
    {
      "cell_type": "code",
      "source": [
        "class MLP(torch.nn.Module):\n",
        "    def __init__(self, num_features):\n",
        "        super().__init__()\n",
        "        self.model = nn.Sequential(\n",
        "            nn.Linear(num_features, 1280),\n",
        "            nn.ReLU(True),\n",
        "            nn.Linear(1280, 640),\n",
        "            nn.ReLU(True), \n",
        "            nn.Linear(640, 5),\n",
        "            nn.LogSoftmax(dim=1)\n",
        "        )\n",
        "        self.cuda()\n",
        "    \n",
        "    \n",
        "    def forward(self, X):\n",
        "        return self.model(X)\n",
        "    \n",
        "    def train(self, X, y):\n",
        "        X = torch.tensor(X, dtype=torch.float32, device='cuda')\n",
        "        y = torch.tensor(y, dtype=torch.int64, device='cuda')\n",
        "\n",
        "        self.model.train()\n",
        "        \n",
        "        criterion = nn.NLLLoss()\n",
        "        optimizer = torch.optim.Adam(self.parameters(), lr=1e-3, weight_decay=1e-5)\n",
        "\n",
        "        dataset = TensorDataset(X, y)\n",
        "        dataloader = DataLoader(dataset, batch_size=128, shuffle=True)\n",
        "\n",
        "        for epoch in tqdm(range(100)):\n",
        "            for (X_, y_) in dataloader:\n",
        "                ##################################\n",
        "                # you should implement this part #\n",
        "                ##################################\n",
        "                raise NotImplementedError\n",
        "        return self\n",
        "    \n",
        "    def eval(self, X_test, y_test):\n",
        "        ##################################\n",
        "        # you should implement this part #\n",
        "        ##################################\n",
        "        raise NotImplementedError"
      ],
      "metadata": {
        "id": "2VDaaV_CjDtl"
      },
      "execution_count": 12,
      "outputs": []
    },
    {
      "cell_type": "code",
      "source": [
        "class Autoencoder(torch.nn.Module, TransformerMixin):\n",
        "    def __init__(self, n_components):\n",
        "        super().__init__()\n",
        "        self.n_components = n_components\n",
        "        self.n_features = None  # to be determined with data\n",
        "        self.encoder = None\n",
        "        self.decoder = None\n",
        "        \n",
        "    def _create_encoder(self):\n",
        "        return nn.Sequential(\n",
        "            nn.Linear(4096, 1280),\n",
        "            nn.ReLU(True),\n",
        "            nn.Linear(1280, 640),\n",
        "            nn.ReLU(True), nn.Linear(640, 120), nn.ReLU(True), nn.Linear(120, self.n_components))\n",
        "    \n",
        "    def _create_decoder(self):\n",
        "        return nn.Sequential(\n",
        "            nn.Linear(self.n_components, 120),\n",
        "            nn.ReLU(True),\n",
        "            nn.Linear(120, 640),\n",
        "            nn.ReLU(True),\n",
        "            nn.Linear(640, 1280),\n",
        "            nn.ReLU(True), nn.Linear(1280, 4096))\n",
        "    \n",
        "    def forward(self, X):\n",
        "        encoded = self.encoder(X)\n",
        "        decoded = self.decoder(encoded)\n",
        "        return decoded\n",
        "    \n",
        "    def fit(self, X):\n",
        "        X = torch.tensor(X, dtype=torch.float32, device='cuda')\n",
        "        self.n_features = X.shape[1]\n",
        "        self.encoder = self._create_encoder()\n",
        "        self.decoder = self._create_decoder()\n",
        "        self.cuda()\n",
        "        self.train()\n",
        "        \n",
        "        criterion = nn.MSELoss()\n",
        "        optimizer = torch.optim.Adam(self.parameters(), lr=1e-3, weight_decay=1e-5)\n",
        "\n",
        "        dataset = TensorDataset(X)\n",
        "        dataloader = DataLoader(dataset, batch_size=128, shuffle=True)\n",
        "\n",
        "        for epoch in tqdm(range(100)):\n",
        "            for (X_,) in dataloader:\n",
        "                X_ = X_.cuda()\n",
        "                # ===================forward=====================\n",
        "                output = self(X_)\n",
        "                loss = criterion(output, X_)\n",
        "                # ===================backward====================\n",
        "                optimizer.zero_grad()\n",
        "                loss.backward()\n",
        "                optimizer.step()\n",
        "\n",
        "        return self     \n",
        "        \n",
        "    def transform(self, X):\n",
        "        X = torch.tensor(X, dtype=torch.float32, device='cuda')\n",
        "        self.eval()\n",
        "        with torch.no_grad():\n",
        "            return self.encoder(X).cpu().numpy()"
      ],
      "metadata": {
        "id": "g9qH1FekjGjG"
      },
      "execution_count": 13,
      "outputs": []
    },
    {
      "cell_type": "code",
      "source": [
        "X_em =Autoencoder(2).fit_transform(f_all)\n",
        "plt.scatter(*X_em.T, c=y_all)"
      ],
      "metadata": {
        "colab": {
          "base_uri": "https://localhost:8080/",
          "height": 300
        },
        "id": "fTmRVP89jKzh",
        "outputId": "393c8f2b-38af-49ad-eed1-25b1fe51593d"
      },
      "execution_count": 14,
      "outputs": [
        {
          "output_type": "stream",
          "name": "stderr",
          "text": [
            "100%|██████████| 100/100 [00:32<00:00,  3.08it/s]\n"
          ]
        },
        {
          "output_type": "execute_result",
          "data": {
            "text/plain": [
              "<matplotlib.collections.PathCollection at 0x7fe1901f2220>"
            ]
          },
          "metadata": {},
          "execution_count": 14
        },
        {
          "output_type": "display_data",
          "data": {
            "text/plain": [
              "<Figure size 432x288 with 1 Axes>"
            ],
            "image/png": "[encoded data removed]"
          },
          "metadata": {
            "needs_background": "light"
          }
        }
      ]
    },
    {
      "cell_type": "code",
      "source": [
        "print(vectorized_train.shape)\n",
        "print(f_all.shape)\n",
        "\n",
        "# print(np.sum(vectorized_train == 0.0) / (11314*38869))\n",
        "print(np.sum(f_all <= 1e-5) / (3670*4096))"
      ],
      "metadata": {
        "colab": {
          "base_uri": "https://localhost:8080/"
        },
        "id": "K7X6erTIjNqc",
        "outputId": "5d58472e-1afd-4c59-d93e-877cc8556bbe"
      },
      "execution_count": 15,
      "outputs": [
        {
          "output_type": "stream",
          "name": "stdout",
          "text": [
            "(11314, 38869)\n",
            "(3670, 4096)\n",
            "0.7160752964279632\n"
          ]
        }
      ]
    },
    {
      "cell_type": "markdown",
      "source": [
        "About 71% of values are close to zero, so the features are sparse."
      ],
      "metadata": {
        "id": "yd50jzQWqspY"
      }
    },
    {
      "cell_type": "markdown",
      "source": [
        "# Question 24"
      ],
      "metadata": {
        "id": "YLV8cDQlqxO3"
      }
    },
    {
      "cell_type": "markdown",
      "source": [
        "## No Dim Red"
      ],
      "metadata": {
        "id": "RRL_DBksrICh"
      }
    },
    {
      "cell_type": "code",
      "source": [
        "from sklearn.cluster import AgglomerativeClustering\n",
        "from hdbscan import HDBSCAN\n",
        "\n",
        "# kmeans\n",
        "print(\"K means\")\n",
        "kmeans = KMeans(n_clusters=5, random_state=0, max_iter=1000, n_init=30).fit(f_all)\n",
        "report(kmeans.labels_, y_all)\n",
        "\n",
        "# Agglomerative\n",
        "print(\"Agglomerative Clustering\")\n",
        "agg_cluster = AgglomerativeClustering(n_clusters=5, linkage='ward').fit(f_all)\n",
        "report(agg_cluster.labels_, y_all)\n",
        "\n",
        "# HDBSCAN\n",
        "print(\"HDBSCAN\")\n",
        "clusterer = HDBSCAN(min_cluster_size=20).fit(f_all)\n",
        "report(clusterer.labels_, y_all)"
      ],
      "metadata": {
        "colab": {
          "base_uri": "https://localhost:8080/"
        },
        "id": "V0Lffnbrnx3c",
        "outputId": "17ff59f8-4328-427a-d766-61da93ccbce9"
      },
      "execution_count": 18,
      "outputs": [
        {
          "output_type": "stream",
          "name": "stdout",
          "text": [
            "K means\n",
            "Homogeneity: 0.32625500139012326\n",
            "Completeness: 0.36062496746782624\n",
            "V-Measure: 0.3425800855953062\n",
            "Adjusted Rand Index: 0.19330907774727044\n",
            "Adjusted Mutual Info: 0.34163621996164256\n",
            "Agglomerative Clustering\n",
            "Homogeneity: 0.357423727296284\n",
            "Completeness: 0.41402546658906453\n",
            "V-Measure: 0.3836481433561248\n",
            "Adjusted Rand Index: 0.18855278251971858\n",
            "Adjusted Mutual Info: 0.3827433388813023\n",
            "HDBSCAN\n",
            "Homogeneity: 1.3876720518042915e-16\n",
            "Completeness: 1.0\n",
            "V-Measure: 2.7753441036085825e-16\n",
            "Adjusted Rand Index: 0.0\n",
            "Adjusted Mutual Info: 5.0062065300172974e-17\n"
          ]
        }
      ]
    },
    {
      "cell_type": "markdown",
      "source": [
        "## SVD"
      ],
      "metadata": {
        "id": "rUSu85DkrJP3"
      }
    },
    {
      "cell_type": "code",
      "source": [
        "from sklearn.decomposition import TruncatedSVD\n",
        "\n",
        "reduced = TruncatedSVD(n_components=50).fit_transform(f_all)\n",
        "\n",
        "# kmeans\n",
        "print(\"K means\")\n",
        "kmeans = KMeans(n_clusters=5, random_state=0, max_iter=1000, n_init=30).fit(reduced)\n",
        "report(kmeans.labels_, y_all)\n",
        "\n",
        "# Agglomerative\n",
        "print(\"Agglomerative Clustering\")\n",
        "agg_cluster = AgglomerativeClustering(n_clusters=5, linkage='ward').fit(reduced)\n",
        "report(agg_cluster.labels_, y_all)\n",
        "\n",
        "# HDBSCAN\n",
        "print(\"HDBSCAN\")\n",
        "clusterer = HDBSCAN(min_cluster_size=20).fit(reduced)\n",
        "report(clusterer.labels_, y_all)"
      ],
      "metadata": {
        "colab": {
          "base_uri": "https://localhost:8080/"
        },
        "id": "eonNcAGfqKFr",
        "outputId": "b7700790-dcdb-4c55-878d-3757294981db"
      },
      "execution_count": 20,
      "outputs": [
        {
          "output_type": "stream",
          "name": "stdout",
          "text": [
            "K means\n",
            "Homogeneity: 0.3244827352596559\n",
            "Completeness: 0.3593829561409272\n",
            "V-Measure: 0.34104230137786257\n",
            "Adjusted Rand Index: 0.18965257345555342\n",
            "Adjusted Mutual Info: 0.3400953275418203\n",
            "Agglomerative Clustering\n",
            "Homogeneity: 0.3079101013140291\n",
            "Completeness: 0.362235509549504\n",
            "V-Measure: 0.33287085862191723\n",
            "Adjusted Rand Index: 0.14488388237459995\n",
            "Adjusted Mutual Info: 0.3318844652680616\n",
            "HDBSCAN\n",
            "Homogeneity: 1.3876720518042915e-16\n",
            "Completeness: 1.0\n",
            "V-Measure: 2.7753441036085825e-16\n",
            "Adjusted Rand Index: 0.0\n",
            "Adjusted Mutual Info: 5.0062065300172974e-17\n"
          ]
        }
      ]
    },
    {
      "cell_type": "markdown",
      "source": [
        "## UMAP"
      ],
      "metadata": {
        "id": "hTKy3ZIErNe9"
      }
    },
    {
      "cell_type": "code",
      "source": [
        "reducer = umap.UMAP(metric='cosine', n_components=50)\n",
        "reduced = reducer.fit_transform(f_all)\n",
        "\n",
        "# kmeans\n",
        "print(\"K means\")\n",
        "kmeans = KMeans(n_clusters=5, random_state=0, max_iter=1000, n_init=30).fit(reduced)\n",
        "report(kmeans.labels_, y_all)\n",
        "\n",
        "# Agglomerative\n",
        "print(\"Agglomerative Clustering\")\n",
        "agg_cluster = AgglomerativeClustering(n_clusters=5, linkage='ward').fit(reduced)\n",
        "report(agg_cluster.labels_, y_all)\n",
        "\n",
        "# HDBSCAN\n",
        "print(\"HDBSCAN\")\n",
        "clusterer = HDBSCAN(min_cluster_size=20).fit(reduced)\n",
        "report(clusterer.labels_, y_all)"
      ],
      "metadata": {
        "id": "82V8JwcyrRVU"
      },
      "execution_count": null,
      "outputs": []
    },
    {
      "cell_type": "markdown",
      "source": [
        "## Autoencoder"
      ],
      "metadata": {
        "id": "p9TjKbdzrR6S"
      }
    },
    {
      "cell_type": "code",
      "source": [
        "reduced =Autoencoder(50).fit_transform(f_all)\n",
        "\n",
        "# kmeans\n",
        "print(\"K means\")\n",
        "kmeans = KMeans(n_clusters=5, random_state=0, max_iter=1000, n_init=30).fit(reduced)\n",
        "report(kmeans.labels_, y_all)\n",
        "\n",
        "# Agglomerative\n",
        "print(\"Agglomerative Clustering\")\n",
        "agg_cluster = AgglomerativeClustering(n_clusters=5, linkage='ward').fit(reduced)\n",
        "report(agg_cluster.labels_, y_all)\n",
        "\n",
        "# HDBSCAN\n",
        "print(\"HDBSCAN\")\n",
        "clusterer = HDBSCAN(min_cluster_size=20).fit(reduced)\n",
        "report(clusterer.labels_, y_all)"
      ],
      "metadata": {
        "id": "bhqTFauMrTAo"
      },
      "execution_count": null,
      "outputs": []
    },
    {
      "cell_type": "markdown",
      "source": [
        "# Question 25"
      ],
      "metadata": {
        "id": "SQ_J50fbuC3G"
      }
    },
    {
      "cell_type": "code",
      "source": [],
      "metadata": {
        "id": "ye7wKN08uFRB"
      },
      "execution_count": null,
      "outputs": []
    }
  ],
  "metadata": {
    "colab": {
      "collapsed_sections": [
        "V9D_s5wq8YPf",
        "2D3BbOFp-qOX",
        "ZaEo1TJT_jhk",
        "7XLHQkaGBimS",
        "gH6ucZLGJL0v",
        "FoP-f1lLeJ7c"
      ],
      "provenance": []
    },
    "kernelspec": {
      "display_name": "Python 3",
      "name": "python3"
    },
    "language_info": {
      "name": "python"
    },
    "accelerator": "GPU",
    "gpuClass": "standard"
  },
  "nbformat": 4,
  "nbformat_minor": 0
}